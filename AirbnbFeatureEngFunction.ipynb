{
 "cells": [
  {
   "cell_type": "code",
   "execution_count": 27,
   "metadata": {},
   "outputs": [],
   "source": [
    "#Import libraries\n",
    "from datetime import datetime\n",
    "import pandas as pd\n",
    "import numpy as np\n",
    "import statsmodels.api as sm\n",
    "from statsmodels.formula.api import ols\n",
    "import matplotlib.pyplot as plt\n",
    "import seaborn as sns\n",
    "from scipy.stats import pearsonr\n",
    "from scipy.stats import norm\n",
    "from scipy import stats\n",
    "import scipy as sp\n",
    "import warnings\n",
    "from sklearn.model_selection import train_test_split\n",
    "from sklearn.linear_model import LinearRegression\n",
    "from sklearn import metrics\n",
    "from sklearn.model_selection import cross_val_score\n",
    "from sklearn.feature_selection import f_regression\n",
    "sns.set()\n",
    "from sklearn.preprocessing import StandardScaler\n",
    "from sklearn.preprocessing import PolynomialFeatures\n",
    "from sklearn.linear_model import Lasso\n",
    "from sklearn.linear_model import Ridge\n",
    "from sklearn.metrics import mean_squared_error, r2_score\n",
    "from sklearn.linear_model import ElasticNet\n",
    "from sklearn.linear_model import ElasticNetCV\n",
    "from sklearn.model_selection import GridSearchCV\n",
    "warnings.filterwarnings(\"ignore\")\n",
    "plt.style.use('seaborn')\n",
    "%matplotlib inline\n",
    "pd.set_option('display.max_columns', 300)"
   ]
  },
  {
   "cell_type": "code",
   "execution_count": 28,
   "metadata": {},
   "outputs": [],
   "source": [
    "df = pd.read_csv('list_working.csv',index_col=0)"
   ]
  },
  {
   "cell_type": "code",
   "execution_count": 42,
   "metadata": {},
   "outputs": [
    {
     "data": {
      "text/plain": [
       "<Figure size 432x288 with 0 Axes>"
      ]
     },
     "metadata": {},
     "output_type": "display_data"
    }
   ],
   "source": [
    "%run -i 'MakeModel.py'"
   ]
  },
  {
   "cell_type": "code",
   "execution_count": 34,
   "metadata": {},
   "outputs": [
    {
     "data": {
      "text/plain": [
       "Index(['host_response_rate', 'host_is_superhost', 'host_total_listings_count',\n",
       "       'latitude', 'longitude', 'accommodates', 'bathrooms', 'bedrooms',\n",
       "       'beds', 'guests_included', 'extra_people', 'minimum_nights',\n",
       "       'number_of_reviews', 'review_scores_rating', 'instant_bookable',\n",
       "       'room_Private room', 'nbrhd_Bernal Heights',\n",
       "       'nbrhd_Castro/Upper Market', 'nbrhd_Chinatown', 'nbrhd_Crocker Amazon',\n",
       "       'nbrhd_Diamond Heights', 'nbrhd_Downtown/Civic Center',\n",
       "       'nbrhd_Excelsior', 'nbrhd_Financial District', 'nbrhd_Glen Park',\n",
       "       'nbrhd_Golden Gate Park', 'nbrhd_Haight Ashbury',\n",
       "       'nbrhd_Inner Richmond', 'nbrhd_Inner Sunset', 'nbrhd_Lakeshore',\n",
       "       'nbrhd_Marina', 'nbrhd_Mission', 'nbrhd_Nob Hill', 'nbrhd_Noe Valley',\n",
       "       'nbrhd_North Beach', 'nbrhd_Ocean View', 'nbrhd_Outer Mission',\n",
       "       'nbrhd_Outer Richmond', 'nbrhd_Outer Sunset', 'nbrhd_Pacific Heights',\n",
       "       'nbrhd_Parkside', 'nbrhd_Potrero Hill', 'nbrhd_Presidio',\n",
       "       'nbrhd_Presidio Heights', 'nbrhd_Russian Hill', 'nbrhd_Seacliff',\n",
       "       'nbrhd_South of Market', 'nbrhd_Twin Peaks', 'nbrhd_Visitacion Valley',\n",
       "       'nbrhd_West of Twin Peaks', 'nbrhd_Western Addition',\n",
       "       'prop_Condominium', 'prop_Guest suite', 'prop_House'],\n",
       "      dtype='object')"
      ]
     },
     "execution_count": 34,
     "metadata": {},
     "output_type": "execute_result"
    }
   ],
   "source": [
    "df_tgt = df.price\n",
    "df_feat = df.drop(['price'], axis=1)\n",
    "df_feat.head()\n",
    "df_feat.columns"
   ]
  },
  {
   "cell_type": "code",
   "execution_count": null,
   "metadata": {},
   "outputs": [],
   "source": [
    "#make_models(df_feat, df_tgt, num_iter=10, models=['enet'], complexity='poly_intx', degree=2)"
   ]
  },
  {
   "cell_type": "markdown",
   "metadata": {},
   "source": [
    "## Splitting into feature and target"
   ]
  },
  {
   "cell_type": "code",
   "execution_count": 39,
   "metadata": {},
   "outputs": [
    {
     "data": {
      "text/html": [
       "<div>\n",
       "<style scoped>\n",
       "    .dataframe tbody tr th:only-of-type {\n",
       "        vertical-align: middle;\n",
       "    }\n",
       "\n",
       "    .dataframe tbody tr th {\n",
       "        vertical-align: top;\n",
       "    }\n",
       "\n",
       "    .dataframe thead th {\n",
       "        text-align: right;\n",
       "    }\n",
       "</style>\n",
       "<table border=\"1\" class=\"dataframe\">\n",
       "  <thead>\n",
       "    <tr style=\"text-align: right;\">\n",
       "      <th></th>\n",
       "      <th>bedrooms</th>\n",
       "      <th>room_Private room</th>\n",
       "      <th>minimum_nights</th>\n",
       "      <th>latitude</th>\n",
       "      <th>number_of_reviews</th>\n",
       "      <th>bathrooms</th>\n",
       "      <th>extra_people</th>\n",
       "      <th>accommodates</th>\n",
       "      <th>review_scores_rating</th>\n",
       "      <th>prop_Guest suite</th>\n",
       "      <th>longitude</th>\n",
       "      <th>beds</th>\n",
       "      <th>number_of_reviews</th>\n",
       "      <th>host_response_rate</th>\n",
       "      <th>prop_House</th>\n",
       "      <th>guests_included</th>\n",
       "      <th>prop_Condominium</th>\n",
       "    </tr>\n",
       "  </thead>\n",
       "  <tbody>\n",
       "    <tr>\n",
       "      <td>0</td>\n",
       "      <td>1.0</td>\n",
       "      <td>0</td>\n",
       "      <td>1</td>\n",
       "      <td>37.76931</td>\n",
       "      <td>217</td>\n",
       "      <td>1.0</td>\n",
       "      <td>25.0</td>\n",
       "      <td>3</td>\n",
       "      <td>97.0</td>\n",
       "      <td>0</td>\n",
       "      <td>-122.43386</td>\n",
       "      <td>2.0</td>\n",
       "      <td>217</td>\n",
       "      <td>100</td>\n",
       "      <td>0</td>\n",
       "      <td>2</td>\n",
       "      <td>0</td>\n",
       "    </tr>\n",
       "    <tr>\n",
       "      <td>1</td>\n",
       "      <td>1.0</td>\n",
       "      <td>1</td>\n",
       "      <td>1</td>\n",
       "      <td>37.75402</td>\n",
       "      <td>160</td>\n",
       "      <td>1.0</td>\n",
       "      <td>20.0</td>\n",
       "      <td>2</td>\n",
       "      <td>94.0</td>\n",
       "      <td>0</td>\n",
       "      <td>-122.45805</td>\n",
       "      <td>1.0</td>\n",
       "      <td>160</td>\n",
       "      <td>100</td>\n",
       "      <td>1</td>\n",
       "      <td>2</td>\n",
       "      <td>0</td>\n",
       "    </tr>\n",
       "    <tr>\n",
       "      <td>2</td>\n",
       "      <td>2.0</td>\n",
       "      <td>0</td>\n",
       "      <td>30</td>\n",
       "      <td>37.74511</td>\n",
       "      <td>111</td>\n",
       "      <td>1.0</td>\n",
       "      <td>0.0</td>\n",
       "      <td>5</td>\n",
       "      <td>98.0</td>\n",
       "      <td>0</td>\n",
       "      <td>-122.42102</td>\n",
       "      <td>3.0</td>\n",
       "      <td>111</td>\n",
       "      <td>80</td>\n",
       "      <td>0</td>\n",
       "      <td>2</td>\n",
       "      <td>0</td>\n",
       "    </tr>\n",
       "    <tr>\n",
       "      <td>3</td>\n",
       "      <td>1.0</td>\n",
       "      <td>1</td>\n",
       "      <td>32</td>\n",
       "      <td>37.76669</td>\n",
       "      <td>18</td>\n",
       "      <td>4.0</td>\n",
       "      <td>12.0</td>\n",
       "      <td>2</td>\n",
       "      <td>86.0</td>\n",
       "      <td>0</td>\n",
       "      <td>-122.45250</td>\n",
       "      <td>1.0</td>\n",
       "      <td>18</td>\n",
       "      <td>86</td>\n",
       "      <td>0</td>\n",
       "      <td>1</td>\n",
       "      <td>0</td>\n",
       "    </tr>\n",
       "    <tr>\n",
       "      <td>4</td>\n",
       "      <td>1.0</td>\n",
       "      <td>1</td>\n",
       "      <td>32</td>\n",
       "      <td>37.76487</td>\n",
       "      <td>8</td>\n",
       "      <td>4.0</td>\n",
       "      <td>12.0</td>\n",
       "      <td>2</td>\n",
       "      <td>93.0</td>\n",
       "      <td>0</td>\n",
       "      <td>-122.45183</td>\n",
       "      <td>1.0</td>\n",
       "      <td>8</td>\n",
       "      <td>86</td>\n",
       "      <td>0</td>\n",
       "      <td>1</td>\n",
       "      <td>0</td>\n",
       "    </tr>\n",
       "  </tbody>\n",
       "</table>\n",
       "</div>"
      ],
      "text/plain": [
       "   bedrooms  room_Private room  minimum_nights  latitude  number_of_reviews  \\\n",
       "0       1.0                  0               1  37.76931                217   \n",
       "1       1.0                  1               1  37.75402                160   \n",
       "2       2.0                  0              30  37.74511                111   \n",
       "3       1.0                  1              32  37.76669                 18   \n",
       "4       1.0                  1              32  37.76487                  8   \n",
       "\n",
       "   bathrooms  extra_people  accommodates  review_scores_rating  \\\n",
       "0        1.0          25.0             3                  97.0   \n",
       "1        1.0          20.0             2                  94.0   \n",
       "2        1.0           0.0             5                  98.0   \n",
       "3        4.0          12.0             2                  86.0   \n",
       "4        4.0          12.0             2                  93.0   \n",
       "\n",
       "   prop_Guest suite  longitude  beds  number_of_reviews  host_response_rate  \\\n",
       "0                 0 -122.43386   2.0                217                 100   \n",
       "1                 0 -122.45805   1.0                160                 100   \n",
       "2                 0 -122.42102   3.0                111                  80   \n",
       "3                 0 -122.45250   1.0                 18                  86   \n",
       "4                 0 -122.45183   1.0                  8                  86   \n",
       "\n",
       "   prop_House  guests_included  prop_Condominium  \n",
       "0           0                2                 0  \n",
       "1           1                2                 0  \n",
       "2           0                2                 0  \n",
       "3           0                1                 0  \n",
       "4           0                1                 0  "
      ]
     },
     "execution_count": 39,
     "metadata": {},
     "output_type": "execute_result"
    }
   ],
   "source": [
    "df_tgt = df.price\n",
    "df_feat2 = df[['bedrooms','room_Private room','minimum_nights','latitude','number_of_reviews','bathrooms','extra_people',\n",
    " 'accommodates',\n",
    " 'review_scores_rating',\n",
    " 'prop_Guest suite',\n",
    " 'longitude',\n",
    " 'beds',\n",
    " 'number_of_reviews',\n",
    " 'host_response_rate',\n",
    " 'prop_House',\n",
    " 'guests_included',\n",
    " 'prop_Condominium']]\n",
    "df_feat2.head()"
   ]
  },
  {
   "cell_type": "code",
   "execution_count": 44,
   "metadata": {},
   "outputs": [
    {
     "data": {
      "text/plain": [
       "({'ridge': Ridge(alpha=0.0001, copy_X=True, fit_intercept=True, max_iter=100,\n",
       "        normalize=False, random_state=None, solver='auto', tol=0.001)},\n",
       " {'ridge_train_rmse': 85.097227012789,\n",
       "  'ridge_test_rmse': 85.74429443691619,\n",
       "  'ridge_test_r2': 0.663454763136186,\n",
       "  'ridge_train_r2': 0.6394467307419287})"
      ]
     },
     "execution_count": 44,
     "metadata": {},
     "output_type": "execute_result"
    },
    {
     "data": {
      "image/png": "[encoded data removed]",
      "text/plain": [
       "<Figure size 432x288 with 1 Axes>"
      ]
     },
     "metadata": {
      "needs_background": "light"
     },
     "output_type": "display_data"
    }
   ],
   "source": [
    "make_models(df_feat2, df_tgt, num_iter=10, models=['ridge'], complexity='poly_intx', degree=2)"
   ]
  },
  {
   "cell_type": "code",
   "execution_count": null,
   "metadata": {},
   "outputs": [],
   "source": []
  }
 ],
 "metadata": {
  "kernelspec": {
   "display_name": "Python 3",
   "language": "python",
   "name": "python3"
  },
  "language_info": {
   "codemirror_mode": {
    "name": "ipython",
    "version": 3
   },
   "file_extension": ".py",
   "mimetype": "text/x-python",
   "name": "python",
   "nbconvert_exporter": "python",
   "pygments_lexer": "ipython3",
   "version": "3.7.4"
  }
 },
 "nbformat": 4,
 "nbformat_minor": 2
}
