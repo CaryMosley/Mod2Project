{
 "cells": [
  {
   "cell_type": "code",
   "execution_count": 1,
   "metadata": {},
   "outputs": [],
   "source": [
    "import pandas as pd\n",
    "from sklearn.model_selection import train_test_split\n",
    "from sklearn import linear_model\n",
    "from sklearn.metrics import mean_squared_error\n",
    "from sklearn.metrics import mean_absolute_error\n",
    "#\n",
    "from sklearn.preprocessing import PolynomialFeatures\n",
    "poly = PolynomialFeatures()\n",
    "#\n",
    "import os\n",
    "import numpy as np\n",
    "import scipy.stats as stats\n",
    "from statsmodels.formula.api import ols\n",
    "import statsmodels.api as sm\n",
    "import matplotlib.pyplot as plt\n",
    "import seaborn as sns\n",
    "%matplotlib inline\n",
    "from statsmodels.stats.multicomp import pairwise_tukeyhsd\n",
    "from statsmodels.stats.multicomp import MultiComparison\n",
    "#\n",
    "from sklearn.preprocessing import LabelEncoder\n",
    "make_lb = LabelEncoder()\n",
    "#\n",
    "from sklearn.preprocessing import LabelBinarizer\n",
    "lbb = LabelBinarizer()\n",
    "#\n",
    "from sklearn.linear_model import LinearRegression\n",
    "linreg = LinearRegression()\n",
    "#\n",
    "from sklearn.model_selection import cross_val_score\n",
    "from sklearn.preprocessing import PolynomialFeatures\n",
    "from sklearn.linear_model import Lasso\n",
    "from sklearn.linear_model import Ridge\n",
    "#\n",
    "from sklearn.preprocessing import StandardScaler\n",
    "scaler = StandardScaler()\n",
    "#\n",
    "import pickle\n",
    "#\n",
    "from sklearn.linear_model import Lasso, LogisticRegression\n",
    "from sklearn.feature_selection import SelectFromModel\n",
    "from sklearn.linear_model import LassoCV\n",
    "# \n",
    "from sklearn.model_selection import GridSearchCV\n"
   ]
  },
  {
   "cell_type": "markdown",
   "metadata": {},
   "source": [
    "---"
   ]
  },
  {
   "cell_type": "markdown",
   "metadata": {},
   "source": [
    "## EDA"
   ]
  },
  {
   "cell_type": "code",
   "execution_count": null,
   "metadata": {},
   "outputs": [],
   "source": [
    "listings.shape"
   ]
  },
  {
   "cell_type": "code",
   "execution_count": null,
   "metadata": {},
   "outputs": [],
   "source": [
    "listings.dropna(inplace=True)"
   ]
  },
  {
   "cell_type": "code",
   "execution_count": 4,
   "metadata": {},
   "outputs": [],
   "source": [
    "listings.dropna(subset=['host_response_rate'], inplace=True)"
   ]
  },
  {
   "cell_type": "code",
   "execution_count": 6,
   "metadata": {},
   "outputs": [],
   "source": [
    "listings.reset_index(drop=True, inplace=True)"
   ]
  },
  {
   "cell_type": "code",
   "execution_count": 21,
   "metadata": {},
   "outputs": [],
   "source": [
    "listings['host_response_rate'] = listings['host_response_rate'].map(lambda x: x.replace('%', ''))\n",
    "# listings['price'] = listings['price'].map(lambda x: x.replace('$', ''))\n",
    "listings['price'] = listings['price'].map(lambda x: x.replace(',', ''))"
   ]
  },
  {
   "cell_type": "code",
   "execution_count": 22,
   "metadata": {},
   "outputs": [],
   "source": [
    "listings['price'] = listings['price'].astype('float')"
   ]
  },
  {
   "cell_type": "code",
   "execution_count": 23,
   "metadata": {},
   "outputs": [],
   "source": [
    "# Making np.arrays of prices from different host response rates\n",
    "pr_100 = np.where(listings['host_response_rate']==100, listings['price'], 0)\n",
    "prn_100 = np.where(listings['host_response_rate']<100, listings['price'], 0)\n"
   ]
  },
  {
   "cell_type": "code",
   "execution_count": 33,
   "metadata": {},
   "outputs": [],
   "source": [
    "# Refining the lists to only include valid prices\n",
    "# For each type of response rate\n",
    "prf_100 = []\n",
    "for num in pr_100:\n",
    "    if num > 0:\n",
    "        prf_100.append(num)\n",
    "prnf_100 = []\n",
    "for num in prn_100:\n",
    "    if num > 0:\n",
    "        prnf_100.append(num)"
   ]
  },
  {
   "cell_type": "code",
   "execution_count": 35,
   "metadata": {},
   "outputs": [
    {
     "data": {
      "text/plain": [
       "Ttest_indResult(statistic=-3.0144974230202326, pvalue=0.0025831059310148685)"
      ]
     },
     "execution_count": 35,
     "metadata": {},
     "output_type": "execute_result"
    }
   ],
   "source": [
    "# Two sample t test to see if the means are significantly different\n",
    "stats.ttest_ind(prnf_100, prf_100, equal_var=True)"
   ]
  },
  {
   "cell_type": "markdown",
   "metadata": {},
   "source": [
    "Cannot conclude that those who respond 100% of the time have higher prices than those who do not respond 100% of the time."
   ]
  },
  {
   "cell_type": "code",
   "execution_count": 36,
   "metadata": {},
   "outputs": [],
   "source": [
    "listings = listings[['host_is_superhost', 'host_total_listings_count',\n",
    "       'neighbourhood_cleansed', 'latitude', 'longitude', 'property_type',\n",
    "       'room_type', 'accommodates', 'bathrooms', 'bedrooms', 'beds', 'price',\n",
    "       'guests_included', 'extra_people', 'minimum_nights',\n",
    "       'number_of_reviews', 'review_scores_rating', 'instant_bookable']]"
   ]
  },
  {
   "cell_type": "code",
   "execution_count": 38,
   "metadata": {},
   "outputs": [
    {
     "data": {
      "text/plain": [
       "(7136, 18)"
      ]
     },
     "execution_count": 38,
     "metadata": {},
     "output_type": "execute_result"
    }
   ],
   "source": [
    "listings.shape"
   ]
  },
  {
   "cell_type": "code",
   "execution_count": 7,
   "metadata": {},
   "outputs": [],
   "source": [
    "listings2 = pd.read_csv('listingsclean2.csv')"
   ]
  },
  {
   "cell_type": "code",
   "execution_count": 8,
   "metadata": {},
   "outputs": [],
   "source": [
    "listings2.drop(columns=['Unnamed: 0'], axis=1, inplace=True)"
   ]
  },
  {
   "cell_type": "code",
   "execution_count": 9,
   "metadata": {},
   "outputs": [
    {
     "data": {
      "text/plain": [
       "<matplotlib.axes._subplots.AxesSubplot at 0x1c1eefab90>"
      ]
     },
     "execution_count": 9,
     "metadata": {},
     "output_type": "execute_result"
    },
    {
     "data": {
      "image/png": "[encoded data removed]",
      "text/plain": [
       "<Figure size 432x288 with 1 Axes>"
      ]
     },
     "metadata": {
      "needs_background": "light"
     },
     "output_type": "display_data"
    }
   ],
   "source": [
    "sns.distplot(listings2['price'])"
   ]
  },
  {
   "cell_type": "code",
   "execution_count": 10,
   "metadata": {},
   "outputs": [
    {
     "data": {
      "text/plain": [
       "count     7114.000000\n",
       "mean       219.825274\n",
       "std        407.912788\n",
       "min          0.000000\n",
       "25%         99.000000\n",
       "50%        150.000000\n",
       "75%        232.000000\n",
       "max      10000.000000\n",
       "Name: price, dtype: float64"
      ]
     },
     "execution_count": 10,
     "metadata": {},
     "output_type": "execute_result"
    }
   ],
   "source": [
    "listings2['price'].describe()"
   ]
  },
  {
   "cell_type": "code",
   "execution_count": 11,
   "metadata": {},
   "outputs": [],
   "source": [
    "listings2 = listings2[listings2['price'] <= 1000]"
   ]
  },
  {
   "cell_type": "code",
   "execution_count": 12,
   "metadata": {},
   "outputs": [
    {
     "data": {
      "text/plain": [
       "host_response_rate           0\n",
       "host_is_superhost            0\n",
       "host_total_listings_count    0\n",
       "neighbourhood_cleansed       0\n",
       "latitude                     0\n",
       "longitude                    0\n",
       "property_type                0\n",
       "room_type                    0\n",
       "accommodates                 0\n",
       "bathrooms                    0\n",
       "bedrooms                     0\n",
       "beds                         0\n",
       "price                        0\n",
       "guests_included              0\n",
       "extra_people                 0\n",
       "minimum_nights               0\n",
       "number_of_reviews            0\n",
       "review_scores_rating         0\n",
       "instant_bookable             0\n",
       "dtype: int64"
      ]
     },
     "execution_count": 12,
     "metadata": {},
     "output_type": "execute_result"
    }
   ],
   "source": [
    "listings2.isnull().sum()"
   ]
  },
  {
   "cell_type": "code",
   "execution_count": 13,
   "metadata": {},
   "outputs": [
    {
     "data": {
      "text/plain": [
       "<matplotlib.axes._subplots.AxesSubplot at 0x1c1e716550>"
      ]
     },
     "execution_count": 13,
     "metadata": {},
     "output_type": "execute_result"
    },
    {
     "data": {
      "image/png": "[encoded data removed]",
      "text/plain": [
       "<Figure size 1152x864 with 2 Axes>"
      ]
     },
     "metadata": {
      "needs_background": "light"
     },
     "output_type": "display_data"
    }
   ],
   "source": [
    "f, ax = plt.subplots(figsize=(16, 12))\n",
    "matrix = np.triu(listings2.corr())\n",
    "sns.heatmap(listings2.corr(), annot = True, vmin=-1, vmax=1, center= 0, cmap= 'coolwarm', mask = matrix)"
   ]
  },
  {
   "cell_type": "code",
   "execution_count": 14,
   "metadata": {},
   "outputs": [],
   "source": [
    "listings2 = listings2[listings2['minimum_nights'] < 59]"
   ]
  },
  {
   "cell_type": "code",
   "execution_count": 15,
   "metadata": {},
   "outputs": [
    {
     "data": {
      "text/html": [
       "<div>\n",
       "<style scoped>\n",
       "    .dataframe tbody tr th:only-of-type {\n",
       "        vertical-align: middle;\n",
       "    }\n",
       "\n",
       "    .dataframe tbody tr th {\n",
       "        vertical-align: top;\n",
       "    }\n",
       "\n",
       "    .dataframe thead th {\n",
       "        text-align: right;\n",
       "    }\n",
       "</style>\n",
       "<table border=\"1\" class=\"dataframe\">\n",
       "  <thead>\n",
       "    <tr style=\"text-align: right;\">\n",
       "      <th></th>\n",
       "      <th>host_response_rate</th>\n",
       "      <th>host_is_superhost</th>\n",
       "      <th>host_total_listings_count</th>\n",
       "      <th>neighbourhood_cleansed</th>\n",
       "      <th>latitude</th>\n",
       "      <th>longitude</th>\n",
       "      <th>property_type</th>\n",
       "      <th>room_type</th>\n",
       "      <th>accommodates</th>\n",
       "      <th>bathrooms</th>\n",
       "      <th>bedrooms</th>\n",
       "      <th>beds</th>\n",
       "      <th>price</th>\n",
       "      <th>guests_included</th>\n",
       "      <th>extra_people</th>\n",
       "      <th>minimum_nights</th>\n",
       "      <th>number_of_reviews</th>\n",
       "      <th>review_scores_rating</th>\n",
       "      <th>instant_bookable</th>\n",
       "    </tr>\n",
       "  </thead>\n",
       "  <tbody>\n",
       "    <tr>\n",
       "      <td>0</td>\n",
       "      <td>100</td>\n",
       "      <td>1</td>\n",
       "      <td>1.0</td>\n",
       "      <td>Western Addition</td>\n",
       "      <td>37.76931</td>\n",
       "      <td>-122.43386</td>\n",
       "      <td>Apartment</td>\n",
       "      <td>Entire home/apt</td>\n",
       "      <td>3</td>\n",
       "      <td>1.0</td>\n",
       "      <td>1.0</td>\n",
       "      <td>2.0</td>\n",
       "      <td>170.0</td>\n",
       "      <td>2</td>\n",
       "      <td>25.0</td>\n",
       "      <td>1</td>\n",
       "      <td>217</td>\n",
       "      <td>97.000000</td>\n",
       "      <td>0</td>\n",
       "    </tr>\n",
       "    <tr>\n",
       "      <td>1</td>\n",
       "      <td>100</td>\n",
       "      <td>1</td>\n",
       "      <td>2.0</td>\n",
       "      <td>Inner Sunset</td>\n",
       "      <td>37.75402</td>\n",
       "      <td>-122.45805</td>\n",
       "      <td>House</td>\n",
       "      <td>Private room</td>\n",
       "      <td>2</td>\n",
       "      <td>1.0</td>\n",
       "      <td>1.0</td>\n",
       "      <td>1.0</td>\n",
       "      <td>99.0</td>\n",
       "      <td>2</td>\n",
       "      <td>20.0</td>\n",
       "      <td>1</td>\n",
       "      <td>160</td>\n",
       "      <td>94.000000</td>\n",
       "      <td>0</td>\n",
       "    </tr>\n",
       "    <tr>\n",
       "      <td>2</td>\n",
       "      <td>80</td>\n",
       "      <td>0</td>\n",
       "      <td>2.0</td>\n",
       "      <td>Bernal Heights</td>\n",
       "      <td>37.74511</td>\n",
       "      <td>-122.42102</td>\n",
       "      <td>Apartment</td>\n",
       "      <td>Entire home/apt</td>\n",
       "      <td>5</td>\n",
       "      <td>1.0</td>\n",
       "      <td>2.0</td>\n",
       "      <td>3.0</td>\n",
       "      <td>235.0</td>\n",
       "      <td>2</td>\n",
       "      <td>0.0</td>\n",
       "      <td>30</td>\n",
       "      <td>111</td>\n",
       "      <td>98.000000</td>\n",
       "      <td>0</td>\n",
       "    </tr>\n",
       "    <tr>\n",
       "      <td>3</td>\n",
       "      <td>86</td>\n",
       "      <td>1</td>\n",
       "      <td>10.0</td>\n",
       "      <td>Haight Ashbury</td>\n",
       "      <td>37.76669</td>\n",
       "      <td>-122.45250</td>\n",
       "      <td>Apartment</td>\n",
       "      <td>Private room</td>\n",
       "      <td>2</td>\n",
       "      <td>4.0</td>\n",
       "      <td>1.0</td>\n",
       "      <td>1.0</td>\n",
       "      <td>65.0</td>\n",
       "      <td>1</td>\n",
       "      <td>12.0</td>\n",
       "      <td>32</td>\n",
       "      <td>18</td>\n",
       "      <td>86.000000</td>\n",
       "      <td>0</td>\n",
       "    </tr>\n",
       "    <tr>\n",
       "      <td>4</td>\n",
       "      <td>86</td>\n",
       "      <td>1</td>\n",
       "      <td>10.0</td>\n",
       "      <td>Haight Ashbury</td>\n",
       "      <td>37.76487</td>\n",
       "      <td>-122.45183</td>\n",
       "      <td>Apartment</td>\n",
       "      <td>Private room</td>\n",
       "      <td>2</td>\n",
       "      <td>4.0</td>\n",
       "      <td>1.0</td>\n",
       "      <td>1.0</td>\n",
       "      <td>65.0</td>\n",
       "      <td>1</td>\n",
       "      <td>12.0</td>\n",
       "      <td>32</td>\n",
       "      <td>8</td>\n",
       "      <td>93.000000</td>\n",
       "      <td>0</td>\n",
       "    </tr>\n",
       "    <tr>\n",
       "      <td>...</td>\n",
       "      <td>...</td>\n",
       "      <td>...</td>\n",
       "      <td>...</td>\n",
       "      <td>...</td>\n",
       "      <td>...</td>\n",
       "      <td>...</td>\n",
       "      <td>...</td>\n",
       "      <td>...</td>\n",
       "      <td>...</td>\n",
       "      <td>...</td>\n",
       "      <td>...</td>\n",
       "      <td>...</td>\n",
       "      <td>...</td>\n",
       "      <td>...</td>\n",
       "      <td>...</td>\n",
       "      <td>...</td>\n",
       "      <td>...</td>\n",
       "      <td>...</td>\n",
       "      <td>...</td>\n",
       "    </tr>\n",
       "    <tr>\n",
       "      <td>7109</td>\n",
       "      <td>100</td>\n",
       "      <td>0</td>\n",
       "      <td>1.0</td>\n",
       "      <td>Downtown/Civic Center</td>\n",
       "      <td>37.78254</td>\n",
       "      <td>-122.41775</td>\n",
       "      <td>Apartment</td>\n",
       "      <td>Entire home/apt</td>\n",
       "      <td>3</td>\n",
       "      <td>1.0</td>\n",
       "      <td>2.0</td>\n",
       "      <td>2.0</td>\n",
       "      <td>100.0</td>\n",
       "      <td>1</td>\n",
       "      <td>0.0</td>\n",
       "      <td>50</td>\n",
       "      <td>0</td>\n",
       "      <td>90.798403</td>\n",
       "      <td>0</td>\n",
       "    </tr>\n",
       "    <tr>\n",
       "      <td>7110</td>\n",
       "      <td>100</td>\n",
       "      <td>0</td>\n",
       "      <td>0.0</td>\n",
       "      <td>Mission</td>\n",
       "      <td>37.75994</td>\n",
       "      <td>-122.41180</td>\n",
       "      <td>Apartment</td>\n",
       "      <td>Entire home/apt</td>\n",
       "      <td>4</td>\n",
       "      <td>1.0</td>\n",
       "      <td>0.0</td>\n",
       "      <td>1.0</td>\n",
       "      <td>250.0</td>\n",
       "      <td>1</td>\n",
       "      <td>0.0</td>\n",
       "      <td>2</td>\n",
       "      <td>0</td>\n",
       "      <td>96.132800</td>\n",
       "      <td>1</td>\n",
       "    </tr>\n",
       "    <tr>\n",
       "      <td>7111</td>\n",
       "      <td>100</td>\n",
       "      <td>0</td>\n",
       "      <td>9.0</td>\n",
       "      <td>Downtown/Civic Center</td>\n",
       "      <td>37.77799</td>\n",
       "      <td>-122.42159</td>\n",
       "      <td>Condominium</td>\n",
       "      <td>Entire home/apt</td>\n",
       "      <td>4</td>\n",
       "      <td>1.0</td>\n",
       "      <td>1.0</td>\n",
       "      <td>2.0</td>\n",
       "      <td>200.0</td>\n",
       "      <td>1</td>\n",
       "      <td>0.0</td>\n",
       "      <td>1</td>\n",
       "      <td>0</td>\n",
       "      <td>90.798403</td>\n",
       "      <td>1</td>\n",
       "    </tr>\n",
       "    <tr>\n",
       "      <td>7112</td>\n",
       "      <td>78</td>\n",
       "      <td>0</td>\n",
       "      <td>6.0</td>\n",
       "      <td>Bayview</td>\n",
       "      <td>37.73410</td>\n",
       "      <td>-122.38917</td>\n",
       "      <td>Hut</td>\n",
       "      <td>Private room</td>\n",
       "      <td>1</td>\n",
       "      <td>2.0</td>\n",
       "      <td>1.0</td>\n",
       "      <td>0.0</td>\n",
       "      <td>69.0</td>\n",
       "      <td>1</td>\n",
       "      <td>0.0</td>\n",
       "      <td>30</td>\n",
       "      <td>0</td>\n",
       "      <td>94.083832</td>\n",
       "      <td>1</td>\n",
       "    </tr>\n",
       "    <tr>\n",
       "      <td>7113</td>\n",
       "      <td>98</td>\n",
       "      <td>0</td>\n",
       "      <td>900.0</td>\n",
       "      <td>Downtown/Civic Center</td>\n",
       "      <td>37.78144</td>\n",
       "      <td>-122.41207</td>\n",
       "      <td>Apartment</td>\n",
       "      <td>Entire home/apt</td>\n",
       "      <td>2</td>\n",
       "      <td>1.0</td>\n",
       "      <td>1.0</td>\n",
       "      <td>1.0</td>\n",
       "      <td>187.0</td>\n",
       "      <td>1</td>\n",
       "      <td>0.0</td>\n",
       "      <td>30</td>\n",
       "      <td>0</td>\n",
       "      <td>90.798403</td>\n",
       "      <td>1</td>\n",
       "    </tr>\n",
       "  </tbody>\n",
       "</table>\n",
       "<p>6949 rows × 19 columns</p>\n",
       "</div>"
      ],
      "text/plain": [
       "      host_response_rate  host_is_superhost  host_total_listings_count  \\\n",
       "0                    100                  1                        1.0   \n",
       "1                    100                  1                        2.0   \n",
       "2                     80                  0                        2.0   \n",
       "3                     86                  1                       10.0   \n",
       "4                     86                  1                       10.0   \n",
       "...                  ...                ...                        ...   \n",
       "7109                 100                  0                        1.0   \n",
       "7110                 100                  0                        0.0   \n",
       "7111                 100                  0                        9.0   \n",
       "7112                  78                  0                        6.0   \n",
       "7113                  98                  0                      900.0   \n",
       "\n",
       "     neighbourhood_cleansed  latitude  longitude property_type  \\\n",
       "0          Western Addition  37.76931 -122.43386     Apartment   \n",
       "1              Inner Sunset  37.75402 -122.45805         House   \n",
       "2            Bernal Heights  37.74511 -122.42102     Apartment   \n",
       "3            Haight Ashbury  37.76669 -122.45250     Apartment   \n",
       "4            Haight Ashbury  37.76487 -122.45183     Apartment   \n",
       "...                     ...       ...        ...           ...   \n",
       "7109  Downtown/Civic Center  37.78254 -122.41775     Apartment   \n",
       "7110                Mission  37.75994 -122.41180     Apartment   \n",
       "7111  Downtown/Civic Center  37.77799 -122.42159   Condominium   \n",
       "7112                Bayview  37.73410 -122.38917           Hut   \n",
       "7113  Downtown/Civic Center  37.78144 -122.41207     Apartment   \n",
       "\n",
       "            room_type  accommodates  bathrooms  bedrooms  beds  price  \\\n",
       "0     Entire home/apt             3        1.0       1.0   2.0  170.0   \n",
       "1        Private room             2        1.0       1.0   1.0   99.0   \n",
       "2     Entire home/apt             5        1.0       2.0   3.0  235.0   \n",
       "3        Private room             2        4.0       1.0   1.0   65.0   \n",
       "4        Private room             2        4.0       1.0   1.0   65.0   \n",
       "...               ...           ...        ...       ...   ...    ...   \n",
       "7109  Entire home/apt             3        1.0       2.0   2.0  100.0   \n",
       "7110  Entire home/apt             4        1.0       0.0   1.0  250.0   \n",
       "7111  Entire home/apt             4        1.0       1.0   2.0  200.0   \n",
       "7112     Private room             1        2.0       1.0   0.0   69.0   \n",
       "7113  Entire home/apt             2        1.0       1.0   1.0  187.0   \n",
       "\n",
       "      guests_included  extra_people  minimum_nights  number_of_reviews  \\\n",
       "0                   2          25.0               1                217   \n",
       "1                   2          20.0               1                160   \n",
       "2                   2           0.0              30                111   \n",
       "3                   1          12.0              32                 18   \n",
       "4                   1          12.0              32                  8   \n",
       "...               ...           ...             ...                ...   \n",
       "7109                1           0.0              50                  0   \n",
       "7110                1           0.0               2                  0   \n",
       "7111                1           0.0               1                  0   \n",
       "7112                1           0.0              30                  0   \n",
       "7113                1           0.0              30                  0   \n",
       "\n",
       "      review_scores_rating  instant_bookable  \n",
       "0                97.000000                 0  \n",
       "1                94.000000                 0  \n",
       "2                98.000000                 0  \n",
       "3                86.000000                 0  \n",
       "4                93.000000                 0  \n",
       "...                    ...               ...  \n",
       "7109             90.798403                 0  \n",
       "7110             96.132800                 1  \n",
       "7111             90.798403                 1  \n",
       "7112             94.083832                 1  \n",
       "7113             90.798403                 1  \n",
       "\n",
       "[6949 rows x 19 columns]"
      ]
     },
     "execution_count": 15,
     "metadata": {},
     "output_type": "execute_result"
    }
   ],
   "source": [
    "listings2"
   ]
  },
  {
   "cell_type": "code",
   "execution_count": 16,
   "metadata": {},
   "outputs": [
    {
     "data": {
      "text/plain": [
       "neighbourhood_cleansed\n",
       "Bayview                   20561.0\n",
       "Bernal Heights            57948.0\n",
       "Castro/Upper Market       80943.0\n",
       "Chinatown                 22318.0\n",
       "Crocker Amazon             3963.0\n",
       "Diamond Heights            3186.0\n",
       "Downtown/Civic Center     97126.0\n",
       "Excelsior                 19645.0\n",
       "Financial District        28969.0\n",
       "Glen Park                 13791.0\n",
       "Golden Gate Park           1394.0\n",
       "Haight Ashbury            70353.0\n",
       "Inner Richmond            40072.0\n",
       "Inner Sunset              26743.0\n",
       "Lakeshore                 10475.0\n",
       "Marina                    40321.0\n",
       "Mission                  119859.0\n",
       "Nob Hill                  46922.0\n",
       "Noe Valley                62372.0\n",
       "North Beach               29525.0\n",
       "Ocean View                12093.0\n",
       "Outer Mission             23955.0\n",
       "Outer Richmond            26989.0\n",
       "Outer Sunset              37035.0\n",
       "Pacific Heights           34347.0\n",
       "Parkside                  17293.0\n",
       "Potrero Hill              47036.0\n",
       "Presidio                    105.0\n",
       "Presidio Heights           5066.0\n",
       "Russian Hill              35500.0\n",
       "Seacliff                   2383.0\n",
       "South of Market          124683.0\n",
       "Twin Peaks                14341.0\n",
       "Visitacion Valley         11840.0\n",
       "West of Twin Peaks        20117.0\n",
       "Western Addition         108896.0\n",
       "Name: price, dtype: float64"
      ]
     },
     "execution_count": 16,
     "metadata": {},
     "output_type": "execute_result"
    }
   ],
   "source": [
    "listings2.groupby('neighbourhood_cleansed')['price'].sum()"
   ]
  },
  {
   "cell_type": "code",
   "execution_count": 17,
   "metadata": {},
   "outputs": [],
   "source": [
    "rev = list(listings2.groupby('property_type')['price'].sum())\n",
    "types = list(listings2.groupby('property_type')['price'].sum().keys())"
   ]
  },
  {
   "cell_type": "code",
   "execution_count": 18,
   "metadata": {},
   "outputs": [
    {
     "data": {
      "text/plain": [
       "[Text(0, 0, 'Aparthotel'),\n",
       " Text(0, 0, 'Apartment'),\n",
       " Text(0, 0, 'Bed and breakfast'),\n",
       " Text(0, 0, 'Boutique hotel'),\n",
       " Text(0, 0, 'Bungalow'),\n",
       " Text(0, 0, 'Cabin'),\n",
       " Text(0, 0, 'Camper/RV'),\n",
       " Text(0, 0, 'Castle'),\n",
       " Text(0, 0, 'Condominium'),\n",
       " Text(0, 0, 'Cottage'),\n",
       " Text(0, 0, 'Dome house'),\n",
       " Text(0, 0, 'Earth house'),\n",
       " Text(0, 0, 'Guest suite'),\n",
       " Text(0, 0, 'Guesthouse'),\n",
       " Text(0, 0, 'Hostel'),\n",
       " Text(0, 0, 'Hotel'),\n",
       " Text(0, 0, 'House'),\n",
       " Text(0, 0, 'Hut'),\n",
       " Text(0, 0, 'In-law'),\n",
       " Text(0, 0, 'Loft'),\n",
       " Text(0, 0, 'Other'),\n",
       " Text(0, 0, 'Resort'),\n",
       " Text(0, 0, 'Serviced apartment'),\n",
       " Text(0, 0, 'Tiny house'),\n",
       " Text(0, 0, 'Townhouse'),\n",
       " Text(0, 0, 'Villa')]"
      ]
     },
     "execution_count": 18,
     "metadata": {},
     "output_type": "execute_result"
    },
    {
     "data": {
      "image/png": "[encoded data removed]",
      "text/plain": [
       "<Figure size 1440x720 with 1 Axes>"
      ]
     },
     "metadata": {
      "needs_background": "light"
     },
     "output_type": "display_data"
    }
   ],
   "source": [
    "fig, ax = plt.subplots(figsize=(20,10))\n",
    "chart = sns.barplot(x=types, y=rev)\n",
    "chart.set_xticklabels(chart.get_xticklabels(),\n",
    "                      rotation=45, horizontalalignment='right')"
   ]
  },
  {
   "cell_type": "code",
   "execution_count": 19,
   "metadata": {},
   "outputs": [
    {
     "data": {
      "text/plain": [
       "1318165.0"
      ]
     },
     "execution_count": 19,
     "metadata": {},
     "output_type": "execute_result"
    }
   ],
   "source": [
    "listings2.price.sum()"
   ]
  },
  {
   "cell_type": "code",
   "execution_count": 20,
   "metadata": {
    "scrolled": true
   },
   "outputs": [
    {
     "data": {
      "text/plain": [
       "<matplotlib.axes._subplots.AxesSubplot at 0x1c1eaae210>"
      ]
     },
     "execution_count": 20,
     "metadata": {},
     "output_type": "execute_result"
    },
    {
     "data": {
      "image/png": "[encoded data removed]",
      "text/plain": [
       "<Figure size 432x288 with 1 Axes>"
      ]
     },
     "metadata": {
      "needs_background": "light"
     },
     "output_type": "display_data"
    }
   ],
   "source": [
    "sns.distplot(listings2.price)"
   ]
  },
  {
   "cell_type": "code",
   "execution_count": 21,
   "metadata": {},
   "outputs": [
    {
     "data": {
      "text/plain": [
       "6018"
      ]
     },
     "execution_count": 21,
     "metadata": {},
     "output_type": "execute_result"
    }
   ],
   "source": [
    "(2818+1982+676+542)"
   ]
  },
  {
   "cell_type": "code",
   "execution_count": 22,
   "metadata": {
    "scrolled": true
   },
   "outputs": [
    {
     "data": {
      "text/plain": [
       "Apartment             2818\n",
       "House                 1982\n",
       "Condominium            676\n",
       "Guest suite            542\n",
       "Boutique hotel         228\n",
       "Hotel                  128\n",
       "Townhouse              123\n",
       "Serviced apartment     110\n",
       "Hostel                  78\n",
       "Loft                    64\n",
       "Bed and breakfast       43\n",
       "Aparthotel              40\n",
       "Guesthouse              38\n",
       "Other                   21\n",
       "Resort                  12\n",
       "Cottage                 11\n",
       "Bungalow                11\n",
       "Villa                    9\n",
       "Castle                   4\n",
       "Cabin                    3\n",
       "Tiny house               2\n",
       "Earth house              2\n",
       "Hut                      1\n",
       "Dome house               1\n",
       "In-law                   1\n",
       "Camper/RV                1\n",
       "Name: property_type, dtype: int64"
      ]
     },
     "execution_count": 22,
     "metadata": {},
     "output_type": "execute_result"
    }
   ],
   "source": [
    "listings2.property_type.value_counts()"
   ]
  },
  {
   "cell_type": "code",
   "execution_count": 23,
   "metadata": {},
   "outputs": [],
   "source": [
    "props = list(listings2.property_type.value_counts().keys())\n",
    "counts = list(listings2.property_type.value_counts())"
   ]
  },
  {
   "cell_type": "code",
   "execution_count": 24,
   "metadata": {},
   "outputs": [
    {
     "data": {
      "text/plain": [
       "[Text(0, 0, 'Apartment'),\n",
       " Text(0, 0, 'House'),\n",
       " Text(0, 0, 'Condominium'),\n",
       " Text(0, 0, 'Guest suite'),\n",
       " Text(0, 0, 'Boutique hotel'),\n",
       " Text(0, 0, 'Hotel'),\n",
       " Text(0, 0, 'Townhouse'),\n",
       " Text(0, 0, 'Serviced apartment'),\n",
       " Text(0, 0, 'Hostel'),\n",
       " Text(0, 0, 'Loft'),\n",
       " Text(0, 0, 'Bed and breakfast'),\n",
       " Text(0, 0, 'Aparthotel'),\n",
       " Text(0, 0, 'Guesthouse'),\n",
       " Text(0, 0, 'Other'),\n",
       " Text(0, 0, 'Resort'),\n",
       " Text(0, 0, 'Cottage'),\n",
       " Text(0, 0, 'Bungalow'),\n",
       " Text(0, 0, 'Villa'),\n",
       " Text(0, 0, 'Castle'),\n",
       " Text(0, 0, 'Cabin'),\n",
       " Text(0, 0, 'Tiny house'),\n",
       " Text(0, 0, 'Earth house'),\n",
       " Text(0, 0, 'Hut'),\n",
       " Text(0, 0, 'Dome house'),\n",
       " Text(0, 0, 'In-law'),\n",
       " Text(0, 0, 'Camper/RV')]"
      ]
     },
     "execution_count": 24,
     "metadata": {},
     "output_type": "execute_result"
    },
    {
     "data": {
      "image/png": "[encoded data removed]",
      "text/plain": [
       "<Figure size 1440x720 with 1 Axes>"
      ]
     },
     "metadata": {
      "needs_background": "light"
     },
     "output_type": "display_data"
    }
   ],
   "source": [
    "fig, ax = plt.subplots(figsize=(20,10))\n",
    "chart2 = sns.barplot(x=props, y=counts)\n",
    "plt.title('Count of Each Type of Property Type', fontsize=30)\n",
    "chart2.set_xticklabels(chart2.get_xticklabels(),\n",
    "                      rotation=45, horizontalalignment='right')"
   ]
  },
  {
   "cell_type": "code",
   "execution_count": 25,
   "metadata": {},
   "outputs": [],
   "source": [
    "listings2_cut = listings2[(listings2['property_type'] == 'Apartment') | \n",
    "                         (listings2['property_type'] == 'House') | \n",
    "                         (listings2['property_type'] == 'Condominium') |\n",
    "                         (listings2['property_type'] == 'Guest suite')]"
   ]
  },
  {
   "cell_type": "code",
   "execution_count": 26,
   "metadata": {},
   "outputs": [
    {
     "data": {
      "text/plain": [
       "<matplotlib.axes._subplots.AxesSubplot at 0x1c1fbfbc90>"
      ]
     },
     "execution_count": 26,
     "metadata": {},
     "output_type": "execute_result"
    },
    {
     "data": {
      "image/png": "[encoded data removed]",
      "text/plain": [
       "<Figure size 432x288 with 1 Axes>"
      ]
     },
     "metadata": {
      "needs_background": "light"
     },
     "output_type": "display_data"
    }
   ],
   "source": [
    "sns.distplot(listings2_cut.price)"
   ]
  },
  {
   "cell_type": "markdown",
   "metadata": {},
   "source": [
    "Dropping most of the property types because we are looking for certain types of clients."
   ]
  },
  {
   "cell_type": "code",
   "execution_count": 29,
   "metadata": {},
   "outputs": [
    {
     "data": {
      "text/plain": [
       "Entire home/apt    3741\n",
       "Private room       2118\n",
       "Shared room         159\n",
       "Name: room_type, dtype: int64"
      ]
     },
     "execution_count": 29,
     "metadata": {},
     "output_type": "execute_result"
    }
   ],
   "source": [
    "listings2_cut.room_type.value_counts()"
   ]
  },
  {
   "cell_type": "code",
   "execution_count": 30,
   "metadata": {},
   "outputs": [],
   "source": [
    "listings2_cut = listings2_cut[listings2_cut['room_type'] != 'Shared room']"
   ]
  },
  {
   "cell_type": "code",
   "execution_count": 31,
   "metadata": {},
   "outputs": [
    {
     "data": {
      "text/plain": [
       "(5859, 19)"
      ]
     },
     "execution_count": 31,
     "metadata": {},
     "output_type": "execute_result"
    }
   ],
   "source": [
    "listings2_cut.shape"
   ]
  },
  {
   "cell_type": "code",
   "execution_count": 32,
   "metadata": {},
   "outputs": [
    {
     "data": {
      "text/html": [
       "<div>\n",
       "<style scoped>\n",
       "    .dataframe tbody tr th:only-of-type {\n",
       "        vertical-align: middle;\n",
       "    }\n",
       "\n",
       "    .dataframe tbody tr th {\n",
       "        vertical-align: top;\n",
       "    }\n",
       "\n",
       "    .dataframe thead th {\n",
       "        text-align: right;\n",
       "    }\n",
       "</style>\n",
       "<table border=\"1\" class=\"dataframe\">\n",
       "  <thead>\n",
       "    <tr style=\"text-align: right;\">\n",
       "      <th></th>\n",
       "      <th>host_response_rate</th>\n",
       "      <th>host_is_superhost</th>\n",
       "      <th>host_total_listings_count</th>\n",
       "      <th>neighbourhood_cleansed</th>\n",
       "      <th>latitude</th>\n",
       "      <th>longitude</th>\n",
       "      <th>property_type</th>\n",
       "      <th>room_type</th>\n",
       "      <th>accommodates</th>\n",
       "      <th>bathrooms</th>\n",
       "      <th>bedrooms</th>\n",
       "      <th>beds</th>\n",
       "      <th>price</th>\n",
       "      <th>guests_included</th>\n",
       "      <th>extra_people</th>\n",
       "      <th>minimum_nights</th>\n",
       "      <th>number_of_reviews</th>\n",
       "      <th>review_scores_rating</th>\n",
       "      <th>instant_bookable</th>\n",
       "    </tr>\n",
       "  </thead>\n",
       "  <tbody>\n",
       "    <tr>\n",
       "      <td>0</td>\n",
       "      <td>100</td>\n",
       "      <td>1</td>\n",
       "      <td>1.0</td>\n",
       "      <td>Western Addition</td>\n",
       "      <td>37.76931</td>\n",
       "      <td>-122.43386</td>\n",
       "      <td>Apartment</td>\n",
       "      <td>Entire home/apt</td>\n",
       "      <td>3</td>\n",
       "      <td>1.0</td>\n",
       "      <td>1.0</td>\n",
       "      <td>2.0</td>\n",
       "      <td>170.0</td>\n",
       "      <td>2</td>\n",
       "      <td>25.0</td>\n",
       "      <td>1</td>\n",
       "      <td>217</td>\n",
       "      <td>97.000000</td>\n",
       "      <td>0</td>\n",
       "    </tr>\n",
       "    <tr>\n",
       "      <td>1</td>\n",
       "      <td>100</td>\n",
       "      <td>1</td>\n",
       "      <td>2.0</td>\n",
       "      <td>Inner Sunset</td>\n",
       "      <td>37.75402</td>\n",
       "      <td>-122.45805</td>\n",
       "      <td>House</td>\n",
       "      <td>Private room</td>\n",
       "      <td>2</td>\n",
       "      <td>1.0</td>\n",
       "      <td>1.0</td>\n",
       "      <td>1.0</td>\n",
       "      <td>99.0</td>\n",
       "      <td>2</td>\n",
       "      <td>20.0</td>\n",
       "      <td>1</td>\n",
       "      <td>160</td>\n",
       "      <td>94.000000</td>\n",
       "      <td>0</td>\n",
       "    </tr>\n",
       "    <tr>\n",
       "      <td>2</td>\n",
       "      <td>80</td>\n",
       "      <td>0</td>\n",
       "      <td>2.0</td>\n",
       "      <td>Bernal Heights</td>\n",
       "      <td>37.74511</td>\n",
       "      <td>-122.42102</td>\n",
       "      <td>Apartment</td>\n",
       "      <td>Entire home/apt</td>\n",
       "      <td>5</td>\n",
       "      <td>1.0</td>\n",
       "      <td>2.0</td>\n",
       "      <td>3.0</td>\n",
       "      <td>235.0</td>\n",
       "      <td>2</td>\n",
       "      <td>0.0</td>\n",
       "      <td>30</td>\n",
       "      <td>111</td>\n",
       "      <td>98.000000</td>\n",
       "      <td>0</td>\n",
       "    </tr>\n",
       "    <tr>\n",
       "      <td>3</td>\n",
       "      <td>86</td>\n",
       "      <td>1</td>\n",
       "      <td>10.0</td>\n",
       "      <td>Haight Ashbury</td>\n",
       "      <td>37.76669</td>\n",
       "      <td>-122.45250</td>\n",
       "      <td>Apartment</td>\n",
       "      <td>Private room</td>\n",
       "      <td>2</td>\n",
       "      <td>4.0</td>\n",
       "      <td>1.0</td>\n",
       "      <td>1.0</td>\n",
       "      <td>65.0</td>\n",
       "      <td>1</td>\n",
       "      <td>12.0</td>\n",
       "      <td>32</td>\n",
       "      <td>18</td>\n",
       "      <td>86.000000</td>\n",
       "      <td>0</td>\n",
       "    </tr>\n",
       "    <tr>\n",
       "      <td>4</td>\n",
       "      <td>86</td>\n",
       "      <td>1</td>\n",
       "      <td>10.0</td>\n",
       "      <td>Haight Ashbury</td>\n",
       "      <td>37.76487</td>\n",
       "      <td>-122.45183</td>\n",
       "      <td>Apartment</td>\n",
       "      <td>Private room</td>\n",
       "      <td>2</td>\n",
       "      <td>4.0</td>\n",
       "      <td>1.0</td>\n",
       "      <td>1.0</td>\n",
       "      <td>65.0</td>\n",
       "      <td>1</td>\n",
       "      <td>12.0</td>\n",
       "      <td>32</td>\n",
       "      <td>8</td>\n",
       "      <td>93.000000</td>\n",
       "      <td>0</td>\n",
       "    </tr>\n",
       "    <tr>\n",
       "      <td>...</td>\n",
       "      <td>...</td>\n",
       "      <td>...</td>\n",
       "      <td>...</td>\n",
       "      <td>...</td>\n",
       "      <td>...</td>\n",
       "      <td>...</td>\n",
       "      <td>...</td>\n",
       "      <td>...</td>\n",
       "      <td>...</td>\n",
       "      <td>...</td>\n",
       "      <td>...</td>\n",
       "      <td>...</td>\n",
       "      <td>...</td>\n",
       "      <td>...</td>\n",
       "      <td>...</td>\n",
       "      <td>...</td>\n",
       "      <td>...</td>\n",
       "      <td>...</td>\n",
       "      <td>...</td>\n",
       "    </tr>\n",
       "    <tr>\n",
       "      <td>7108</td>\n",
       "      <td>75</td>\n",
       "      <td>0</td>\n",
       "      <td>4.0</td>\n",
       "      <td>Financial District</td>\n",
       "      <td>37.78879</td>\n",
       "      <td>-122.39321</td>\n",
       "      <td>Condominium</td>\n",
       "      <td>Entire home/apt</td>\n",
       "      <td>6</td>\n",
       "      <td>1.5</td>\n",
       "      <td>1.0</td>\n",
       "      <td>3.0</td>\n",
       "      <td>299.0</td>\n",
       "      <td>1</td>\n",
       "      <td>35.0</td>\n",
       "      <td>1</td>\n",
       "      <td>0</td>\n",
       "      <td>94.774194</td>\n",
       "      <td>1</td>\n",
       "    </tr>\n",
       "    <tr>\n",
       "      <td>7109</td>\n",
       "      <td>100</td>\n",
       "      <td>0</td>\n",
       "      <td>1.0</td>\n",
       "      <td>Downtown/Civic Center</td>\n",
       "      <td>37.78254</td>\n",
       "      <td>-122.41775</td>\n",
       "      <td>Apartment</td>\n",
       "      <td>Entire home/apt</td>\n",
       "      <td>3</td>\n",
       "      <td>1.0</td>\n",
       "      <td>2.0</td>\n",
       "      <td>2.0</td>\n",
       "      <td>100.0</td>\n",
       "      <td>1</td>\n",
       "      <td>0.0</td>\n",
       "      <td>50</td>\n",
       "      <td>0</td>\n",
       "      <td>90.798403</td>\n",
       "      <td>0</td>\n",
       "    </tr>\n",
       "    <tr>\n",
       "      <td>7110</td>\n",
       "      <td>100</td>\n",
       "      <td>0</td>\n",
       "      <td>0.0</td>\n",
       "      <td>Mission</td>\n",
       "      <td>37.75994</td>\n",
       "      <td>-122.41180</td>\n",
       "      <td>Apartment</td>\n",
       "      <td>Entire home/apt</td>\n",
       "      <td>4</td>\n",
       "      <td>1.0</td>\n",
       "      <td>0.0</td>\n",
       "      <td>1.0</td>\n",
       "      <td>250.0</td>\n",
       "      <td>1</td>\n",
       "      <td>0.0</td>\n",
       "      <td>2</td>\n",
       "      <td>0</td>\n",
       "      <td>96.132800</td>\n",
       "      <td>1</td>\n",
       "    </tr>\n",
       "    <tr>\n",
       "      <td>7111</td>\n",
       "      <td>100</td>\n",
       "      <td>0</td>\n",
       "      <td>9.0</td>\n",
       "      <td>Downtown/Civic Center</td>\n",
       "      <td>37.77799</td>\n",
       "      <td>-122.42159</td>\n",
       "      <td>Condominium</td>\n",
       "      <td>Entire home/apt</td>\n",
       "      <td>4</td>\n",
       "      <td>1.0</td>\n",
       "      <td>1.0</td>\n",
       "      <td>2.0</td>\n",
       "      <td>200.0</td>\n",
       "      <td>1</td>\n",
       "      <td>0.0</td>\n",
       "      <td>1</td>\n",
       "      <td>0</td>\n",
       "      <td>90.798403</td>\n",
       "      <td>1</td>\n",
       "    </tr>\n",
       "    <tr>\n",
       "      <td>7113</td>\n",
       "      <td>98</td>\n",
       "      <td>0</td>\n",
       "      <td>900.0</td>\n",
       "      <td>Downtown/Civic Center</td>\n",
       "      <td>37.78144</td>\n",
       "      <td>-122.41207</td>\n",
       "      <td>Apartment</td>\n",
       "      <td>Entire home/apt</td>\n",
       "      <td>2</td>\n",
       "      <td>1.0</td>\n",
       "      <td>1.0</td>\n",
       "      <td>1.0</td>\n",
       "      <td>187.0</td>\n",
       "      <td>1</td>\n",
       "      <td>0.0</td>\n",
       "      <td>30</td>\n",
       "      <td>0</td>\n",
       "      <td>90.798403</td>\n",
       "      <td>1</td>\n",
       "    </tr>\n",
       "  </tbody>\n",
       "</table>\n",
       "<p>5859 rows × 19 columns</p>\n",
       "</div>"
      ],
      "text/plain": [
       "      host_response_rate  host_is_superhost  host_total_listings_count  \\\n",
       "0                    100                  1                        1.0   \n",
       "1                    100                  1                        2.0   \n",
       "2                     80                  0                        2.0   \n",
       "3                     86                  1                       10.0   \n",
       "4                     86                  1                       10.0   \n",
       "...                  ...                ...                        ...   \n",
       "7108                  75                  0                        4.0   \n",
       "7109                 100                  0                        1.0   \n",
       "7110                 100                  0                        0.0   \n",
       "7111                 100                  0                        9.0   \n",
       "7113                  98                  0                      900.0   \n",
       "\n",
       "     neighbourhood_cleansed  latitude  longitude property_type  \\\n",
       "0          Western Addition  37.76931 -122.43386     Apartment   \n",
       "1              Inner Sunset  37.75402 -122.45805         House   \n",
       "2            Bernal Heights  37.74511 -122.42102     Apartment   \n",
       "3            Haight Ashbury  37.76669 -122.45250     Apartment   \n",
       "4            Haight Ashbury  37.76487 -122.45183     Apartment   \n",
       "...                     ...       ...        ...           ...   \n",
       "7108     Financial District  37.78879 -122.39321   Condominium   \n",
       "7109  Downtown/Civic Center  37.78254 -122.41775     Apartment   \n",
       "7110                Mission  37.75994 -122.41180     Apartment   \n",
       "7111  Downtown/Civic Center  37.77799 -122.42159   Condominium   \n",
       "7113  Downtown/Civic Center  37.78144 -122.41207     Apartment   \n",
       "\n",
       "            room_type  accommodates  bathrooms  bedrooms  beds  price  \\\n",
       "0     Entire home/apt             3        1.0       1.0   2.0  170.0   \n",
       "1        Private room             2        1.0       1.0   1.0   99.0   \n",
       "2     Entire home/apt             5        1.0       2.0   3.0  235.0   \n",
       "3        Private room             2        4.0       1.0   1.0   65.0   \n",
       "4        Private room             2        4.0       1.0   1.0   65.0   \n",
       "...               ...           ...        ...       ...   ...    ...   \n",
       "7108  Entire home/apt             6        1.5       1.0   3.0  299.0   \n",
       "7109  Entire home/apt             3        1.0       2.0   2.0  100.0   \n",
       "7110  Entire home/apt             4        1.0       0.0   1.0  250.0   \n",
       "7111  Entire home/apt             4        1.0       1.0   2.0  200.0   \n",
       "7113  Entire home/apt             2        1.0       1.0   1.0  187.0   \n",
       "\n",
       "      guests_included  extra_people  minimum_nights  number_of_reviews  \\\n",
       "0                   2          25.0               1                217   \n",
       "1                   2          20.0               1                160   \n",
       "2                   2           0.0              30                111   \n",
       "3                   1          12.0              32                 18   \n",
       "4                   1          12.0              32                  8   \n",
       "...               ...           ...             ...                ...   \n",
       "7108                1          35.0               1                  0   \n",
       "7109                1           0.0              50                  0   \n",
       "7110                1           0.0               2                  0   \n",
       "7111                1           0.0               1                  0   \n",
       "7113                1           0.0              30                  0   \n",
       "\n",
       "      review_scores_rating  instant_bookable  \n",
       "0                97.000000                 0  \n",
       "1                94.000000                 0  \n",
       "2                98.000000                 0  \n",
       "3                86.000000                 0  \n",
       "4                93.000000                 0  \n",
       "...                    ...               ...  \n",
       "7108             94.774194                 1  \n",
       "7109             90.798403                 0  \n",
       "7110             96.132800                 1  \n",
       "7111             90.798403                 1  \n",
       "7113             90.798403                 1  \n",
       "\n",
       "[5859 rows x 19 columns]"
      ]
     },
     "execution_count": 32,
     "metadata": {},
     "output_type": "execute_result"
    }
   ],
   "source": [
    "listings2_cut"
   ]
  },
  {
   "cell_type": "code",
   "execution_count": 33,
   "metadata": {},
   "outputs": [],
   "source": [
    "room = pd.get_dummies(listings2_cut['room_type'], prefix='room', drop_first=True)\n",
    "nbrhd = pd.get_dummies(listings2_cut['neighbourhood_cleansed'], prefix='nbrhd', drop_first=True)\n",
    "prop = pd.get_dummies(listings2_cut['property_type'], prefix='prop', drop_first=True)\n"
   ]
  },
  {
   "cell_type": "code",
   "execution_count": 34,
   "metadata": {},
   "outputs": [],
   "source": [
    "listings2_cut.drop(columns=['room_type', 'neighbourhood_cleansed', 'property_type'], axis=1, inplace=True)"
   ]
  },
  {
   "cell_type": "code",
   "execution_count": null,
   "metadata": {},
   "outputs": [],
   "source": [
    "list_"
   ]
  },
  {
   "cell_type": "code",
   "execution_count": 39,
   "metadata": {},
   "outputs": [],
   "source": [
    "list_working = pd.concat([listings2_cut, room, nbrhd, prop], axis=1)"
   ]
  },
  {
   "cell_type": "code",
   "execution_count": 41,
   "metadata": {},
   "outputs": [
    {
     "data": {
      "text/plain": [
       "(5859, 55)"
      ]
     },
     "execution_count": 41,
     "metadata": {},
     "output_type": "execute_result"
    }
   ],
   "source": [
    "list_working.shape"
   ]
  },
  {
   "cell_type": "code",
   "execution_count": 44,
   "metadata": {},
   "outputs": [],
   "source": [
    "list_working.to_csv('list_working.csv')"
   ]
  },
  {
   "cell_type": "code",
   "execution_count": 48,
   "metadata": {},
   "outputs": [
    {
     "data": {
      "text/html": [
       "<div>\n",
       "<style scoped>\n",
       "    .dataframe tbody tr th:only-of-type {\n",
       "        vertical-align: middle;\n",
       "    }\n",
       "\n",
       "    .dataframe tbody tr th {\n",
       "        vertical-align: top;\n",
       "    }\n",
       "\n",
       "    .dataframe thead th {\n",
       "        text-align: right;\n",
       "    }\n",
       "</style>\n",
       "<table border=\"1\" class=\"dataframe\">\n",
       "  <thead>\n",
       "    <tr style=\"text-align: right;\">\n",
       "      <th></th>\n",
       "      <th>host_response_rate</th>\n",
       "      <th>host_is_superhost</th>\n",
       "      <th>host_total_listings_count</th>\n",
       "      <th>latitude</th>\n",
       "      <th>longitude</th>\n",
       "      <th>accommodates</th>\n",
       "      <th>bathrooms</th>\n",
       "      <th>bedrooms</th>\n",
       "      <th>beds</th>\n",
       "      <th>price</th>\n",
       "      <th>...</th>\n",
       "      <th>nbrhd_Russian Hill</th>\n",
       "      <th>nbrhd_Seacliff</th>\n",
       "      <th>nbrhd_South of Market</th>\n",
       "      <th>nbrhd_Twin Peaks</th>\n",
       "      <th>nbrhd_Visitacion Valley</th>\n",
       "      <th>nbrhd_West of Twin Peaks</th>\n",
       "      <th>nbrhd_Western Addition</th>\n",
       "      <th>prop_Condominium</th>\n",
       "      <th>prop_Guest suite</th>\n",
       "      <th>prop_House</th>\n",
       "    </tr>\n",
       "  </thead>\n",
       "  <tbody>\n",
       "    <tr>\n",
       "      <td>0</td>\n",
       "      <td>100</td>\n",
       "      <td>1</td>\n",
       "      <td>1.0</td>\n",
       "      <td>37.76931</td>\n",
       "      <td>-122.43386</td>\n",
       "      <td>3</td>\n",
       "      <td>1.0</td>\n",
       "      <td>1.0</td>\n",
       "      <td>2.0</td>\n",
       "      <td>170.0</td>\n",
       "      <td>...</td>\n",
       "      <td>0</td>\n",
       "      <td>0</td>\n",
       "      <td>0</td>\n",
       "      <td>0</td>\n",
       "      <td>0</td>\n",
       "      <td>0</td>\n",
       "      <td>1</td>\n",
       "      <td>0</td>\n",
       "      <td>0</td>\n",
       "      <td>0</td>\n",
       "    </tr>\n",
       "    <tr>\n",
       "      <td>1</td>\n",
       "      <td>100</td>\n",
       "      <td>1</td>\n",
       "      <td>2.0</td>\n",
       "      <td>37.75402</td>\n",
       "      <td>-122.45805</td>\n",
       "      <td>2</td>\n",
       "      <td>1.0</td>\n",
       "      <td>1.0</td>\n",
       "      <td>1.0</td>\n",
       "      <td>99.0</td>\n",
       "      <td>...</td>\n",
       "      <td>0</td>\n",
       "      <td>0</td>\n",
       "      <td>0</td>\n",
       "      <td>0</td>\n",
       "      <td>0</td>\n",
       "      <td>0</td>\n",
       "      <td>0</td>\n",
       "      <td>0</td>\n",
       "      <td>0</td>\n",
       "      <td>1</td>\n",
       "    </tr>\n",
       "    <tr>\n",
       "      <td>2</td>\n",
       "      <td>80</td>\n",
       "      <td>0</td>\n",
       "      <td>2.0</td>\n",
       "      <td>37.74511</td>\n",
       "      <td>-122.42102</td>\n",
       "      <td>5</td>\n",
       "      <td>1.0</td>\n",
       "      <td>2.0</td>\n",
       "      <td>3.0</td>\n",
       "      <td>235.0</td>\n",
       "      <td>...</td>\n",
       "      <td>0</td>\n",
       "      <td>0</td>\n",
       "      <td>0</td>\n",
       "      <td>0</td>\n",
       "      <td>0</td>\n",
       "      <td>0</td>\n",
       "      <td>0</td>\n",
       "      <td>0</td>\n",
       "      <td>0</td>\n",
       "      <td>0</td>\n",
       "    </tr>\n",
       "    <tr>\n",
       "      <td>3</td>\n",
       "      <td>86</td>\n",
       "      <td>1</td>\n",
       "      <td>10.0</td>\n",
       "      <td>37.76669</td>\n",
       "      <td>-122.45250</td>\n",
       "      <td>2</td>\n",
       "      <td>4.0</td>\n",
       "      <td>1.0</td>\n",
       "      <td>1.0</td>\n",
       "      <td>65.0</td>\n",
       "      <td>...</td>\n",
       "      <td>0</td>\n",
       "      <td>0</td>\n",
       "      <td>0</td>\n",
       "      <td>0</td>\n",
       "      <td>0</td>\n",
       "      <td>0</td>\n",
       "      <td>0</td>\n",
       "      <td>0</td>\n",
       "      <td>0</td>\n",
       "      <td>0</td>\n",
       "    </tr>\n",
       "    <tr>\n",
       "      <td>4</td>\n",
       "      <td>86</td>\n",
       "      <td>1</td>\n",
       "      <td>10.0</td>\n",
       "      <td>37.76487</td>\n",
       "      <td>-122.45183</td>\n",
       "      <td>2</td>\n",
       "      <td>4.0</td>\n",
       "      <td>1.0</td>\n",
       "      <td>1.0</td>\n",
       "      <td>65.0</td>\n",
       "      <td>...</td>\n",
       "      <td>0</td>\n",
       "      <td>0</td>\n",
       "      <td>0</td>\n",
       "      <td>0</td>\n",
       "      <td>0</td>\n",
       "      <td>0</td>\n",
       "      <td>0</td>\n",
       "      <td>0</td>\n",
       "      <td>0</td>\n",
       "      <td>0</td>\n",
       "    </tr>\n",
       "  </tbody>\n",
       "</table>\n",
       "<p>5 rows × 55 columns</p>\n",
       "</div>"
      ],
      "text/plain": [
       "   host_response_rate  host_is_superhost  host_total_listings_count  latitude  \\\n",
       "0                 100                  1                        1.0  37.76931   \n",
       "1                 100                  1                        2.0  37.75402   \n",
       "2                  80                  0                        2.0  37.74511   \n",
       "3                  86                  1                       10.0  37.76669   \n",
       "4                  86                  1                       10.0  37.76487   \n",
       "\n",
       "   longitude  accommodates  bathrooms  bedrooms  beds  price  ...  \\\n",
       "0 -122.43386             3        1.0       1.0   2.0  170.0  ...   \n",
       "1 -122.45805             2        1.0       1.0   1.0   99.0  ...   \n",
       "2 -122.42102             5        1.0       2.0   3.0  235.0  ...   \n",
       "3 -122.45250             2        4.0       1.0   1.0   65.0  ...   \n",
       "4 -122.45183             2        4.0       1.0   1.0   65.0  ...   \n",
       "\n",
       "   nbrhd_Russian Hill  nbrhd_Seacliff  nbrhd_South of Market  \\\n",
       "0                   0               0                      0   \n",
       "1                   0               0                      0   \n",
       "2                   0               0                      0   \n",
       "3                   0               0                      0   \n",
       "4                   0               0                      0   \n",
       "\n",
       "   nbrhd_Twin Peaks  nbrhd_Visitacion Valley  nbrhd_West of Twin Peaks  \\\n",
       "0                 0                        0                         0   \n",
       "1                 0                        0                         0   \n",
       "2                 0                        0                         0   \n",
       "3                 0                        0                         0   \n",
       "4                 0                        0                         0   \n",
       "\n",
       "   nbrhd_Western Addition  prop_Condominium  prop_Guest suite  prop_House  \n",
       "0                       1                 0                 0           0  \n",
       "1                       0                 0                 0           1  \n",
       "2                       0                 0                 0           0  \n",
       "3                       0                 0                 0           0  \n",
       "4                       0                 0                 0           0  \n",
       "\n",
       "[5 rows x 55 columns]"
      ]
     },
     "execution_count": 48,
     "metadata": {},
     "output_type": "execute_result"
    }
   ],
   "source": [
    "list_working.head()"
   ]
  },
  {
   "cell_type": "code",
   "execution_count": 49,
   "metadata": {},
   "outputs": [],
   "source": [
    "target = list_working.price\n",
    "data = list_working.drop(columns='price', axis=1)"
   ]
  },
  {
   "cell_type": "code",
   "execution_count": 68,
   "metadata": {},
   "outputs": [],
   "source": [
    "def test_models3(data, target, num_iter=5, models=['ols', 'ridge', 'lasso'], alpha=10,\n",
    "                 complexity='simple', degree=2):\n",
    "\n",
    "    models = {}\n",
    "    model_metrics = {}\n",
    "\n",
    "    for i in range(num_iter):\n",
    "        if 'ols' in models:\n",
    "            if complexity == 'simple':\n",
    "                X_train, X_test, Y_train, Y_test = train_test_split(data, target, test_size=0.2)\n",
    "\n",
    "                scaler = StandardScaler()\n",
    "                X_train = scaler.fit_transform(X_train)\n",
    "                X_test = scaler.fit_transform(X_test)\n",
    "            \n",
    "                linreg = LinearRegression()\n",
    "                ols_model = linreg.fit(X_train, Y_train)\n",
    "                Y_train_pred = ols_model.predict(X_train)\n",
    "                Y_test_pred = ols_model.predict(X_test)\n",
    "                models['ols'] = ols_model\n",
    "                print(ols_model.score(X_test, Y_test))\n",
    "                print(ols_model.score(X_train, Y_train))\n",
    "                print(np.sqrt(mean_squared_error(Y_test, Y_test_pred)))\n",
    "                print(np.sqrt(mean_squared_error(Y_train, Y_train_pred)))\n",
    "            else:\n",
    "                poly = PolynomialFeatures(degree=degree)\n",
    "                Xp = poly.fit_transform(data)\n",
    "                X_train, X_test, Y_train, Y_test = train_test_split(Xp, target, test_size=0.2)\n",
    "        \n",
    "                scaler = StandardScaler()\n",
    "                X_train = scaler.fit_transform(X_train)\n",
    "                X_test = scaler.fit_transform(X_test)\n",
    "\n",
    "                linreg = LinearRegression()\n",
    "                ols_model = linreg.fit(X_train, Y_train)\n",
    "                Y_train_pred = ols_model.predict(X_train)\n",
    "                Y_test_pred = ols_model.predict(X_test)\n",
    "                models['ols'] = ols_model\n",
    "                print(ols_model.score(X_test, Y_test))\n",
    "                print(ols_model.score(X_train, Y_train))\n",
    "                print(np.sqrt(mean_squared_error(Y_test, Y_test_pred)))\n",
    "                print(np.sqrt(mean_squared_error(Y_train, Y_train_pred)))\n",
    "\n",
    "#         if 'lasso' in models:\n",
    "#                 lasso = Lasso(alpha=alpha, max_iter=1000, normalize=True)\n",
    "#                 lasso_mod = lasso.fit(X_train, Y_train)\n",
    "#                 models['lasso'] = lasso_mod\n",
    "#                 Y_train_pred = lasso_mod.predict(X_train)\n",
    "#                 Y_test_pred = lasso_mod.predict(X_test)\n",
    "\n",
    "#                 model_metrics['LASSO_test_R2'] = lasso_mod.score(X_test, Y_test)\n",
    "#                 model_metrics['LASSO_train_R2'] = lasso_mod.score(X_train, Y_train)\n",
    "#                 model_metrics['LASSO_test_RMSE'] = np.sqrt(mean_squared_error(Y_test, Y_test_pred))\n",
    "#                 model_metrics['LASSO_train_RMSE'] = np.sqrt(mean_squared_error(Y_train, Y_train_pred))\n",
    "\n",
    "#             if 'ridge' in models:\n",
    "#                 ridge = Ridge(alpha=alpha, max_iter=1000, normalize=True)\n",
    "#                 ridge_mod = ridge.fit(X_train, Y_train)\n",
    "#                 models['ridge'] = ridge_mod\n",
    "#                 Y_train_pred = ridge_mod.predict(X_train)\n",
    "#                 Y_test_pred = ridge_mod.predict(X_test)\n",
    "\n",
    "#                 model_metrics['RIDGE_test_R2'] = ridge_mod.score(X_test, Y_test)\n",
    "#                 model_metrics['RIDGE_train_R2'] = ridge_mod.score(X_train, Y_train)\n",
    "#                 model_metrics['RIDGE_test_RMSE'] = np.sqrt(mean_squared_error(Y_test, Y_test_pred))\n",
    "#                 model_metrics['RIDGE_train_RMSE'] = np.sqrt(mean_squared_error(Y_train, Y_train_pred))\n",
    "            \n",
    "#         else:\n",
    "#             poly = PolynomialFeatures(degree=degree)\n",
    "#             Xp = poly.fit_transform(data)\n",
    "#             X_train, X_test, Y_train, Y_test = train_test_split(Xp, target, test_size=0.2)\n",
    "        \n",
    "#             scaler = StandardScaler()\n",
    "#             X_train = scaler.fit_transform(X_train)\n",
    "#             X_test = scaler.fit_transform(X_test)\n",
    "\n",
    "#             if 'ols' in models:\n",
    "#                 linreg = LinearRegression()\n",
    "#                 ols_model = linreg.fit(X_train, Y_train)\n",
    "#                 Y_train_pred = ols_model.predict(X_train)\n",
    "#                 Y_test_pred = ols_model.predict(X_test)\n",
    "#                 models['ols'] = ols_model\n",
    "#                 print(ols_model.score(X_test, Y_test))\n",
    "#                 print(ols_model.score(X_train, Y_train))\n",
    "#                 print(np.sqrt(mean_squared_error(Y_test, Y_test_pred)))\n",
    "#                 print(np.sqrt(mean_squared_error(Y_train, Y_train_pred)))\n",
    "\n",
    "#             if 'lasso' in models:\n",
    "#                 lasso = Lasso(alpha=alpha, max_iter=1000, normalize=True)\n",
    "#                 lasso_mod = lasso.fit(X_train, Y_train)\n",
    "#                 models['lasso'] = lasso_mod\n",
    "#                 Y_train_pred = lasso_mod.predict(X_train)\n",
    "#                 Y_test_pred = lasso_mod.predict(X_test)\n",
    "\n",
    "#                 model_metrics['LASSO_test_R2'] = lasso_mod.score(X_test, Y_test)\n",
    "#                 model_metrics['LASSO_train_R2'] = lasso_mod.score(X_train, Y_train)\n",
    "#                 model_metrics['LASSO_test_RMSE'] = np.sqrt(mean_squared_error(Y_test, Y_test_pred))\n",
    "#                 model_metrics['LASSO_train_RMSE'] = np.sqrt(mean_squared_error(Y_train, Y_train_pred))\n",
    "                \n",
    "#             if 'ridge' in models:\n",
    "#                 ridge = Ridge(alpha=alpha, max_iter=1000, normalize=True)\n",
    "#                 ridge_mod = ridge.fit(X_train, Y_train)\n",
    "#                 models['ridge'] = ridge_mod\n",
    "#                 Y_train_pred = ridge_mod.predict(X_train)\n",
    "#                 Y_test_pred = ridge_mod.predict(X_test)\n",
    "                    \n",
    "#                 model_metrics['RIDGE_test_R2'] = ridge_mod.score(X_test, Y_test)\n",
    "#                 model_metrics['RIDGE_train_R2'] = ridge_mod.score(X_train, Y_train)\n",
    "#                 model_metrics['RIDGE_test_RMSE'] = np.sqrt(mean_squared_error(Y_test, Y_test_pred))\n",
    "#                 model_metrics['RIDGE_train_RMSE'] = np.sqrt(mean_squared_error(Y_train, Y_train_pred))\n",
    "    i +=1 \n",
    "            # if 'ols' in models:\n",
    "            #     sns.plot(ols_test_r2, label='ols')\n",
    "            # if 'ridge' in models:\n",
    "            #     sns.plot(ridge_test_r2, label='ridge')\n",
    "            # if 'lasso' in models:\n",
    "            #     sns.plot(lasso_test_r2, label='lasso')\n",
    "            # plt.ylabel('R2 Test Score')\n",
    "            # plt.xlabel('Number of Iterations')\n",
    "            # plt.ylim((0.50, 0.99))\n",
    "\n",
    "\n",
    "            # plt.legend()\n",
    "                \n",
    "                \n",
    "    #         model_metrics = pd.DataFrame.from_dict(model_metrics)\n",
    "\n",
    "    return model_metrics"
   ]
  },
  {
   "cell_type": "code",
   "execution_count": 70,
   "metadata": {},
   "outputs": [
    {
     "data": {
      "text/plain": [
       "{}"
      ]
     },
     "execution_count": 70,
     "metadata": {},
     "output_type": "execute_result"
    }
   ],
   "source": [
    "test_models3(data, target, models='ols', alpha=10, complexity='simple')"
   ]
  },
  {
   "cell_type": "code",
   "execution_count": 97,
   "metadata": {},
   "outputs": [],
   "source": [
    "def test_models3(data=data, target=target, num_iter=5, models=['ols', 'ridge', 'lasso'], alpha=10,\n",
    "                 complexity='simple', degree=2):\n",
    "    \n",
    "    models = {}\n",
    "    model_metrics = {}\n",
    "\n",
    "    for i in range(num_iter):\n",
    "        if complexity == 'simple':\n",
    "            X_train, X_test, Y_train, Y_test = train_test_split(data, target, test_size=0.2)\n",
    "        elif complexity == 'polynomial':\n",
    "            poly = PolynomialFeatures(degree=degree)\n",
    "            Xp = poly.fit_transform(data)\n",
    "            X_train, X_test, Y_train, Y_test = train_test_split(Xp, Y, test_size=0.2)\n",
    "        \n",
    "        scaler = StandardScaler()\n",
    "        X_train = scaler.fit_transform(X_train)\n",
    "        X_test = scaler.fit_transform(X_test)\n",
    "            \n",
    "        if 'ols' in models:\n",
    "            linreg = LinearRegression()\n",
    "            ols_model = linreg.fit(X_train, Y_train)\n",
    "            Y_train_pred = ols_model.predict(X_train)\n",
    "            Y_test_pred = ols_model.predict(X_test)\n",
    "            models['ols'] = ols_model\n",
    "\n",
    "            ols_test_r2 = ols_model.score(X_test, Y_test)\n",
    "            ols_train_r2 = ols_model.score(X_train, Y_train)\n",
    "                \n",
    "            ols_test_rmse = np.sqrt(mean_squared_error(Y_test, Y_test_pred))\n",
    "            ols_train_rmse = np.sqrt(mean_squared_error(Y_train, Y_train_pred))\n",
    "\n",
    "            model_metrics['OLS_test_R2'] = ols_test_r2\n",
    "            model_metrics['OLS_train_R2'] = ols_train_r2\n",
    "            model_metrics['OLS_test_RMSE'] = ols_test_rmse\n",
    "            model_metrics['OLS_train_RMSE'] = ols_train_rmse            \n",
    "\n",
    "    i += 1\n",
    "\n",
    "    return model_metrics"
   ]
  },
  {
   "cell_type": "code",
   "execution_count": 98,
   "metadata": {},
   "outputs": [
    {
     "data": {
      "text/plain": [
       "{}"
      ]
     },
     "execution_count": 98,
     "metadata": {},
     "output_type": "execute_result"
    }
   ],
   "source": [
    "test_models3(data, target, num_iter=5, models='ols')"
   ]
  },
  {
   "cell_type": "code",
   "execution_count": 101,
   "metadata": {},
   "outputs": [],
   "source": [
    "def model_experiment(num_iter=5,\n",
    "                     models=['ols', 'ridge', 'lasso'], alpha=10,\n",
    "                     complexity='simple', degree=3):\n",
    "    \"\"\"\n",
    "    parameters:\n",
    "    _________________________\n",
    "    num_iter: int, number of times fit the models to the test data.\n",
    "    note that for each iteration we split the data random train and test parts.\n",
    "    models: list, list of models that we want to use. Options are 'ols' for simple linear regression\n",
    "    'ridge' for ridge regression and 'lasso' for lasso regression.\n",
    "    alpha: float, alpha parameter for ridge and lasso algorithms. Recall that higher values of alpha\n",
    "    leads to more regularization.\n",
    "    complexity: str, either 'simple' or 'polynomial'. We either use the original dataset or\n",
    "    a dataset with polynomial powers generated.\n",
    "    degree: int, if complexity is polynomial then degree is the degrees of polynomials to be generated.\n",
    "    return: dict, it returns a dictionary with trained models as values and the 'complexity' parameters as keys.\n",
    "    \"\"\"\n",
    "\n",
    "    x_axis = np.arange(num_iter)\n",
    "    y_ols_test = []\n",
    "    y_lasso_test = []\n",
    "    y_ridge_test = []\n",
    "    sample_models = {}\n",
    "    for i in range(num_iter):\n",
    "\n",
    "        if complexity == 'simple':\n",
    "            ## split train_test\n",
    "            X_train, X_test, y_train, y_test = train_test_split(X, y, test_size=0.2)\n",
    "        elif complexity == 'polynomial':\n",
    "            ## Create higher order terms\n",
    "            poly = PolynomialFeatures(degree=degree)\n",
    "            Xp = poly.fit_transform(X)\n",
    "            ## test-train split\n",
    "            X_train, X_test, y_train, y_test = train_test_split(Xp, y, test_size=0.2)\n",
    "\n",
    "        ## Standard scale mean = 0, variance = 1\n",
    "        sd = StandardScaler()\n",
    "\n",
    "        sd.fit(X_train)\n",
    "\n",
    "        X_train = sd.transform(X_train)\n",
    "\n",
    "        X_test = sd.transform(X_test)\n",
    "\n",
    "        ## Be careful about the leakage\n",
    "\n",
    "        ## Vanilla model\n",
    "        if 'ols' in models:\n",
    "            lr = LinearRegression()\n",
    "\n",
    "            ols_model_tr = lr.fit(X_train, y_train)\n",
    "            y_train_prediction = ols_model_tr.predict(X_train)\n",
    "            ols_model_ts = lr.fit(X_test, y_test)\n",
    "            y_test_prediction = ols_model_ts.predict(X_test)\n",
    "\n",
    "            sample_models['ols'] = ols_model_tr\n",
    "\n",
    "            test_score = ols_model_tr.score(X_test, y_test)\n",
    "            train_score = ols_model_tr.score(X_train, y_train)\n",
    "\n",
    "            y_ols_test.append(test_score)\n",
    "\n",
    "        #       print('test score OLS is %.2f and train score is %.2f'%(test_score, train_score))\n",
    "\n",
    "        if 'ridge' in models:\n",
    "            ## Ridge in the simple setting\n",
    "            ridge = Ridge(alpha=alpha, max_iter=10000)\n",
    "            ridge.fit(X_train, y_train)\n",
    "            sample_models['ridge'] = ridge\n",
    "            y_ridge_test.append(ridge.score(X_test, y_test))\n",
    "        #         print('test score Ridge is %.2f and train score is %.2f'%(ridge.score(X_test, y_test),\n",
    "        #                                                             ridge.score(X_train, y_train)))\n",
    "\n",
    "        if 'lasso' in models:\n",
    "            ## Lasso in the simple setting\n",
    "            lasso = Lasso(alpha=alpha, max_iter=10000)\n",
    "\n",
    "            lasso.fit(X_train, y_train)\n",
    "\n",
    "            sample_models['lasso'] = lasso\n",
    "\n",
    "            y_lasso_test.append(lasso.score(X_test, y_test))\n",
    "        #       print('test score Lasso is %.2f and train score is %.2f'%(lasso.score(X_test, y_test),\n",
    "        #                                                             lasso.score(X_train, y_train)))\n",
    "\n",
    "        i += 1\n",
    "    if 'ols' in models:\n",
    "        plt.plot(y_ols_test, label='ols')\n",
    "    if 'ridge' in models:\n",
    "        plt.plot(y_ridge_test, label='ridge')\n",
    "    if 'lasso' in models:\n",
    "        plt.plot(y_lasso_test, label='lasso')\n",
    "    plt.ylabel('R2 test score')\n",
    "    plt.xlabel('number of iterations')\n",
    "    plt.ylim((0.20, 0.99))\n",
    "\n",
    "    plt.legend()\n",
    "\n",
    "    return sample_models"
   ]
  },
  {
   "cell_type": "code",
   "execution_count": 102,
   "metadata": {
    "scrolled": true
   },
   "outputs": [
    {
     "data": {
      "text/plain": [
       "{'ols': LinearRegression(copy_X=True, fit_intercept=True, n_jobs=None, normalize=False),\n",
       " 'ridge': Ridge(alpha=10, copy_X=True, fit_intercept=True, max_iter=10000,\n",
       "       normalize=False, random_state=None, solver='auto', tol=0.001),\n",
       " 'lasso': Lasso(alpha=10, copy_X=True, fit_intercept=True, max_iter=10000,\n",
       "       normalize=False, positive=False, precompute=False, random_state=None,\n",
       "       selection='cyclic', tol=0.0001, warm_start=False)}"
      ]
     },
     "execution_count": 102,
     "metadata": {},
     "output_type": "execute_result"
    },
    {
     "data": {
      "image/png": "[encoded data removed]",
      "text/plain": [
       "<Figure size 432x288 with 1 Axes>"
      ]
     },
     "metadata": {
      "needs_background": "light"
     },
     "output_type": "display_data"
    }
   ],
   "source": [
    "X = data\n",
    "y = target\n",
    "model_experiment(num_iter=5,\n",
    "                     models=['ols', 'ridge', 'lasso'], alpha=10,\n",
    "                     complexity='simple', degree=3)"
   ]
  },
  {
   "cell_type": "code",
   "execution_count": 122,
   "metadata": {},
   "outputs": [],
   "source": [
    "def make_models(data, target, num_iter=5, models=['ols', 'lasso', 'ridge'],\n",
    "               alpha=10, complexity='simple', degree=3):\n",
    "    x_axis = np.arange(num_iter)\n",
    "    ols_test = []\n",
    "    lasso_test = []\n",
    "    ridge_test = []\n",
    "    sample_models = {}\n",
    "    model_metrics = {}\n",
    "    \n",
    "    for i in range(num_iter):\n",
    "        if complexity == 'simple':\n",
    "            X_train, X_test, Y_train, Y_test = train_test_split(data, target, test_size=0.2)\n",
    "        elif complexity == 'polynomial':\n",
    "            poly = PolynomialFeatures(degree=degree)\n",
    "            Xp = poly.fit_transform(data)\n",
    "            X_train, X_test, Y_train, Y_test = train_test_split(Xp, target, test_size=0.2)\n",
    "        elif complexity == 'poly_intx':\n",
    "            poly_intx = PolynomialFeatures(degree=degree, interaction_only=True)\n",
    "            Xpn = poly_intx.fit_transform(data)\n",
    "            X_train, X_test, Y_train, Y_test = train_test_split(Xpn, target, test_size=0.2)\n",
    "        scaler = StandardScaler()\n",
    "        scaler.fit(X_train)\n",
    "        X_train=scaler.transform(X_train)\n",
    "        X_test=scaler.transform(X_test)\n",
    "        \n",
    "        if 'ols' in models:\n",
    "            linreg = LinearRegression()\n",
    "            ols_model_tr = linreg.fit(X_train, Y_train)\n",
    "            train_pred = ols_model_tr.predict(X_train)\n",
    "            test_pred = ols_model_tr.predict(X_test)\n",
    "            \n",
    "            sample_models['ols'] = ols_model_tr\n",
    "            \n",
    "            test_score = ols_model_tr.score(X_test, Y_test)\n",
    "            ols_test.append(test_score)\n",
    "            \n",
    "            model_metrics['ols_train_rmse'] = np.sqrt(mean_squared_error(Y_train, train_pred))\n",
    "            model_metrics['ols_test_rmse'] = np.sqrt(mean_squared_error(Y_test, test_pred))\n",
    "            model_metrics['ols_test_r2'] = ols_model_tr.score(X_test, Y_test)\n",
    "            model_metrics['ols_train_r2'] = ols_model_tr.score(X_train, Y_train)\n",
    "        \n",
    "        if 'lasso' in models:\n",
    "            lasso = Lasso(alpha=alpha, max_iter=1000, normalize=True)\n",
    "            lasso_model_tr = lasso.fit(X_train, Y_train)\n",
    "            train_pred = lasso_model_tr.predict(X_train)\n",
    "            test_pred = lasso_model_tr.predict(X_test)\n",
    "            sample_models['lasso'] = lasso_model_tr\n",
    "            test_score = lasso_model_tr.score(X_test, Y_test)\n",
    "            lasso_test.append(test_score)\n",
    "            model_metrics['lasso_train_rmse'] = np.sqrt(mean_squared_error(Y_train, train_pred))\n",
    "            model_metrics['lasso_test_rmse'] = np.sqrt(mean_squared_error(Y_test, test_pred))\n",
    "            model_metrics['lasso_test_r2'] = lasso_model_tr.score(X_test, Y_test)\n",
    "            model_metrics['lasso_train_r2'] = lasso_model_tr.score(X_train, Y_train)\n",
    "        if 'ridge' in models:\n",
    "            ridge = Ridge(alpha=alpha, max_iter=1000, normalize=True)\n",
    "            ridge_model_tr = ridge.fit(X_train, Y_train)\n",
    "            train_pred = ridge_model_tr.predict(X_train)\n",
    "            test_pred = ridge_model_tr.predict(X_test)\n",
    "            sample_models['ridge'] = ridge_model_tr\n",
    "            test_score = ridge_model_tr.score(X_test, Y_test)\n",
    "            ridge_test.append(test_score)\n",
    "            model_metrics['ridge_train_rmse'] = np.sqrt(mean_squared_error(Y_train, train_pred))\n",
    "            model_metrics['ridge_test_rmse'] = np.sqrt(mean_squared_error(Y_test, test_pred))\n",
    "            model_metrics['ridge_test_r2'] = ridge_model_tr.score(X_test, Y_test)\n",
    "            model_metrics['ridge_train_r2'] = ridge_model_tr.score(X_train, Y_train)\n",
    "        i += 1\n",
    "    \n",
    "    if 'ols' in models:\n",
    "        plt.plot(ols_test, label='ols')\n",
    "    if 'ridge' in models:\n",
    "        plt.plot(ridge_test, label='ridge')\n",
    "    if 'lasso' in models:\n",
    "        plt.plot(lasso_test, label='lasso')\n",
    "    plt.ylabel('R2 test score')\n",
    "    plt.xlabel('number of iterations')\n",
    "    plt.ylim((0.40, 0.99))\n",
    "\n",
    "    plt.legend()\n",
    "    \n",
    "    \n",
    "                              \n",
    "    return sample_models, model_metrics\n",
    "        \n",
    "        \n",
    "        \n",
    "        \n",
    "        \n",
    "        "
   ]
  },
  {
   "cell_type": "code",
   "execution_count": 133,
   "metadata": {},
   "outputs": [
    {
     "data": {
      "text/plain": [
       "({'ols': LinearRegression(copy_X=True, fit_intercept=True, n_jobs=None, normalize=False)},\n",
       " {'ols_train_rmse': 71.96134400319163,\n",
       "  'ols_test_rmse': 49175035488236.84,\n",
       "  'ols_test_r2': -1.4472122138392917e+23,\n",
       "  'ols_train_r2': 0.7575746049998933})"
      ]
     },
     "execution_count": 133,
     "metadata": {},
     "output_type": "execute_result"
    },
    {
     "data": {
      "image/png": "[encoded data removed]",
      "text/plain": [
       "<Figure size 432x288 with 1 Axes>"
      ]
     },
     "metadata": {
      "needs_background": "light"
     },
     "output_type": "display_data"
    }
   ],
   "source": [
    "make_models(data, target, num_iter=10, models=['ols'],\n",
    "               alpha=0.001, complexity='polynomial', degree=2)"
   ]
  },
  {
   "cell_type": "code",
   "execution_count": null,
   "metadata": {},
   "outputs": [],
   "source": []
  }
 ],
 "metadata": {
  "kernelspec": {
   "display_name": "Python 3",
   "language": "python",
   "name": "python3"
  },
  "language_info": {
   "codemirror_mode": {
    "name": "ipython",
    "version": 3
   },
   "file_extension": ".py",
   "mimetype": "text/x-python",
   "name": "python",
   "nbconvert_exporter": "python",
   "pygments_lexer": "ipython3",
   "version": "3.7.4"
  }
 },
 "nbformat": 4,
 "nbformat_minor": 2
}
