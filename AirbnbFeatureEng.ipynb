{
 "cells": [
  {
   "cell_type": "code",
   "execution_count": 1,
   "metadata": {},
   "outputs": [],
   "source": [
    "#Import libraries\n",
    "from datetime import datetime\n",
    "import pandas as pd\n",
    "import numpy as np\n",
    "import statsmodels.api as sm\n",
    "from statsmodels.formula.api import ols\n",
    "import matplotlib.pyplot as plt\n",
    "import seaborn as sns\n",
    "from scipy.stats import pearsonr\n",
    "from scipy.stats import norm\n",
    "from scipy import stats\n",
    "import scipy as sp\n",
    "import warnings\n",
    "from sklearn.model_selection import train_test_split\n",
    "from sklearn.linear_model import LinearRegression\n",
    "from sklearn import metrics\n",
    "from sklearn.model_selection import cross_val_score\n",
    "from sklearn.feature_selection import f_regression\n",
    "sns.set()\n",
    "from sklearn.preprocessing import StandardScaler\n",
    "from sklearn.preprocessing import PolynomialFeatures\n",
    "from sklearn.linear_model import Lasso\n",
    "from sklearn.linear_model import LassoCV\n",
    "from sklearn.linear_model import Ridge\n",
    "from sklearn.linear_model import RidgeCV\n",
    "from sklearn.metrics import mean_squared_error, r2_score\n",
    "from sklearn.linear_model import ElasticNet\n",
    "from sklearn.linear_model import ElasticNetCV\n",
    "from sklearn.model_selection import GridSearchCV\n",
    "warnings.filterwarnings(\"ignore\")\n",
    "plt.style.use('seaborn')\n",
    "%matplotlib inline\n",
    "pd.set_option('display.max_columns', 300)"
   ]
  },
  {
   "cell_type": "code",
   "execution_count": 2,
   "metadata": {},
   "outputs": [],
   "source": [
    "df = pd.read_csv('list_working.csv',index_col=0)\n",
    "nbr = pd.read_csv('final.csv',index_col=0)"
   ]
  },
  {
   "cell_type": "code",
   "execution_count": 3,
   "metadata": {},
   "outputs": [
    {
     "data": {
      "text/plain": [
       "(5859, 55)"
      ]
     },
     "execution_count": 3,
     "metadata": {},
     "output_type": "execute_result"
    }
   ],
   "source": [
    "df.shape"
   ]
  },
  {
   "cell_type": "code",
   "execution_count": 4,
   "metadata": {},
   "outputs": [
    {
     "data": {
      "text/html": [
       "<div>\n",
       "<style scoped>\n",
       "    .dataframe tbody tr th:only-of-type {\n",
       "        vertical-align: middle;\n",
       "    }\n",
       "\n",
       "    .dataframe tbody tr th {\n",
       "        vertical-align: top;\n",
       "    }\n",
       "\n",
       "    .dataframe thead th {\n",
       "        text-align: right;\n",
       "    }\n",
       "</style>\n",
       "<table border=\"1\" class=\"dataframe\">\n",
       "  <thead>\n",
       "    <tr style=\"text-align: right;\">\n",
       "      <th></th>\n",
       "      <th>host_response_rate</th>\n",
       "      <th>host_is_superhost</th>\n",
       "      <th>host_total_listings_count</th>\n",
       "      <th>latitude</th>\n",
       "      <th>longitude</th>\n",
       "      <th>accommodates</th>\n",
       "      <th>bathrooms</th>\n",
       "      <th>bedrooms</th>\n",
       "      <th>beds</th>\n",
       "      <th>price</th>\n",
       "      <th>guests_included</th>\n",
       "      <th>extra_people</th>\n",
       "      <th>minimum_nights</th>\n",
       "      <th>number_of_reviews</th>\n",
       "      <th>review_scores_rating</th>\n",
       "      <th>instant_bookable</th>\n",
       "      <th>room_Private room</th>\n",
       "      <th>nbrhd_Bernal Heights</th>\n",
       "      <th>nbrhd_Castro/Upper Market</th>\n",
       "      <th>nbrhd_Chinatown</th>\n",
       "      <th>nbrhd_Crocker Amazon</th>\n",
       "      <th>nbrhd_Diamond Heights</th>\n",
       "      <th>nbrhd_Downtown/Civic Center</th>\n",
       "      <th>nbrhd_Excelsior</th>\n",
       "      <th>nbrhd_Financial District</th>\n",
       "      <th>nbrhd_Glen Park</th>\n",
       "      <th>nbrhd_Golden Gate Park</th>\n",
       "      <th>nbrhd_Haight Ashbury</th>\n",
       "      <th>nbrhd_Inner Richmond</th>\n",
       "      <th>nbrhd_Inner Sunset</th>\n",
       "      <th>nbrhd_Lakeshore</th>\n",
       "      <th>nbrhd_Marina</th>\n",
       "      <th>nbrhd_Mission</th>\n",
       "      <th>nbrhd_Nob Hill</th>\n",
       "      <th>nbrhd_Noe Valley</th>\n",
       "      <th>nbrhd_North Beach</th>\n",
       "      <th>nbrhd_Ocean View</th>\n",
       "      <th>nbrhd_Outer Mission</th>\n",
       "      <th>nbrhd_Outer Richmond</th>\n",
       "      <th>nbrhd_Outer Sunset</th>\n",
       "      <th>nbrhd_Pacific Heights</th>\n",
       "      <th>nbrhd_Parkside</th>\n",
       "      <th>nbrhd_Potrero Hill</th>\n",
       "      <th>nbrhd_Presidio</th>\n",
       "      <th>nbrhd_Presidio Heights</th>\n",
       "      <th>nbrhd_Russian Hill</th>\n",
       "      <th>nbrhd_Seacliff</th>\n",
       "      <th>nbrhd_South of Market</th>\n",
       "      <th>nbrhd_Twin Peaks</th>\n",
       "      <th>nbrhd_Visitacion Valley</th>\n",
       "      <th>nbrhd_West of Twin Peaks</th>\n",
       "      <th>nbrhd_Western Addition</th>\n",
       "      <th>prop_Condominium</th>\n",
       "      <th>prop_Guest suite</th>\n",
       "      <th>prop_House</th>\n",
       "    </tr>\n",
       "  </thead>\n",
       "  <tbody>\n",
       "    <tr>\n",
       "      <td>0</td>\n",
       "      <td>100</td>\n",
       "      <td>1</td>\n",
       "      <td>1.0</td>\n",
       "      <td>37.76931</td>\n",
       "      <td>-122.43386</td>\n",
       "      <td>3</td>\n",
       "      <td>1.0</td>\n",
       "      <td>1.0</td>\n",
       "      <td>2.0</td>\n",
       "      <td>170.0</td>\n",
       "      <td>2</td>\n",
       "      <td>25.0</td>\n",
       "      <td>1</td>\n",
       "      <td>217</td>\n",
       "      <td>97.0</td>\n",
       "      <td>0</td>\n",
       "      <td>0</td>\n",
       "      <td>0</td>\n",
       "      <td>0</td>\n",
       "      <td>0</td>\n",
       "      <td>0</td>\n",
       "      <td>0</td>\n",
       "      <td>0</td>\n",
       "      <td>0</td>\n",
       "      <td>0</td>\n",
       "      <td>0</td>\n",
       "      <td>0</td>\n",
       "      <td>0</td>\n",
       "      <td>0</td>\n",
       "      <td>0</td>\n",
       "      <td>0</td>\n",
       "      <td>0</td>\n",
       "      <td>0</td>\n",
       "      <td>0</td>\n",
       "      <td>0</td>\n",
       "      <td>0</td>\n",
       "      <td>0</td>\n",
       "      <td>0</td>\n",
       "      <td>0</td>\n",
       "      <td>0</td>\n",
       "      <td>0</td>\n",
       "      <td>0</td>\n",
       "      <td>0</td>\n",
       "      <td>0</td>\n",
       "      <td>0</td>\n",
       "      <td>0</td>\n",
       "      <td>0</td>\n",
       "      <td>0</td>\n",
       "      <td>0</td>\n",
       "      <td>0</td>\n",
       "      <td>0</td>\n",
       "      <td>1</td>\n",
       "      <td>0</td>\n",
       "      <td>0</td>\n",
       "      <td>0</td>\n",
       "    </tr>\n",
       "    <tr>\n",
       "      <td>1</td>\n",
       "      <td>100</td>\n",
       "      <td>1</td>\n",
       "      <td>2.0</td>\n",
       "      <td>37.75402</td>\n",
       "      <td>-122.45805</td>\n",
       "      <td>2</td>\n",
       "      <td>1.0</td>\n",
       "      <td>1.0</td>\n",
       "      <td>1.0</td>\n",
       "      <td>99.0</td>\n",
       "      <td>2</td>\n",
       "      <td>20.0</td>\n",
       "      <td>1</td>\n",
       "      <td>160</td>\n",
       "      <td>94.0</td>\n",
       "      <td>0</td>\n",
       "      <td>1</td>\n",
       "      <td>0</td>\n",
       "      <td>0</td>\n",
       "      <td>0</td>\n",
       "      <td>0</td>\n",
       "      <td>0</td>\n",
       "      <td>0</td>\n",
       "      <td>0</td>\n",
       "      <td>0</td>\n",
       "      <td>0</td>\n",
       "      <td>0</td>\n",
       "      <td>0</td>\n",
       "      <td>0</td>\n",
       "      <td>1</td>\n",
       "      <td>0</td>\n",
       "      <td>0</td>\n",
       "      <td>0</td>\n",
       "      <td>0</td>\n",
       "      <td>0</td>\n",
       "      <td>0</td>\n",
       "      <td>0</td>\n",
       "      <td>0</td>\n",
       "      <td>0</td>\n",
       "      <td>0</td>\n",
       "      <td>0</td>\n",
       "      <td>0</td>\n",
       "      <td>0</td>\n",
       "      <td>0</td>\n",
       "      <td>0</td>\n",
       "      <td>0</td>\n",
       "      <td>0</td>\n",
       "      <td>0</td>\n",
       "      <td>0</td>\n",
       "      <td>0</td>\n",
       "      <td>0</td>\n",
       "      <td>0</td>\n",
       "      <td>0</td>\n",
       "      <td>0</td>\n",
       "      <td>1</td>\n",
       "    </tr>\n",
       "    <tr>\n",
       "      <td>2</td>\n",
       "      <td>80</td>\n",
       "      <td>0</td>\n",
       "      <td>2.0</td>\n",
       "      <td>37.74511</td>\n",
       "      <td>-122.42102</td>\n",
       "      <td>5</td>\n",
       "      <td>1.0</td>\n",
       "      <td>2.0</td>\n",
       "      <td>3.0</td>\n",
       "      <td>235.0</td>\n",
       "      <td>2</td>\n",
       "      <td>0.0</td>\n",
       "      <td>30</td>\n",
       "      <td>111</td>\n",
       "      <td>98.0</td>\n",
       "      <td>0</td>\n",
       "      <td>0</td>\n",
       "      <td>1</td>\n",
       "      <td>0</td>\n",
       "      <td>0</td>\n",
       "      <td>0</td>\n",
       "      <td>0</td>\n",
       "      <td>0</td>\n",
       "      <td>0</td>\n",
       "      <td>0</td>\n",
       "      <td>0</td>\n",
       "      <td>0</td>\n",
       "      <td>0</td>\n",
       "      <td>0</td>\n",
       "      <td>0</td>\n",
       "      <td>0</td>\n",
       "      <td>0</td>\n",
       "      <td>0</td>\n",
       "      <td>0</td>\n",
       "      <td>0</td>\n",
       "      <td>0</td>\n",
       "      <td>0</td>\n",
       "      <td>0</td>\n",
       "      <td>0</td>\n",
       "      <td>0</td>\n",
       "      <td>0</td>\n",
       "      <td>0</td>\n",
       "      <td>0</td>\n",
       "      <td>0</td>\n",
       "      <td>0</td>\n",
       "      <td>0</td>\n",
       "      <td>0</td>\n",
       "      <td>0</td>\n",
       "      <td>0</td>\n",
       "      <td>0</td>\n",
       "      <td>0</td>\n",
       "      <td>0</td>\n",
       "      <td>0</td>\n",
       "      <td>0</td>\n",
       "      <td>0</td>\n",
       "    </tr>\n",
       "    <tr>\n",
       "      <td>3</td>\n",
       "      <td>86</td>\n",
       "      <td>1</td>\n",
       "      <td>10.0</td>\n",
       "      <td>37.76669</td>\n",
       "      <td>-122.45250</td>\n",
       "      <td>2</td>\n",
       "      <td>4.0</td>\n",
       "      <td>1.0</td>\n",
       "      <td>1.0</td>\n",
       "      <td>65.0</td>\n",
       "      <td>1</td>\n",
       "      <td>12.0</td>\n",
       "      <td>32</td>\n",
       "      <td>18</td>\n",
       "      <td>86.0</td>\n",
       "      <td>0</td>\n",
       "      <td>1</td>\n",
       "      <td>0</td>\n",
       "      <td>0</td>\n",
       "      <td>0</td>\n",
       "      <td>0</td>\n",
       "      <td>0</td>\n",
       "      <td>0</td>\n",
       "      <td>0</td>\n",
       "      <td>0</td>\n",
       "      <td>0</td>\n",
       "      <td>0</td>\n",
       "      <td>1</td>\n",
       "      <td>0</td>\n",
       "      <td>0</td>\n",
       "      <td>0</td>\n",
       "      <td>0</td>\n",
       "      <td>0</td>\n",
       "      <td>0</td>\n",
       "      <td>0</td>\n",
       "      <td>0</td>\n",
       "      <td>0</td>\n",
       "      <td>0</td>\n",
       "      <td>0</td>\n",
       "      <td>0</td>\n",
       "      <td>0</td>\n",
       "      <td>0</td>\n",
       "      <td>0</td>\n",
       "      <td>0</td>\n",
       "      <td>0</td>\n",
       "      <td>0</td>\n",
       "      <td>0</td>\n",
       "      <td>0</td>\n",
       "      <td>0</td>\n",
       "      <td>0</td>\n",
       "      <td>0</td>\n",
       "      <td>0</td>\n",
       "      <td>0</td>\n",
       "      <td>0</td>\n",
       "      <td>0</td>\n",
       "    </tr>\n",
       "    <tr>\n",
       "      <td>4</td>\n",
       "      <td>86</td>\n",
       "      <td>1</td>\n",
       "      <td>10.0</td>\n",
       "      <td>37.76487</td>\n",
       "      <td>-122.45183</td>\n",
       "      <td>2</td>\n",
       "      <td>4.0</td>\n",
       "      <td>1.0</td>\n",
       "      <td>1.0</td>\n",
       "      <td>65.0</td>\n",
       "      <td>1</td>\n",
       "      <td>12.0</td>\n",
       "      <td>32</td>\n",
       "      <td>8</td>\n",
       "      <td>93.0</td>\n",
       "      <td>0</td>\n",
       "      <td>1</td>\n",
       "      <td>0</td>\n",
       "      <td>0</td>\n",
       "      <td>0</td>\n",
       "      <td>0</td>\n",
       "      <td>0</td>\n",
       "      <td>0</td>\n",
       "      <td>0</td>\n",
       "      <td>0</td>\n",
       "      <td>0</td>\n",
       "      <td>0</td>\n",
       "      <td>1</td>\n",
       "      <td>0</td>\n",
       "      <td>0</td>\n",
       "      <td>0</td>\n",
       "      <td>0</td>\n",
       "      <td>0</td>\n",
       "      <td>0</td>\n",
       "      <td>0</td>\n",
       "      <td>0</td>\n",
       "      <td>0</td>\n",
       "      <td>0</td>\n",
       "      <td>0</td>\n",
       "      <td>0</td>\n",
       "      <td>0</td>\n",
       "      <td>0</td>\n",
       "      <td>0</td>\n",
       "      <td>0</td>\n",
       "      <td>0</td>\n",
       "      <td>0</td>\n",
       "      <td>0</td>\n",
       "      <td>0</td>\n",
       "      <td>0</td>\n",
       "      <td>0</td>\n",
       "      <td>0</td>\n",
       "      <td>0</td>\n",
       "      <td>0</td>\n",
       "      <td>0</td>\n",
       "      <td>0</td>\n",
       "    </tr>\n",
       "  </tbody>\n",
       "</table>\n",
       "</div>"
      ],
      "text/plain": [
       "   host_response_rate  host_is_superhost  host_total_listings_count  latitude  \\\n",
       "0                 100                  1                        1.0  37.76931   \n",
       "1                 100                  1                        2.0  37.75402   \n",
       "2                  80                  0                        2.0  37.74511   \n",
       "3                  86                  1                       10.0  37.76669   \n",
       "4                  86                  1                       10.0  37.76487   \n",
       "\n",
       "   longitude  accommodates  bathrooms  bedrooms  beds  price  guests_included  \\\n",
       "0 -122.43386             3        1.0       1.0   2.0  170.0                2   \n",
       "1 -122.45805             2        1.0       1.0   1.0   99.0                2   \n",
       "2 -122.42102             5        1.0       2.0   3.0  235.0                2   \n",
       "3 -122.45250             2        4.0       1.0   1.0   65.0                1   \n",
       "4 -122.45183             2        4.0       1.0   1.0   65.0                1   \n",
       "\n",
       "   extra_people  minimum_nights  number_of_reviews  review_scores_rating  \\\n",
       "0          25.0               1                217                  97.0   \n",
       "1          20.0               1                160                  94.0   \n",
       "2           0.0              30                111                  98.0   \n",
       "3          12.0              32                 18                  86.0   \n",
       "4          12.0              32                  8                  93.0   \n",
       "\n",
       "   instant_bookable  room_Private room  nbrhd_Bernal Heights  \\\n",
       "0                 0                  0                     0   \n",
       "1                 0                  1                     0   \n",
       "2                 0                  0                     1   \n",
       "3                 0                  1                     0   \n",
       "4                 0                  1                     0   \n",
       "\n",
       "   nbrhd_Castro/Upper Market  nbrhd_Chinatown  nbrhd_Crocker Amazon  \\\n",
       "0                          0                0                     0   \n",
       "1                          0                0                     0   \n",
       "2                          0                0                     0   \n",
       "3                          0                0                     0   \n",
       "4                          0                0                     0   \n",
       "\n",
       "   nbrhd_Diamond Heights  nbrhd_Downtown/Civic Center  nbrhd_Excelsior  \\\n",
       "0                      0                            0                0   \n",
       "1                      0                            0                0   \n",
       "2                      0                            0                0   \n",
       "3                      0                            0                0   \n",
       "4                      0                            0                0   \n",
       "\n",
       "   nbrhd_Financial District  nbrhd_Glen Park  nbrhd_Golden Gate Park  \\\n",
       "0                         0                0                       0   \n",
       "1                         0                0                       0   \n",
       "2                         0                0                       0   \n",
       "3                         0                0                       0   \n",
       "4                         0                0                       0   \n",
       "\n",
       "   nbrhd_Haight Ashbury  nbrhd_Inner Richmond  nbrhd_Inner Sunset  \\\n",
       "0                     0                     0                   0   \n",
       "1                     0                     0                   1   \n",
       "2                     0                     0                   0   \n",
       "3                     1                     0                   0   \n",
       "4                     1                     0                   0   \n",
       "\n",
       "   nbrhd_Lakeshore  nbrhd_Marina  nbrhd_Mission  nbrhd_Nob Hill  \\\n",
       "0                0             0              0               0   \n",
       "1                0             0              0               0   \n",
       "2                0             0              0               0   \n",
       "3                0             0              0               0   \n",
       "4                0             0              0               0   \n",
       "\n",
       "   nbrhd_Noe Valley  nbrhd_North Beach  nbrhd_Ocean View  nbrhd_Outer Mission  \\\n",
       "0                 0                  0                 0                    0   \n",
       "1                 0                  0                 0                    0   \n",
       "2                 0                  0                 0                    0   \n",
       "3                 0                  0                 0                    0   \n",
       "4                 0                  0                 0                    0   \n",
       "\n",
       "   nbrhd_Outer Richmond  nbrhd_Outer Sunset  nbrhd_Pacific Heights  \\\n",
       "0                     0                   0                      0   \n",
       "1                     0                   0                      0   \n",
       "2                     0                   0                      0   \n",
       "3                     0                   0                      0   \n",
       "4                     0                   0                      0   \n",
       "\n",
       "   nbrhd_Parkside  nbrhd_Potrero Hill  nbrhd_Presidio  nbrhd_Presidio Heights  \\\n",
       "0               0                   0               0                       0   \n",
       "1               0                   0               0                       0   \n",
       "2               0                   0               0                       0   \n",
       "3               0                   0               0                       0   \n",
       "4               0                   0               0                       0   \n",
       "\n",
       "   nbrhd_Russian Hill  nbrhd_Seacliff  nbrhd_South of Market  \\\n",
       "0                   0               0                      0   \n",
       "1                   0               0                      0   \n",
       "2                   0               0                      0   \n",
       "3                   0               0                      0   \n",
       "4                   0               0                      0   \n",
       "\n",
       "   nbrhd_Twin Peaks  nbrhd_Visitacion Valley  nbrhd_West of Twin Peaks  \\\n",
       "0                 0                        0                         0   \n",
       "1                 0                        0                         0   \n",
       "2                 0                        0                         0   \n",
       "3                 0                        0                         0   \n",
       "4                 0                        0                         0   \n",
       "\n",
       "   nbrhd_Western Addition  prop_Condominium  prop_Guest suite  prop_House  \n",
       "0                       1                 0                 0           0  \n",
       "1                       0                 0                 0           1  \n",
       "2                       0                 0                 0           0  \n",
       "3                       0                 0                 0           0  \n",
       "4                       0                 0                 0           0  "
      ]
     },
     "execution_count": 4,
     "metadata": {},
     "output_type": "execute_result"
    }
   ],
   "source": [
    "df.head()"
   ]
  },
  {
   "cell_type": "code",
   "execution_count": 5,
   "metadata": {},
   "outputs": [
    {
     "data": {
      "text/plain": [
       "Index(['host_response_rate', 'host_is_superhost', 'host_total_listings_count',\n",
       "       'latitude', 'longitude', 'accommodates', 'bathrooms', 'bedrooms',\n",
       "       'beds', 'price', 'guests_included', 'extra_people', 'minimum_nights',\n",
       "       'number_of_reviews', 'review_scores_rating', 'instant_bookable',\n",
       "       'room_Private room', 'nbrhd_Bernal Heights',\n",
       "       'nbrhd_Castro/Upper Market', 'nbrhd_Chinatown', 'nbrhd_Crocker Amazon',\n",
       "       'nbrhd_Diamond Heights', 'nbrhd_Downtown/Civic Center',\n",
       "       'nbrhd_Excelsior', 'nbrhd_Financial District', 'nbrhd_Glen Park',\n",
       "       'nbrhd_Golden Gate Park', 'nbrhd_Haight Ashbury',\n",
       "       'nbrhd_Inner Richmond', 'nbrhd_Inner Sunset', 'nbrhd_Lakeshore',\n",
       "       'nbrhd_Marina', 'nbrhd_Mission', 'nbrhd_Nob Hill', 'nbrhd_Noe Valley',\n",
       "       'nbrhd_North Beach', 'nbrhd_Ocean View', 'nbrhd_Outer Mission',\n",
       "       'nbrhd_Outer Richmond', 'nbrhd_Outer Sunset', 'nbrhd_Pacific Heights',\n",
       "       'nbrhd_Parkside', 'nbrhd_Potrero Hill', 'nbrhd_Presidio',\n",
       "       'nbrhd_Presidio Heights', 'nbrhd_Russian Hill', 'nbrhd_Seacliff',\n",
       "       'nbrhd_South of Market', 'nbrhd_Twin Peaks', 'nbrhd_Visitacion Valley',\n",
       "       'nbrhd_West of Twin Peaks', 'nbrhd_Western Addition',\n",
       "       'prop_Condominium', 'prop_Guest suite', 'prop_House'],\n",
       "      dtype='object')"
      ]
     },
     "execution_count": 5,
     "metadata": {},
     "output_type": "execute_result"
    }
   ],
   "source": [
    "df.columns"
   ]
  },
  {
   "cell_type": "markdown",
   "metadata": {},
   "source": []
  },
  {
   "cell_type": "code",
   "execution_count": null,
   "metadata": {},
   "outputs": [],
   "source": []
  },
  {
   "cell_type": "code",
   "execution_count": null,
   "metadata": {},
   "outputs": [],
   "source": []
  },
  {
   "cell_type": "markdown",
   "metadata": {},
   "source": [
    "## Splitting into feature and target"
   ]
  },
  {
   "cell_type": "code",
   "execution_count": 6,
   "metadata": {},
   "outputs": [
    {
     "data": {
      "text/html": [
       "<div>\n",
       "<style scoped>\n",
       "    .dataframe tbody tr th:only-of-type {\n",
       "        vertical-align: middle;\n",
       "    }\n",
       "\n",
       "    .dataframe tbody tr th {\n",
       "        vertical-align: top;\n",
       "    }\n",
       "\n",
       "    .dataframe thead th {\n",
       "        text-align: right;\n",
       "    }\n",
       "</style>\n",
       "<table border=\"1\" class=\"dataframe\">\n",
       "  <thead>\n",
       "    <tr style=\"text-align: right;\">\n",
       "      <th></th>\n",
       "      <th>bedrooms</th>\n",
       "      <th>room_Private room</th>\n",
       "      <th>minimum_nights</th>\n",
       "      <th>latitude</th>\n",
       "      <th>number_of_reviews</th>\n",
       "      <th>bathrooms</th>\n",
       "      <th>extra_people</th>\n",
       "      <th>accommodates</th>\n",
       "      <th>review_scores_rating</th>\n",
       "      <th>prop_Guest suite</th>\n",
       "      <th>longitude</th>\n",
       "      <th>beds</th>\n",
       "      <th>number_of_reviews</th>\n",
       "      <th>host_response_rate</th>\n",
       "      <th>prop_House</th>\n",
       "      <th>guests_included</th>\n",
       "      <th>prop_Condominium</th>\n",
       "    </tr>\n",
       "  </thead>\n",
       "  <tbody>\n",
       "    <tr>\n",
       "      <td>0</td>\n",
       "      <td>1.0</td>\n",
       "      <td>0</td>\n",
       "      <td>1</td>\n",
       "      <td>37.76931</td>\n",
       "      <td>217</td>\n",
       "      <td>1.0</td>\n",
       "      <td>25.0</td>\n",
       "      <td>3</td>\n",
       "      <td>97.0</td>\n",
       "      <td>0</td>\n",
       "      <td>-122.43386</td>\n",
       "      <td>2.0</td>\n",
       "      <td>217</td>\n",
       "      <td>100</td>\n",
       "      <td>0</td>\n",
       "      <td>2</td>\n",
       "      <td>0</td>\n",
       "    </tr>\n",
       "    <tr>\n",
       "      <td>1</td>\n",
       "      <td>1.0</td>\n",
       "      <td>1</td>\n",
       "      <td>1</td>\n",
       "      <td>37.75402</td>\n",
       "      <td>160</td>\n",
       "      <td>1.0</td>\n",
       "      <td>20.0</td>\n",
       "      <td>2</td>\n",
       "      <td>94.0</td>\n",
       "      <td>0</td>\n",
       "      <td>-122.45805</td>\n",
       "      <td>1.0</td>\n",
       "      <td>160</td>\n",
       "      <td>100</td>\n",
       "      <td>1</td>\n",
       "      <td>2</td>\n",
       "      <td>0</td>\n",
       "    </tr>\n",
       "    <tr>\n",
       "      <td>2</td>\n",
       "      <td>2.0</td>\n",
       "      <td>0</td>\n",
       "      <td>30</td>\n",
       "      <td>37.74511</td>\n",
       "      <td>111</td>\n",
       "      <td>1.0</td>\n",
       "      <td>0.0</td>\n",
       "      <td>5</td>\n",
       "      <td>98.0</td>\n",
       "      <td>0</td>\n",
       "      <td>-122.42102</td>\n",
       "      <td>3.0</td>\n",
       "      <td>111</td>\n",
       "      <td>80</td>\n",
       "      <td>0</td>\n",
       "      <td>2</td>\n",
       "      <td>0</td>\n",
       "    </tr>\n",
       "    <tr>\n",
       "      <td>3</td>\n",
       "      <td>1.0</td>\n",
       "      <td>1</td>\n",
       "      <td>32</td>\n",
       "      <td>37.76669</td>\n",
       "      <td>18</td>\n",
       "      <td>4.0</td>\n",
       "      <td>12.0</td>\n",
       "      <td>2</td>\n",
       "      <td>86.0</td>\n",
       "      <td>0</td>\n",
       "      <td>-122.45250</td>\n",
       "      <td>1.0</td>\n",
       "      <td>18</td>\n",
       "      <td>86</td>\n",
       "      <td>0</td>\n",
       "      <td>1</td>\n",
       "      <td>0</td>\n",
       "    </tr>\n",
       "    <tr>\n",
       "      <td>4</td>\n",
       "      <td>1.0</td>\n",
       "      <td>1</td>\n",
       "      <td>32</td>\n",
       "      <td>37.76487</td>\n",
       "      <td>8</td>\n",
       "      <td>4.0</td>\n",
       "      <td>12.0</td>\n",
       "      <td>2</td>\n",
       "      <td>93.0</td>\n",
       "      <td>0</td>\n",
       "      <td>-122.45183</td>\n",
       "      <td>1.0</td>\n",
       "      <td>8</td>\n",
       "      <td>86</td>\n",
       "      <td>0</td>\n",
       "      <td>1</td>\n",
       "      <td>0</td>\n",
       "    </tr>\n",
       "  </tbody>\n",
       "</table>\n",
       "</div>"
      ],
      "text/plain": [
       "   bedrooms  room_Private room  minimum_nights  latitude  number_of_reviews  \\\n",
       "0       1.0                  0               1  37.76931                217   \n",
       "1       1.0                  1               1  37.75402                160   \n",
       "2       2.0                  0              30  37.74511                111   \n",
       "3       1.0                  1              32  37.76669                 18   \n",
       "4       1.0                  1              32  37.76487                  8   \n",
       "\n",
       "   bathrooms  extra_people  accommodates  review_scores_rating  \\\n",
       "0        1.0          25.0             3                  97.0   \n",
       "1        1.0          20.0             2                  94.0   \n",
       "2        1.0           0.0             5                  98.0   \n",
       "3        4.0          12.0             2                  86.0   \n",
       "4        4.0          12.0             2                  93.0   \n",
       "\n",
       "   prop_Guest suite  longitude  beds  number_of_reviews  host_response_rate  \\\n",
       "0                 0 -122.43386   2.0                217                 100   \n",
       "1                 0 -122.45805   1.0                160                 100   \n",
       "2                 0 -122.42102   3.0                111                  80   \n",
       "3                 0 -122.45250   1.0                 18                  86   \n",
       "4                 0 -122.45183   1.0                  8                  86   \n",
       "\n",
       "   prop_House  guests_included  prop_Condominium  \n",
       "0           0                2                 0  \n",
       "1           1                2                 0  \n",
       "2           0                2                 0  \n",
       "3           0                1                 0  \n",
       "4           0                1                 0  "
      ]
     },
     "execution_count": 6,
     "metadata": {},
     "output_type": "execute_result"
    }
   ],
   "source": [
    "df_tgt = df.price\n",
    "df_feat2 = df[['bedrooms','room_Private room','minimum_nights','latitude','number_of_reviews','bathrooms','extra_people',\n",
    " 'accommodates',\n",
    " 'review_scores_rating',\n",
    " 'prop_Guest suite',\n",
    " 'longitude',\n",
    " 'beds',\n",
    " 'number_of_reviews',\n",
    " 'host_response_rate',\n",
    " 'prop_House',\n",
    " 'guests_included',\n",
    " 'prop_Condominium']]\n",
    "df_feat2.head()"
   ]
  },
  {
   "cell_type": "code",
   "execution_count": 7,
   "metadata": {},
   "outputs": [
    {
     "data": {
      "text/plain": [
       "0       170.0\n",
       "1        99.0\n",
       "2       235.0\n",
       "3        65.0\n",
       "4        65.0\n",
       "        ...  \n",
       "7108    299.0\n",
       "7109    100.0\n",
       "7110    250.0\n",
       "7111    200.0\n",
       "7113    187.0\n",
       "Name: price, Length: 5859, dtype: float64"
      ]
     },
     "execution_count": 7,
     "metadata": {},
     "output_type": "execute_result"
    }
   ],
   "source": [
    "df_tgt"
   ]
  },
  {
   "cell_type": "markdown",
   "metadata": {},
   "source": [
    "## Creating the Test and Train Set"
   ]
  },
  {
   "cell_type": "code",
   "execution_count": 8,
   "metadata": {},
   "outputs": [
    {
     "name": "stdout",
     "output_type": "stream",
     "text": [
      "Training set - Features:  (4687, 17) Target:  (4687,)\n",
      "Training set - Features:  (1172, 17) Target:  (1172,)\n"
     ]
    }
   ],
   "source": [
    "\n",
    "X_train, X_test, y_train, y_test = train_test_split(df_feat2, df_tgt, random_state=13,test_size=0.2)\n",
    "\n",
    "#check the shape of the results\n",
    "print(\"Training set - Features: \", X_train.shape, \"Target: \", y_train.shape)\n",
    "print(\"Training set - Features: \", X_test.shape, \"Target: \",y_test.shape)\n",
    "\n",
    "reg = LinearRegression()\n",
    "reg.fit(X_train,y_train)\n",
    "df_feat_col = pd.DataFrame(data = df_feat2.columns.values, columns=['Features'])\n"
   ]
  },
  {
   "cell_type": "code",
   "execution_count": 9,
   "metadata": {},
   "outputs": [
    {
     "data": {
      "text/html": [
       "<div>\n",
       "<style scoped>\n",
       "    .dataframe tbody tr th:only-of-type {\n",
       "        vertical-align: middle;\n",
       "    }\n",
       "\n",
       "    .dataframe tbody tr th {\n",
       "        vertical-align: top;\n",
       "    }\n",
       "\n",
       "    .dataframe thead th {\n",
       "        text-align: right;\n",
       "    }\n",
       "</style>\n",
       "<table border=\"1\" class=\"dataframe\">\n",
       "  <thead>\n",
       "    <tr style=\"text-align: right;\">\n",
       "      <th></th>\n",
       "      <th>Features</th>\n",
       "      <th>Weights</th>\n",
       "      <th>P Values</th>\n",
       "    </tr>\n",
       "  </thead>\n",
       "  <tbody>\n",
       "    <tr>\n",
       "      <td>10</td>\n",
       "      <td>longitude</td>\n",
       "      <td>291.724556</td>\n",
       "      <td>0.150</td>\n",
       "    </tr>\n",
       "    <tr>\n",
       "      <td>14</td>\n",
       "      <td>prop_House</td>\n",
       "      <td>11.232647</td>\n",
       "      <td>0.054</td>\n",
       "    </tr>\n",
       "    <tr>\n",
       "      <td>13</td>\n",
       "      <td>host_response_rate</td>\n",
       "      <td>-0.363772</td>\n",
       "      <td>0.027</td>\n",
       "    </tr>\n",
       "    <tr>\n",
       "      <td>0</td>\n",
       "      <td>bedrooms</td>\n",
       "      <td>43.720368</td>\n",
       "      <td>0.000</td>\n",
       "    </tr>\n",
       "    <tr>\n",
       "      <td>9</td>\n",
       "      <td>prop_Guest suite</td>\n",
       "      <td>-23.101975</td>\n",
       "      <td>0.000</td>\n",
       "    </tr>\n",
       "    <tr>\n",
       "      <td>15</td>\n",
       "      <td>guests_included</td>\n",
       "      <td>2.976042</td>\n",
       "      <td>0.000</td>\n",
       "    </tr>\n",
       "    <tr>\n",
       "      <td>12</td>\n",
       "      <td>number_of_reviews</td>\n",
       "      <td>-0.094928</td>\n",
       "      <td>0.000</td>\n",
       "    </tr>\n",
       "    <tr>\n",
       "      <td>11</td>\n",
       "      <td>beds</td>\n",
       "      <td>5.641460</td>\n",
       "      <td>0.000</td>\n",
       "    </tr>\n",
       "    <tr>\n",
       "      <td>8</td>\n",
       "      <td>review_scores_rating</td>\n",
       "      <td>1.279883</td>\n",
       "      <td>0.000</td>\n",
       "    </tr>\n",
       "    <tr>\n",
       "      <td>1</td>\n",
       "      <td>room_Private room</td>\n",
       "      <td>-84.122068</td>\n",
       "      <td>0.000</td>\n",
       "    </tr>\n",
       "    <tr>\n",
       "      <td>7</td>\n",
       "      <td>accommodates</td>\n",
       "      <td>12.410728</td>\n",
       "      <td>0.000</td>\n",
       "    </tr>\n",
       "    <tr>\n",
       "      <td>6</td>\n",
       "      <td>extra_people</td>\n",
       "      <td>0.363738</td>\n",
       "      <td>0.000</td>\n",
       "    </tr>\n",
       "    <tr>\n",
       "      <td>5</td>\n",
       "      <td>bathrooms</td>\n",
       "      <td>21.783465</td>\n",
       "      <td>0.000</td>\n",
       "    </tr>\n",
       "    <tr>\n",
       "      <td>4</td>\n",
       "      <td>number_of_reviews</td>\n",
       "      <td>-0.094928</td>\n",
       "      <td>0.000</td>\n",
       "    </tr>\n",
       "    <tr>\n",
       "      <td>3</td>\n",
       "      <td>latitude</td>\n",
       "      <td>1108.424831</td>\n",
       "      <td>0.000</td>\n",
       "    </tr>\n",
       "    <tr>\n",
       "      <td>2</td>\n",
       "      <td>minimum_nights</td>\n",
       "      <td>-3.047969</td>\n",
       "      <td>0.000</td>\n",
       "    </tr>\n",
       "    <tr>\n",
       "      <td>16</td>\n",
       "      <td>prop_Condominium</td>\n",
       "      <td>11.133691</td>\n",
       "      <td>0.000</td>\n",
       "    </tr>\n",
       "  </tbody>\n",
       "</table>\n",
       "</div>"
      ],
      "text/plain": [
       "                Features      Weights  P Values\n",
       "10             longitude   291.724556     0.150\n",
       "14            prop_House    11.232647     0.054\n",
       "13    host_response_rate    -0.363772     0.027\n",
       "0               bedrooms    43.720368     0.000\n",
       "9       prop_Guest suite   -23.101975     0.000\n",
       "15       guests_included     2.976042     0.000\n",
       "12     number_of_reviews    -0.094928     0.000\n",
       "11                  beds     5.641460     0.000\n",
       "8   review_scores_rating     1.279883     0.000\n",
       "1      room_Private room   -84.122068     0.000\n",
       "7           accommodates    12.410728     0.000\n",
       "6           extra_people     0.363738     0.000\n",
       "5              bathrooms    21.783465     0.000\n",
       "4      number_of_reviews    -0.094928     0.000\n",
       "3               latitude  1108.424831     0.000\n",
       "2         minimum_nights    -3.047969     0.000\n",
       "16      prop_Condominium    11.133691     0.000"
      ]
     },
     "execution_count": 9,
     "metadata": {},
     "output_type": "execute_result"
    }
   ],
   "source": [
    "\n",
    "p_values = f_regression(X_train,y_train)[1]\n",
    "df_feat_col['Weights'] = reg.coef_\n",
    "df_feat_col['P Values'] = p_values.round(3)\n",
    "df_feat_col.sort_values(['P Values'], ascending=False)"
   ]
  },
  {
   "cell_type": "code",
   "execution_count": 10,
   "metadata": {},
   "outputs": [
    {
     "data": {
      "text/plain": [
       "0.574"
      ]
     },
     "execution_count": 10,
     "metadata": {},
     "output_type": "execute_result"
    }
   ],
   "source": [
    "r2_train = reg.score(X_train, y_train)\n",
    "r2_train = round(r2_train, 3)\n",
    "n = X_train.shape[0]\n",
    "p = X_train.shape[1]\n",
    "adjusted_r2_train = 1-(1-r2_train)*(n-1)/(n-p-1)\n",
    "adjusted_r2_train = round(adjusted_r2_train, 3)\n",
    "adjusted_r2_train\n"
   ]
  },
  {
   "cell_type": "code",
   "execution_count": 11,
   "metadata": {},
   "outputs": [
    {
     "data": {
      "text/plain": [
       "93.889"
      ]
     },
     "execution_count": 11,
     "metadata": {},
     "output_type": "execute_result"
    }
   ],
   "source": [
    "\n",
    "\n",
    "y_train_pred = reg.predict(X_train)\n",
    "train_rmse = np.sqrt(metrics.mean_squared_error(y_train, y_train_pred))\n",
    "train_rmse = round(train_rmse, 3)\n",
    "train_rmse"
   ]
  },
  {
   "cell_type": "code",
   "execution_count": 12,
   "metadata": {},
   "outputs": [
    {
     "data": {
      "text/plain": [
       "0.526"
      ]
     },
     "execution_count": 12,
     "metadata": {},
     "output_type": "execute_result"
    }
   ],
   "source": [
    "reg.score(X_test, y_test)\n",
    "r2_test = reg.score(X_test, y_test)\n",
    "n = X_test.shape[0]\n",
    "p = X_test.shape[1]\n",
    "\n",
    "adjusted_r2_test = 1-(1-r2_test)*(n-1)/(n-p-1)\n",
    "r2_test = round(r2_test, 3)\n",
    "adjusted_r2_test = round(adjusted_r2_test, 3)\n",
    "adjusted_r2_test\n"
   ]
  },
  {
   "cell_type": "code",
   "execution_count": 13,
   "metadata": {},
   "outputs": [
    {
     "data": {
      "text/plain": [
       "94.28596060633767"
      ]
     },
     "execution_count": 13,
     "metadata": {},
     "output_type": "execute_result"
    }
   ],
   "source": [
    "y_test_pred = reg.predict(X_test)\n",
    "test_rmse = np.sqrt(metrics.mean_squared_error(y_test, y_test_pred))\n",
    "test_rmse"
   ]
  },
  {
   "cell_type": "code",
   "execution_count": 14,
   "metadata": {},
   "outputs": [
    {
     "data": {
      "text/plain": [
       "Text(0, 0.5, 'Predictions')"
      ]
     },
     "execution_count": 14,
     "metadata": {},
     "output_type": "execute_result"
    },
    {
     "data": {
      "image/png": "[encoded data removed]",
      "text/plain": [
       "<Figure size 432x288 with 1 Axes>"
      ]
     },
     "metadata": {
      "needs_background": "light"
     },
     "output_type": "display_data"
    }
   ],
   "source": [
    "plt.scatter(y_test, y_test_pred, alpha=0.3)\n",
    "plt.xlabel(\"True Values\")\n",
    "plt.ylabel(\"Predictions\")"
   ]
  },
  {
   "cell_type": "code",
   "execution_count": 15,
   "metadata": {
    "scrolled": true
   },
   "outputs": [
    {
     "data": {
      "text/html": [
       "<div>\n",
       "<style scoped>\n",
       "    .dataframe tbody tr th:only-of-type {\n",
       "        vertical-align: middle;\n",
       "    }\n",
       "\n",
       "    .dataframe tbody tr th {\n",
       "        vertical-align: top;\n",
       "    }\n",
       "\n",
       "    .dataframe thead th {\n",
       "        text-align: right;\n",
       "    }\n",
       "</style>\n",
       "<table border=\"1\" class=\"dataframe\">\n",
       "  <thead>\n",
       "    <tr style=\"text-align: right;\">\n",
       "      <th></th>\n",
       "      <th>Model</th>\n",
       "      <th>Description</th>\n",
       "      <th>Train (RMSE)</th>\n",
       "      <th>R-squared (training)</th>\n",
       "      <th>Adjusted R-squared (training)</th>\n",
       "      <th>Test (RMSE)</th>\n",
       "      <th>R-squared (test)</th>\n",
       "      <th>Adjusted R-squared (test)</th>\n",
       "    </tr>\n",
       "  </thead>\n",
       "  <tbody>\n",
       "  </tbody>\n",
       "</table>\n",
       "</div>"
      ],
      "text/plain": [
       "Empty DataFrame\n",
       "Columns: [Model, Description, Train (RMSE), R-squared (training), Adjusted R-squared (training), Test (RMSE), R-squared (test), Adjusted R-squared (test)]\n",
       "Index: []"
      ]
     },
     "execution_count": 15,
     "metadata": {},
     "output_type": "execute_result"
    }
   ],
   "source": [
    "\n",
    "summary_df = pd.DataFrame(columns=['Model', 'Description','Train (RMSE)', 'R-squared (training)', 'Adjusted R-squared (training)','Test (RMSE)','R-squared (test)', 'Adjusted R-squared (test)'])\n",
    "summary_df"
   ]
  },
  {
   "cell_type": "code",
   "execution_count": 16,
   "metadata": {},
   "outputs": [
    {
     "data": {
      "text/html": [
       "<div>\n",
       "<style scoped>\n",
       "    .dataframe tbody tr th:only-of-type {\n",
       "        vertical-align: middle;\n",
       "    }\n",
       "\n",
       "    .dataframe tbody tr th {\n",
       "        vertical-align: top;\n",
       "    }\n",
       "\n",
       "    .dataframe thead th {\n",
       "        text-align: right;\n",
       "    }\n",
       "</style>\n",
       "<table border=\"1\" class=\"dataframe\">\n",
       "  <thead>\n",
       "    <tr style=\"text-align: right;\">\n",
       "      <th></th>\n",
       "      <th>Model</th>\n",
       "      <th>Description</th>\n",
       "      <th>Train (RMSE)</th>\n",
       "      <th>R-squared (training)</th>\n",
       "      <th>Adjusted R-squared (training)</th>\n",
       "      <th>Test (RMSE)</th>\n",
       "      <th>R-squared (test)</th>\n",
       "      <th>Adjusted R-squared (test)</th>\n",
       "    </tr>\n",
       "  </thead>\n",
       "  <tbody>\n",
       "    <tr>\n",
       "      <td>0</td>\n",
       "      <td>Multiple Regression-1</td>\n",
       "      <td>All Features</td>\n",
       "      <td>93.889</td>\n",
       "      <td>0.576</td>\n",
       "      <td>0.574</td>\n",
       "      <td>94.285961</td>\n",
       "      <td>0.533</td>\n",
       "      <td>0.526</td>\n",
       "    </tr>\n",
       "  </tbody>\n",
       "</table>\n",
       "</div>"
      ],
      "text/plain": [
       "                   Model   Description  Train (RMSE)  R-squared (training)  \\\n",
       "0  Multiple Regression-1  All Features        93.889                 0.576   \n",
       "\n",
       "   Adjusted R-squared (training)  Test (RMSE)  R-squared (test)  \\\n",
       "0                          0.574    94.285961             0.533   \n",
       "\n",
       "   Adjusted R-squared (test)  \n",
       "0                      0.526  "
      ]
     },
     "execution_count": 16,
     "metadata": {},
     "output_type": "execute_result"
    }
   ],
   "source": [
    "\n",
    "summary_df = summary_df.append({'Model' : 'Multiple Regression-1', 'Description' : 'All Features' , 'Train (RMSE)' : train_rmse, 'R-squared (training)' : r2_train, 'Adjusted R-squared (training)': adjusted_r2_train, 'Test (RMSE)' : test_rmse, 'R-squared (test)' : r2_test, 'Adjusted R-squared (test)' : adjusted_r2_test} , ignore_index=True)\n",
    "summary_df\n",
    "\n",
    "\n"
   ]
  },
  {
   "cell_type": "markdown",
   "metadata": {},
   "source": [
    "## Second Model- Dropping Superhost and Host Listings Count\n",
    "Superhost and Host Listings Count had the highest P-Values which means we're the least confident they are not 0. We are aksi dropping the neighborhoods dummy variable."
   ]
  },
  {
   "cell_type": "code",
   "execution_count": 17,
   "metadata": {},
   "outputs": [],
   "source": [
    "df_feat = df[['bedrooms','room_Private room','minimum_nights','latitude','number_of_reviews','bathrooms',\n",
    " 'accommodates',\n",
    " 'review_scores_rating',\n",
    " 'prop_Guest suite',\n",
    " 'longitude',\n",
    " 'beds',\n",
    " 'number_of_reviews',\n",
    " 'host_response_rate',\n",
    " 'prop_House',\n",
    " 'prop_Condominium']]\n",
    "df_tgt = df.price"
   ]
  },
  {
   "cell_type": "code",
   "execution_count": 18,
   "metadata": {},
   "outputs": [
    {
     "name": "stdout",
     "output_type": "stream",
     "text": [
      "Training set - Features:  (4687, 15) Target:  (4687,)\n",
      "Training set - Features:  (1172, 15) Target:  (1172,)\n"
     ]
    }
   ],
   "source": [
    "X_train, X_test, y_train, y_test = train_test_split(df_feat, df_tgt, random_state=13,test_size=0.2)\n",
    "\n",
    "#check the shape of the results\n",
    "print(\"Training set - Features: \", X_train.shape, \"Target: \", y_train.shape)\n",
    "print(\"Training set - Features: \", X_test.shape, \"Target: \",y_test.shape)\n",
    "\n",
    "reg = LinearRegression()\n",
    "reg.fit(X_train,y_train)\n",
    "df_feat_col = pd.DataFrame(data = df_feat.columns.values, columns=['Features'])\n"
   ]
  },
  {
   "cell_type": "code",
   "execution_count": 19,
   "metadata": {},
   "outputs": [
    {
     "data": {
      "text/html": [
       "<div>\n",
       "<style scoped>\n",
       "    .dataframe tbody tr th:only-of-type {\n",
       "        vertical-align: middle;\n",
       "    }\n",
       "\n",
       "    .dataframe tbody tr th {\n",
       "        vertical-align: top;\n",
       "    }\n",
       "\n",
       "    .dataframe thead th {\n",
       "        text-align: right;\n",
       "    }\n",
       "</style>\n",
       "<table border=\"1\" class=\"dataframe\">\n",
       "  <thead>\n",
       "    <tr style=\"text-align: right;\">\n",
       "      <th></th>\n",
       "      <th>Features</th>\n",
       "      <th>Weights</th>\n",
       "      <th>P Values</th>\n",
       "    </tr>\n",
       "  </thead>\n",
       "  <tbody>\n",
       "    <tr>\n",
       "      <td>9</td>\n",
       "      <td>longitude</td>\n",
       "      <td>287.368871</td>\n",
       "      <td>0.150</td>\n",
       "    </tr>\n",
       "    <tr>\n",
       "      <td>13</td>\n",
       "      <td>prop_House</td>\n",
       "      <td>12.820505</td>\n",
       "      <td>0.054</td>\n",
       "    </tr>\n",
       "    <tr>\n",
       "      <td>12</td>\n",
       "      <td>host_response_rate</td>\n",
       "      <td>-0.362665</td>\n",
       "      <td>0.027</td>\n",
       "    </tr>\n",
       "    <tr>\n",
       "      <td>0</td>\n",
       "      <td>bedrooms</td>\n",
       "      <td>46.021525</td>\n",
       "      <td>0.000</td>\n",
       "    </tr>\n",
       "    <tr>\n",
       "      <td>1</td>\n",
       "      <td>room_Private room</td>\n",
       "      <td>-84.045301</td>\n",
       "      <td>0.000</td>\n",
       "    </tr>\n",
       "    <tr>\n",
       "      <td>2</td>\n",
       "      <td>minimum_nights</td>\n",
       "      <td>-3.149205</td>\n",
       "      <td>0.000</td>\n",
       "    </tr>\n",
       "    <tr>\n",
       "      <td>3</td>\n",
       "      <td>latitude</td>\n",
       "      <td>1116.019210</td>\n",
       "      <td>0.000</td>\n",
       "    </tr>\n",
       "    <tr>\n",
       "      <td>4</td>\n",
       "      <td>number_of_reviews</td>\n",
       "      <td>-0.091415</td>\n",
       "      <td>0.000</td>\n",
       "    </tr>\n",
       "    <tr>\n",
       "      <td>5</td>\n",
       "      <td>bathrooms</td>\n",
       "      <td>21.627153</td>\n",
       "      <td>0.000</td>\n",
       "    </tr>\n",
       "    <tr>\n",
       "      <td>6</td>\n",
       "      <td>accommodates</td>\n",
       "      <td>13.107932</td>\n",
       "      <td>0.000</td>\n",
       "    </tr>\n",
       "    <tr>\n",
       "      <td>7</td>\n",
       "      <td>review_scores_rating</td>\n",
       "      <td>1.319737</td>\n",
       "      <td>0.000</td>\n",
       "    </tr>\n",
       "    <tr>\n",
       "      <td>8</td>\n",
       "      <td>prop_Guest suite</td>\n",
       "      <td>-21.998956</td>\n",
       "      <td>0.000</td>\n",
       "    </tr>\n",
       "    <tr>\n",
       "      <td>10</td>\n",
       "      <td>beds</td>\n",
       "      <td>6.306591</td>\n",
       "      <td>0.000</td>\n",
       "    </tr>\n",
       "    <tr>\n",
       "      <td>11</td>\n",
       "      <td>number_of_reviews</td>\n",
       "      <td>-0.091415</td>\n",
       "      <td>0.000</td>\n",
       "    </tr>\n",
       "    <tr>\n",
       "      <td>14</td>\n",
       "      <td>prop_Condominium</td>\n",
       "      <td>11.768687</td>\n",
       "      <td>0.000</td>\n",
       "    </tr>\n",
       "  </tbody>\n",
       "</table>\n",
       "</div>"
      ],
      "text/plain": [
       "                Features      Weights  P Values\n",
       "9              longitude   287.368871     0.150\n",
       "13            prop_House    12.820505     0.054\n",
       "12    host_response_rate    -0.362665     0.027\n",
       "0               bedrooms    46.021525     0.000\n",
       "1      room_Private room   -84.045301     0.000\n",
       "2         minimum_nights    -3.149205     0.000\n",
       "3               latitude  1116.019210     0.000\n",
       "4      number_of_reviews    -0.091415     0.000\n",
       "5              bathrooms    21.627153     0.000\n",
       "6           accommodates    13.107932     0.000\n",
       "7   review_scores_rating     1.319737     0.000\n",
       "8       prop_Guest suite   -21.998956     0.000\n",
       "10                  beds     6.306591     0.000\n",
       "11     number_of_reviews    -0.091415     0.000\n",
       "14      prop_Condominium    11.768687     0.000"
      ]
     },
     "execution_count": 19,
     "metadata": {},
     "output_type": "execute_result"
    }
   ],
   "source": [
    "p_values = f_regression(X_train,y_train)[1]\n",
    "df_feat_col['Weights'] = reg.coef_\n",
    "df_feat_col['P Values'] = p_values.round(3)\n",
    "df_feat_col.sort_values(['P Values'], ascending=False)"
   ]
  },
  {
   "cell_type": "code",
   "execution_count": 20,
   "metadata": {},
   "outputs": [
    {
     "data": {
      "text/plain": [
       "0.568"
      ]
     },
     "execution_count": 20,
     "metadata": {},
     "output_type": "execute_result"
    }
   ],
   "source": [
    "r2_train = reg.score(X_train, y_train)\n",
    "n = X_train.shape[0]\n",
    "p = X_train.shape[1]\n",
    "adjusted_r2_train = 1-(1-r2_train)*(n-1)/(n-p-1)\n",
    "r2_train = round(r2_train, 3)\n",
    "adjusted_r2_train = round(adjusted_r2_train, 3)\n",
    "adjusted_r2_train"
   ]
  },
  {
   "cell_type": "code",
   "execution_count": 21,
   "metadata": {},
   "outputs": [
    {
     "data": {
      "text/plain": [
       "94.644"
      ]
     },
     "execution_count": 21,
     "metadata": {},
     "output_type": "execute_result"
    }
   ],
   "source": [
    "y_train_pred = reg.predict(X_train)\n",
    "train_rmse = np.sqrt(metrics.mean_squared_error(y_train, y_train_pred))\n",
    "train_rmse = round(train_rmse, 3)\n",
    "train_rmse"
   ]
  },
  {
   "cell_type": "code",
   "execution_count": 22,
   "metadata": {},
   "outputs": [
    {
     "data": {
      "text/plain": [
       "0.521"
      ]
     },
     "execution_count": 22,
     "metadata": {},
     "output_type": "execute_result"
    }
   ],
   "source": [
    "reg.score(X_test, y_test)\n",
    "r2_test = reg.score(X_test, y_test)\n",
    "n = X_test.shape[0]\n",
    "p = X_test.shape[1]\n",
    "\n",
    "adjusted_r2_test = 1-(1-r2_test)*(n-1)/(n-p-1)\n",
    "r2_test = round(r2_test, 3)\n",
    "adjusted_r2_test = round(adjusted_r2_test, 3)\n",
    "adjusted_r2_test"
   ]
  },
  {
   "cell_type": "code",
   "execution_count": 23,
   "metadata": {},
   "outputs": [
    {
     "data": {
      "text/plain": [
       "94.874"
      ]
     },
     "execution_count": 23,
     "metadata": {},
     "output_type": "execute_result"
    }
   ],
   "source": [
    "y_test_pred = reg.predict(X_test)\n",
    "test_rmse = np.sqrt(metrics.mean_squared_error(y_test, y_test_pred))\n",
    "test_rmse = round(test_rmse, 3)\n",
    "test_rmse"
   ]
  },
  {
   "cell_type": "code",
   "execution_count": 24,
   "metadata": {},
   "outputs": [
    {
     "data": {
      "text/plain": [
       "Text(0, 0.5, 'Predictions')"
      ]
     },
     "execution_count": 24,
     "metadata": {},
     "output_type": "execute_result"
    },
    {
     "data": {
      "image/png": "[encoded data removed]",
      "text/plain": [
       "<Figure size 432x288 with 1 Axes>"
      ]
     },
     "metadata": {
      "needs_background": "light"
     },
     "output_type": "display_data"
    }
   ],
   "source": [
    "plt.scatter(y_test, y_test_pred, alpha=0.3)\n",
    "plt.xlabel(\"True Values\")\n",
    "plt.ylabel(\"Predictions\")"
   ]
  },
  {
   "cell_type": "code",
   "execution_count": 25,
   "metadata": {},
   "outputs": [
    {
     "data": {
      "text/html": [
       "<div>\n",
       "<style scoped>\n",
       "    .dataframe tbody tr th:only-of-type {\n",
       "        vertical-align: middle;\n",
       "    }\n",
       "\n",
       "    .dataframe tbody tr th {\n",
       "        vertical-align: top;\n",
       "    }\n",
       "\n",
       "    .dataframe thead th {\n",
       "        text-align: right;\n",
       "    }\n",
       "</style>\n",
       "<table border=\"1\" class=\"dataframe\">\n",
       "  <thead>\n",
       "    <tr style=\"text-align: right;\">\n",
       "      <th></th>\n",
       "      <th>Model</th>\n",
       "      <th>Description</th>\n",
       "      <th>Train (RMSE)</th>\n",
       "      <th>R-squared (training)</th>\n",
       "      <th>Adjusted R-squared (training)</th>\n",
       "      <th>Test (RMSE)</th>\n",
       "      <th>R-squared (test)</th>\n",
       "      <th>Adjusted R-squared (test)</th>\n",
       "    </tr>\n",
       "  </thead>\n",
       "  <tbody>\n",
       "    <tr>\n",
       "      <td>0</td>\n",
       "      <td>Multiple Regression-1</td>\n",
       "      <td>All Features</td>\n",
       "      <td>93.889</td>\n",
       "      <td>0.576</td>\n",
       "      <td>0.574</td>\n",
       "      <td>94.285961</td>\n",
       "      <td>0.533</td>\n",
       "      <td>0.526</td>\n",
       "    </tr>\n",
       "    <tr>\n",
       "      <td>1</td>\n",
       "      <td>Multiple Regression-2</td>\n",
       "      <td>Reducing Features/No Neighborhoods</td>\n",
       "      <td>94.644</td>\n",
       "      <td>0.569</td>\n",
       "      <td>0.568</td>\n",
       "      <td>94.874000</td>\n",
       "      <td>0.527</td>\n",
       "      <td>0.521</td>\n",
       "    </tr>\n",
       "  </tbody>\n",
       "</table>\n",
       "</div>"
      ],
      "text/plain": [
       "                   Model                         Description  Train (RMSE)  \\\n",
       "0  Multiple Regression-1                        All Features        93.889   \n",
       "1  Multiple Regression-2  Reducing Features/No Neighborhoods        94.644   \n",
       "\n",
       "   R-squared (training)  Adjusted R-squared (training)  Test (RMSE)  \\\n",
       "0                 0.576                          0.574    94.285961   \n",
       "1                 0.569                          0.568    94.874000   \n",
       "\n",
       "   R-squared (test)  Adjusted R-squared (test)  \n",
       "0             0.533                      0.526  \n",
       "1             0.527                      0.521  "
      ]
     },
     "execution_count": 25,
     "metadata": {},
     "output_type": "execute_result"
    }
   ],
   "source": [
    "\n",
    "summary_df = summary_df.append({'Model' : 'Multiple Regression-2', 'Description' : 'Reducing Features/No Neighborhoods' , 'Train (RMSE)' : train_rmse, 'R-squared (training)' : r2_train, 'Adjusted R-squared (training)': adjusted_r2_train, 'Test (RMSE)' : test_rmse, 'R-squared (test)' : r2_test, 'Adjusted R-squared (test)' : adjusted_r2_test} , ignore_index=True)\n",
    "summary_df\n"
   ]
  },
  {
   "cell_type": "markdown",
   "metadata": {},
   "source": [
    "## Next we're going to perform lasso, ridge and elastic net on our model\n",
    "    \n",
    "    "
   ]
  },
  {
   "cell_type": "code",
   "execution_count": 26,
   "metadata": {},
   "outputs": [],
   "source": [
    "params = [1e-15, 1e-10, 1e-8, 1e-4, 1e-3,1e-2, 1, 5, 10, 20]\n",
    "lr_lasso = LassoCV(alphas=params, normalize= True,cv=10)"
   ]
  },
  {
   "cell_type": "code",
   "execution_count": 27,
   "metadata": {},
   "outputs": [
    {
     "name": "stdout",
     "output_type": "stream",
     "text": [
      "94.64417824287361\n"
     ]
    }
   ],
   "source": [
    "lr_lasso.fit(X_train, y_train)\n",
    "predict = lr_lasso.predict(X_test)\n",
    "train_rmse = np.sqrt(mean_squared_error(y_train, lr_lasso.predict(X_train)))\n",
    "print(train_rmse)"
   ]
  },
  {
   "cell_type": "code",
   "execution_count": 28,
   "metadata": {},
   "outputs": [
    {
     "name": "stdout",
     "output_type": "stream",
     "text": [
      "0.568\n"
     ]
    }
   ],
   "source": [
    "r2_train = lr_lasso.score(X_train, y_train)\n",
    "n = X_train.shape[0]\n",
    "p = X_train.shape[1]\n",
    "adjusted_r2_train = 1-(1-r2_train)*(n-1)/(n-p-1)\n",
    "r2_train = round(r2_train, 3)\n",
    "adjusted_r2_train = round(adjusted_r2_train, 3)\n",
    "print(adjusted_r2_train)"
   ]
  },
  {
   "cell_type": "code",
   "execution_count": 29,
   "metadata": {},
   "outputs": [
    {
     "name": "stdout",
     "output_type": "stream",
     "text": [
      "0.521\n"
     ]
    }
   ],
   "source": [
    "r2_test = lr_lasso.score(X_test, y_test)\n",
    "n = X_test.shape[0]\n",
    "p = X_test.shape[1]\n",
    "adjusted_r2_test = 1-(1-r2_test)*(n-1)/(n-p-1)\n",
    "r2_test = round(r2_test, 3)\n",
    "adjusted_r2_test = round(adjusted_r2_test, 3)\n",
    "print(adjusted_r2_test)"
   ]
  },
  {
   "cell_type": "code",
   "execution_count": 30,
   "metadata": {},
   "outputs": [
    {
     "data": {
      "text/plain": [
       "94.874"
      ]
     },
     "execution_count": 30,
     "metadata": {},
     "output_type": "execute_result"
    }
   ],
   "source": [
    "y_test_pred = lr_lasso.predict(X_test)\n",
    "test_rmse = np.sqrt(metrics.mean_squared_error(y_test, y_test_pred))\n",
    "test_rmse = round(test_rmse, 3)\n",
    "test_rmse"
   ]
  },
  {
   "cell_type": "code",
   "execution_count": 31,
   "metadata": {},
   "outputs": [
    {
     "data": {
      "text/plain": [
       "Text(0, 0.5, 'Predictions')"
      ]
     },
     "execution_count": 31,
     "metadata": {},
     "output_type": "execute_result"
    },
    {
     "data": {
      "image/png": "[encoded data removed]",
      "text/plain": [
       "<Figure size 432x288 with 1 Axes>"
      ]
     },
     "metadata": {
      "needs_background": "light"
     },
     "output_type": "display_data"
    }
   ],
   "source": [
    "plt.scatter(y_test, y_test_pred, alpha=0.3)\n",
    "plt.xlabel(\"True Values\")\n",
    "plt.ylabel(\"Predictions\")"
   ]
  },
  {
   "cell_type": "code",
   "execution_count": 32,
   "metadata": {},
   "outputs": [
    {
     "data": {
      "text/html": [
       "<div>\n",
       "<style scoped>\n",
       "    .dataframe tbody tr th:only-of-type {\n",
       "        vertical-align: middle;\n",
       "    }\n",
       "\n",
       "    .dataframe tbody tr th {\n",
       "        vertical-align: top;\n",
       "    }\n",
       "\n",
       "    .dataframe thead th {\n",
       "        text-align: right;\n",
       "    }\n",
       "</style>\n",
       "<table border=\"1\" class=\"dataframe\">\n",
       "  <thead>\n",
       "    <tr style=\"text-align: right;\">\n",
       "      <th></th>\n",
       "      <th>Model</th>\n",
       "      <th>Description</th>\n",
       "      <th>Train (RMSE)</th>\n",
       "      <th>R-squared (training)</th>\n",
       "      <th>Adjusted R-squared (training)</th>\n",
       "      <th>Test (RMSE)</th>\n",
       "      <th>R-squared (test)</th>\n",
       "      <th>Adjusted R-squared (test)</th>\n",
       "    </tr>\n",
       "  </thead>\n",
       "  <tbody>\n",
       "    <tr>\n",
       "      <td>0</td>\n",
       "      <td>Multiple Regression-1</td>\n",
       "      <td>All Features</td>\n",
       "      <td>93.889000</td>\n",
       "      <td>0.576</td>\n",
       "      <td>0.574</td>\n",
       "      <td>94.285961</td>\n",
       "      <td>0.533</td>\n",
       "      <td>0.526</td>\n",
       "    </tr>\n",
       "    <tr>\n",
       "      <td>1</td>\n",
       "      <td>Multiple Regression-2</td>\n",
       "      <td>Reducing Features/No Neighborhoods</td>\n",
       "      <td>94.644000</td>\n",
       "      <td>0.569</td>\n",
       "      <td>0.568</td>\n",
       "      <td>94.874000</td>\n",
       "      <td>0.527</td>\n",
       "      <td>0.521</td>\n",
       "    </tr>\n",
       "    <tr>\n",
       "      <td>2</td>\n",
       "      <td>Lasso</td>\n",
       "      <td>Reducing Features/No Neighborhoods</td>\n",
       "      <td>94.644178</td>\n",
       "      <td>0.569</td>\n",
       "      <td>0.568</td>\n",
       "      <td>94.874000</td>\n",
       "      <td>0.527</td>\n",
       "      <td>0.521</td>\n",
       "    </tr>\n",
       "  </tbody>\n",
       "</table>\n",
       "</div>"
      ],
      "text/plain": [
       "                   Model                         Description  Train (RMSE)  \\\n",
       "0  Multiple Regression-1                        All Features     93.889000   \n",
       "1  Multiple Regression-2  Reducing Features/No Neighborhoods     94.644000   \n",
       "2                  Lasso  Reducing Features/No Neighborhoods     94.644178   \n",
       "\n",
       "   R-squared (training)  Adjusted R-squared (training)  Test (RMSE)  \\\n",
       "0                 0.576                          0.574    94.285961   \n",
       "1                 0.569                          0.568    94.874000   \n",
       "2                 0.569                          0.568    94.874000   \n",
       "\n",
       "   R-squared (test)  Adjusted R-squared (test)  \n",
       "0             0.533                      0.526  \n",
       "1             0.527                      0.521  \n",
       "2             0.527                      0.521  "
      ]
     },
     "execution_count": 32,
     "metadata": {},
     "output_type": "execute_result"
    }
   ],
   "source": [
    "\n",
    "summary_df = summary_df.append({'Model' : 'Lasso', 'Description' : 'Reducing Features/No Neighborhoods' , 'Train (RMSE)' : train_rmse, 'R-squared (training)' : r2_train, 'Adjusted R-squared (training)': adjusted_r2_train, 'Test (RMSE)' : test_rmse, 'R-squared (test)' : r2_test, 'Adjusted R-squared (test)' : adjusted_r2_test} , ignore_index=True)\n",
    "summary_df\n"
   ]
  },
  {
   "cell_type": "code",
   "execution_count": null,
   "metadata": {},
   "outputs": [],
   "source": []
  },
  {
   "cell_type": "code",
   "execution_count": 33,
   "metadata": {},
   "outputs": [
    {
     "name": "stdout",
     "output_type": "stream",
     "text": [
      "94.64931611051301\n"
     ]
    }
   ],
   "source": [
    "params = [1e-15, 1e-10, 1e-8, 1e-4, 1e-3,1e-2, 1, 5, 10, 20]\n",
    "lr_ridge = RidgeCV(alphas = params, normalize = True,cv=10)\n",
    "lr_ridge.fit(X_train, y_train)\n",
    "predict = lr_ridge.predict(X_test)\n",
    "train_rmse = np.sqrt(mean_squared_error(y_train, lr_ridge.predict(X_train)))\n",
    "print(train_rmse)"
   ]
  },
  {
   "cell_type": "code",
   "execution_count": 34,
   "metadata": {},
   "outputs": [
    {
     "name": "stdout",
     "output_type": "stream",
     "text": [
      "0.568\n"
     ]
    }
   ],
   "source": [
    "r2_train = lr_ridge.score(X_train, y_train)\n",
    "n = X_train.shape[0]\n",
    "p = X_train.shape[1]\n",
    "adjusted_r2_train = 1-(1-r2_train)*(n-1)/(n-p-1)\n",
    "r2_train = round(r2_train, 3)\n",
    "adjusted_r2_train = round(adjusted_r2_train, 3)\n",
    "print(adjusted_r2_train)"
   ]
  },
  {
   "cell_type": "code",
   "execution_count": 35,
   "metadata": {},
   "outputs": [
    {
     "name": "stdout",
     "output_type": "stream",
     "text": [
      "0.521\n"
     ]
    }
   ],
   "source": [
    "r2_test = lr_ridge.score(X_test, y_test)\n",
    "n = X_test.shape[0]\n",
    "p = X_test.shape[1]\n",
    "adjusted_r2_test = 1-(1-r2_test)*(n-1)/(n-p-1)\n",
    "r2_test = round(r2_test, 3)\n",
    "adjusted_r2_test = round(adjusted_r2_test, 3)\n",
    "print(adjusted_r2_test)"
   ]
  },
  {
   "cell_type": "code",
   "execution_count": 36,
   "metadata": {},
   "outputs": [
    {
     "data": {
      "text/plain": [
       "94.891"
      ]
     },
     "execution_count": 36,
     "metadata": {},
     "output_type": "execute_result"
    }
   ],
   "source": [
    "y_test_pred = lr_ridge.predict(X_test)\n",
    "test_rmse = np.sqrt(metrics.mean_squared_error(y_test, y_test_pred))\n",
    "test_rmse = round(test_rmse, 3)\n",
    "test_rmse"
   ]
  },
  {
   "cell_type": "code",
   "execution_count": 37,
   "metadata": {},
   "outputs": [
    {
     "data": {
      "text/plain": [
       "Text(0, 0.5, 'Predictions')"
      ]
     },
     "execution_count": 37,
     "metadata": {},
     "output_type": "execute_result"
    },
    {
     "data": {
      "image/png": "[encoded data removed]",
      "text/plain": [
       "<Figure size 432x288 with 1 Axes>"
      ]
     },
     "metadata": {
      "needs_background": "light"
     },
     "output_type": "display_data"
    }
   ],
   "source": [
    "plt.scatter(y_test, y_test_pred, alpha=0.3)\n",
    "plt.xlabel(\"True Values\")\n",
    "plt.ylabel(\"Predictions\")"
   ]
  },
  {
   "cell_type": "code",
   "execution_count": 38,
   "metadata": {},
   "outputs": [
    {
     "data": {
      "text/html": [
       "<div>\n",
       "<style scoped>\n",
       "    .dataframe tbody tr th:only-of-type {\n",
       "        vertical-align: middle;\n",
       "    }\n",
       "\n",
       "    .dataframe tbody tr th {\n",
       "        vertical-align: top;\n",
       "    }\n",
       "\n",
       "    .dataframe thead th {\n",
       "        text-align: right;\n",
       "    }\n",
       "</style>\n",
       "<table border=\"1\" class=\"dataframe\">\n",
       "  <thead>\n",
       "    <tr style=\"text-align: right;\">\n",
       "      <th></th>\n",
       "      <th>Model</th>\n",
       "      <th>Description</th>\n",
       "      <th>Train (RMSE)</th>\n",
       "      <th>R-squared (training)</th>\n",
       "      <th>Adjusted R-squared (training)</th>\n",
       "      <th>Test (RMSE)</th>\n",
       "      <th>R-squared (test)</th>\n",
       "      <th>Adjusted R-squared (test)</th>\n",
       "    </tr>\n",
       "  </thead>\n",
       "  <tbody>\n",
       "    <tr>\n",
       "      <td>0</td>\n",
       "      <td>Multiple Regression-1</td>\n",
       "      <td>All Features</td>\n",
       "      <td>93.889000</td>\n",
       "      <td>0.576</td>\n",
       "      <td>0.574</td>\n",
       "      <td>94.285961</td>\n",
       "      <td>0.533</td>\n",
       "      <td>0.526</td>\n",
       "    </tr>\n",
       "    <tr>\n",
       "      <td>1</td>\n",
       "      <td>Multiple Regression-2</td>\n",
       "      <td>Reducing Features/No Neighborhoods</td>\n",
       "      <td>94.644000</td>\n",
       "      <td>0.569</td>\n",
       "      <td>0.568</td>\n",
       "      <td>94.874000</td>\n",
       "      <td>0.527</td>\n",
       "      <td>0.521</td>\n",
       "    </tr>\n",
       "    <tr>\n",
       "      <td>2</td>\n",
       "      <td>Lasso</td>\n",
       "      <td>Reducing Features/No Neighborhoods</td>\n",
       "      <td>94.644178</td>\n",
       "      <td>0.569</td>\n",
       "      <td>0.568</td>\n",
       "      <td>94.874000</td>\n",
       "      <td>0.527</td>\n",
       "      <td>0.521</td>\n",
       "    </tr>\n",
       "    <tr>\n",
       "      <td>3</td>\n",
       "      <td>Ridge</td>\n",
       "      <td>Reducing Features/No Neighborhoods</td>\n",
       "      <td>94.649316</td>\n",
       "      <td>0.569</td>\n",
       "      <td>0.568</td>\n",
       "      <td>94.891000</td>\n",
       "      <td>0.527</td>\n",
       "      <td>0.521</td>\n",
       "    </tr>\n",
       "  </tbody>\n",
       "</table>\n",
       "</div>"
      ],
      "text/plain": [
       "                   Model                         Description  Train (RMSE)  \\\n",
       "0  Multiple Regression-1                        All Features     93.889000   \n",
       "1  Multiple Regression-2  Reducing Features/No Neighborhoods     94.644000   \n",
       "2                  Lasso  Reducing Features/No Neighborhoods     94.644178   \n",
       "3                  Ridge  Reducing Features/No Neighborhoods     94.649316   \n",
       "\n",
       "   R-squared (training)  Adjusted R-squared (training)  Test (RMSE)  \\\n",
       "0                 0.576                          0.574    94.285961   \n",
       "1                 0.569                          0.568    94.874000   \n",
       "2                 0.569                          0.568    94.874000   \n",
       "3                 0.569                          0.568    94.891000   \n",
       "\n",
       "   R-squared (test)  Adjusted R-squared (test)  \n",
       "0             0.533                      0.526  \n",
       "1             0.527                      0.521  \n",
       "2             0.527                      0.521  \n",
       "3             0.527                      0.521  "
      ]
     },
     "execution_count": 38,
     "metadata": {},
     "output_type": "execute_result"
    }
   ],
   "source": [
    "\n",
    "summary_df = summary_df.append({'Model' : 'Ridge', 'Description' : 'Reducing Features/No Neighborhoods' , 'Train (RMSE)' : train_rmse, 'R-squared (training)' : r2_train, 'Adjusted R-squared (training)': adjusted_r2_train, 'Test (RMSE)' : test_rmse, 'R-squared (test)' : r2_test, 'Adjusted R-squared (test)' : adjusted_r2_test} , ignore_index=True)\n",
    "summary_df\n"
   ]
  },
  {
   "cell_type": "code",
   "execution_count": 39,
   "metadata": {},
   "outputs": [
    {
     "name": "stdout",
     "output_type": "stream",
     "text": [
      "94.64419598723936\n"
     ]
    }
   ],
   "source": [
    "params = [1e-15, 1e-10, 1e-8, 1e-4, 1e-3,1e-2, 1, 5, 10, 20]\n",
    "l1s = [0.1, 0.5, 0.7, 0.9, 0.95, 0.99, 1.0]\n",
    "elastic = ElasticNetCV(alphas=params, l1_ratio = l1s,cv=10)\n",
    "\n",
    "elastic.fit(X_train, y_train)\n",
    "predict = elastic.predict(X_test)\n",
    "train_rmse = np.sqrt(mean_squared_error(y_train, elastic.predict(X_train)))\n",
    "print(train_rmse)"
   ]
  },
  {
   "cell_type": "code",
   "execution_count": 40,
   "metadata": {},
   "outputs": [
    {
     "name": "stdout",
     "output_type": "stream",
     "text": [
      "0.568\n"
     ]
    }
   ],
   "source": [
    "r2_train = elastic.score(X_train, y_train)\n",
    "n = X_train.shape[0]\n",
    "p = X_train.shape[1]\n",
    "adjusted_r2_train = 1-(1-r2_train)*(n-1)/(n-p-1)\n",
    "r2_train = round(r2_train, 3)\n",
    "adjusted_r2_train = round(adjusted_r2_train, 3)\n",
    "print(adjusted_r2_train)"
   ]
  },
  {
   "cell_type": "code",
   "execution_count": 41,
   "metadata": {},
   "outputs": [
    {
     "name": "stdout",
     "output_type": "stream",
     "text": [
      "0.521\n"
     ]
    }
   ],
   "source": [
    "r2_test = elastic.score(X_test, y_test)\n",
    "n = X_test.shape[0]\n",
    "p = X_test.shape[1]\n",
    "adjusted_r2_test = 1-(1-r2_test)*(n-1)/(n-p-1)\n",
    "r2_test = round(r2_test, 3)\n",
    "adjusted_r2_test = round(adjusted_r2_test, 3)\n",
    "print(adjusted_r2_test)"
   ]
  },
  {
   "cell_type": "code",
   "execution_count": 42,
   "metadata": {},
   "outputs": [
    {
     "data": {
      "text/plain": [
       "94.875"
      ]
     },
     "execution_count": 42,
     "metadata": {},
     "output_type": "execute_result"
    }
   ],
   "source": [
    "y_test_pred = elastic.predict(X_test)\n",
    "test_rmse = np.sqrt(metrics.mean_squared_error(y_test, y_test_pred))\n",
    "test_rmse = round(test_rmse, 3)\n",
    "test_rmse"
   ]
  },
  {
   "cell_type": "code",
   "execution_count": 43,
   "metadata": {},
   "outputs": [
    {
     "data": {
      "text/plain": [
       "Text(0, 0.5, 'Predictions')"
      ]
     },
     "execution_count": 43,
     "metadata": {},
     "output_type": "execute_result"
    },
    {
     "data": {
      "image/png": "[encoded data removed]",
      "text/plain": [
       "<Figure size 432x288 with 1 Axes>"
      ]
     },
     "metadata": {
      "needs_background": "light"
     },
     "output_type": "display_data"
    }
   ],
   "source": [
    "plt.scatter(y_test, y_test_pred, alpha=0.3)\n",
    "plt.xlabel(\"True Values\")\n",
    "plt.ylabel(\"Predictions\")"
   ]
  },
  {
   "cell_type": "code",
   "execution_count": 44,
   "metadata": {},
   "outputs": [
    {
     "data": {
      "text/html": [
       "<div>\n",
       "<style scoped>\n",
       "    .dataframe tbody tr th:only-of-type {\n",
       "        vertical-align: middle;\n",
       "    }\n",
       "\n",
       "    .dataframe tbody tr th {\n",
       "        vertical-align: top;\n",
       "    }\n",
       "\n",
       "    .dataframe thead th {\n",
       "        text-align: right;\n",
       "    }\n",
       "</style>\n",
       "<table border=\"1\" class=\"dataframe\">\n",
       "  <thead>\n",
       "    <tr style=\"text-align: right;\">\n",
       "      <th></th>\n",
       "      <th>Model</th>\n",
       "      <th>Description</th>\n",
       "      <th>Train (RMSE)</th>\n",
       "      <th>R-squared (training)</th>\n",
       "      <th>Adjusted R-squared (training)</th>\n",
       "      <th>Test (RMSE)</th>\n",
       "      <th>R-squared (test)</th>\n",
       "      <th>Adjusted R-squared (test)</th>\n",
       "    </tr>\n",
       "  </thead>\n",
       "  <tbody>\n",
       "    <tr>\n",
       "      <td>0</td>\n",
       "      <td>Multiple Regression-1</td>\n",
       "      <td>All Features</td>\n",
       "      <td>93.889000</td>\n",
       "      <td>0.576</td>\n",
       "      <td>0.574</td>\n",
       "      <td>94.285961</td>\n",
       "      <td>0.533</td>\n",
       "      <td>0.526</td>\n",
       "    </tr>\n",
       "    <tr>\n",
       "      <td>1</td>\n",
       "      <td>Multiple Regression-2</td>\n",
       "      <td>Reducing Features/No Neighborhoods</td>\n",
       "      <td>94.644000</td>\n",
       "      <td>0.569</td>\n",
       "      <td>0.568</td>\n",
       "      <td>94.874000</td>\n",
       "      <td>0.527</td>\n",
       "      <td>0.521</td>\n",
       "    </tr>\n",
       "    <tr>\n",
       "      <td>2</td>\n",
       "      <td>Lasso</td>\n",
       "      <td>Reducing Features/No Neighborhoods</td>\n",
       "      <td>94.644178</td>\n",
       "      <td>0.569</td>\n",
       "      <td>0.568</td>\n",
       "      <td>94.874000</td>\n",
       "      <td>0.527</td>\n",
       "      <td>0.521</td>\n",
       "    </tr>\n",
       "    <tr>\n",
       "      <td>3</td>\n",
       "      <td>Ridge</td>\n",
       "      <td>Reducing Features/No Neighborhoods</td>\n",
       "      <td>94.649316</td>\n",
       "      <td>0.569</td>\n",
       "      <td>0.568</td>\n",
       "      <td>94.891000</td>\n",
       "      <td>0.527</td>\n",
       "      <td>0.521</td>\n",
       "    </tr>\n",
       "    <tr>\n",
       "      <td>4</td>\n",
       "      <td>Elastic Net</td>\n",
       "      <td>Reducing Features/No Neighborhoods</td>\n",
       "      <td>94.644196</td>\n",
       "      <td>0.569</td>\n",
       "      <td>0.568</td>\n",
       "      <td>94.875000</td>\n",
       "      <td>0.527</td>\n",
       "      <td>0.521</td>\n",
       "    </tr>\n",
       "  </tbody>\n",
       "</table>\n",
       "</div>"
      ],
      "text/plain": [
       "                   Model                         Description  Train (RMSE)  \\\n",
       "0  Multiple Regression-1                        All Features     93.889000   \n",
       "1  Multiple Regression-2  Reducing Features/No Neighborhoods     94.644000   \n",
       "2                  Lasso  Reducing Features/No Neighborhoods     94.644178   \n",
       "3                  Ridge  Reducing Features/No Neighborhoods     94.649316   \n",
       "4            Elastic Net  Reducing Features/No Neighborhoods     94.644196   \n",
       "\n",
       "   R-squared (training)  Adjusted R-squared (training)  Test (RMSE)  \\\n",
       "0                 0.576                          0.574    94.285961   \n",
       "1                 0.569                          0.568    94.874000   \n",
       "2                 0.569                          0.568    94.874000   \n",
       "3                 0.569                          0.568    94.891000   \n",
       "4                 0.569                          0.568    94.875000   \n",
       "\n",
       "   R-squared (test)  Adjusted R-squared (test)  \n",
       "0             0.533                      0.526  \n",
       "1             0.527                      0.521  \n",
       "2             0.527                      0.521  \n",
       "3             0.527                      0.521  \n",
       "4             0.527                      0.521  "
      ]
     },
     "execution_count": 44,
     "metadata": {},
     "output_type": "execute_result"
    }
   ],
   "source": [
    "\n",
    "summary_df = summary_df.append({'Model' : 'Elastic Net', 'Description' : 'Reducing Features/No Neighborhoods' , 'Train (RMSE)' : train_rmse, 'R-squared (training)' : r2_train, 'Adjusted R-squared (training)': adjusted_r2_train, 'Test (RMSE)' : test_rmse, 'R-squared (test)' : r2_test, 'Adjusted R-squared (test)' : adjusted_r2_test} , ignore_index=True)\n",
    "summary_df\n"
   ]
  },
  {
   "cell_type": "markdown",
   "metadata": {},
   "source": [
    "## Creating a 2nd Order Polynomial Model\n"
   ]
  },
  {
   "cell_type": "code",
   "execution_count": 45,
   "metadata": {},
   "outputs": [
    {
     "name": "stdout",
     "output_type": "stream",
     "text": [
      "85.62980711332956\n"
     ]
    }
   ],
   "source": [
    "poly = PolynomialFeatures(2)\n",
    "X_train_poly = poly.fit_transform(X_train)\n",
    "X_test_poly = poly.fit_transform(X_test)\n",
    "params = [1e-15, 1e-10, 1e-8, 1e-4, 1e-3,1e-2, 1, 5, 10, 20]\n",
    "lr_ridge = RidgeCV(params, normalize = True)\n",
    "lr_ridge.fit(X_train_poly, y_train)\n",
    "predict = lr_ridge.predict(X_test_poly)\n",
    "train_rmse = np.sqrt(mean_squared_error(y_train, lr_ridge.predict(X_train_poly)))\n",
    "print(train_rmse)"
   ]
  },
  {
   "cell_type": "code",
   "execution_count": 46,
   "metadata": {},
   "outputs": [
    {
     "data": {
      "text/plain": [
       "0.637"
      ]
     },
     "execution_count": 46,
     "metadata": {},
     "output_type": "execute_result"
    }
   ],
   "source": [
    "#reg = LinearRegression()\n",
    "#reg.fit(X_train_poly,y_train)\n",
    "\n",
    "r2_train = lr_ridge.score(X_train_poly, y_train)\n",
    "n = X_train_poly.shape[0]\n",
    "p = X_train_poly.shape[1]\n",
    "adjusted_r2_train = 1-(1-r2_train)*(n-1)/(n-p-1)\n",
    "r2_train = round(r2_train, 3)\n",
    "adjusted_r2_train = round(adjusted_r2_train, 3)\n",
    "adjusted_r2_train"
   ]
  },
  {
   "cell_type": "code",
   "execution_count": 47,
   "metadata": {},
   "outputs": [
    {
     "data": {
      "text/plain": [
       "85.63"
      ]
     },
     "execution_count": 47,
     "metadata": {},
     "output_type": "execute_result"
    }
   ],
   "source": [
    "y_train_pred = lr_ridge.predict(X_train_poly)\n",
    "train_rmse = np.sqrt(metrics.mean_squared_error(y_train, y_train_pred))\n",
    "train_rmse = round(train_rmse, 3)\n",
    "train_rmse"
   ]
  },
  {
   "cell_type": "code",
   "execution_count": 48,
   "metadata": {},
   "outputs": [
    {
     "name": "stdout",
     "output_type": "stream",
     "text": [
      "0.586\n",
      "0.663\n",
      "1172\n",
      "136\n"
     ]
    }
   ],
   "source": [
    "#reg.fit(X_test_poly, y_test)\n",
    "r2_test = lr_ridge.score(X_test_poly, y_test)\n",
    "n = X_test_poly.shape[0]\n",
    "p = X_test_poly.shape[1]\n",
    "\n",
    "adjusted_r2_test = (1-(1-r2_test))*(n-1)/(n-p-1)\n",
    "r2_test = round(r2_test, 3)\n",
    "adjusted_r2_test = round(adjusted_r2_test, 3)\n",
    "print(r2_test)\n",
    "print(adjusted_r2_test)\n",
    "print(n)\n",
    "print(p)"
   ]
  },
  {
   "cell_type": "code",
   "execution_count": 49,
   "metadata": {},
   "outputs": [
    {
     "data": {
      "text/plain": [
       "88.787"
      ]
     },
     "execution_count": 49,
     "metadata": {},
     "output_type": "execute_result"
    }
   ],
   "source": [
    "y_test_pred = lr_ridge.predict(X_test_poly)\n",
    "test_rmse = np.sqrt(metrics.mean_squared_error(y_test, y_test_pred))\n",
    "test_rmse = round(test_rmse, 3)\n",
    "test_rmse"
   ]
  },
  {
   "cell_type": "code",
   "execution_count": 50,
   "metadata": {},
   "outputs": [
    {
     "data": {
      "text/html": [
       "<div>\n",
       "<style scoped>\n",
       "    .dataframe tbody tr th:only-of-type {\n",
       "        vertical-align: middle;\n",
       "    }\n",
       "\n",
       "    .dataframe tbody tr th {\n",
       "        vertical-align: top;\n",
       "    }\n",
       "\n",
       "    .dataframe thead th {\n",
       "        text-align: right;\n",
       "    }\n",
       "</style>\n",
       "<table border=\"1\" class=\"dataframe\">\n",
       "  <thead>\n",
       "    <tr style=\"text-align: right;\">\n",
       "      <th></th>\n",
       "      <th>Model</th>\n",
       "      <th>Description</th>\n",
       "      <th>Train (RMSE)</th>\n",
       "      <th>R-squared (training)</th>\n",
       "      <th>Adjusted R-squared (training)</th>\n",
       "      <th>Test (RMSE)</th>\n",
       "      <th>R-squared (test)</th>\n",
       "      <th>Adjusted R-squared (test)</th>\n",
       "    </tr>\n",
       "  </thead>\n",
       "  <tbody>\n",
       "    <tr>\n",
       "      <td>0</td>\n",
       "      <td>Multiple Regression-1</td>\n",
       "      <td>All Features</td>\n",
       "      <td>93.889000</td>\n",
       "      <td>0.576</td>\n",
       "      <td>0.574</td>\n",
       "      <td>94.285961</td>\n",
       "      <td>0.533</td>\n",
       "      <td>0.526</td>\n",
       "    </tr>\n",
       "    <tr>\n",
       "      <td>1</td>\n",
       "      <td>Multiple Regression-2</td>\n",
       "      <td>Reducing Features/No Neighborhoods</td>\n",
       "      <td>94.644000</td>\n",
       "      <td>0.569</td>\n",
       "      <td>0.568</td>\n",
       "      <td>94.874000</td>\n",
       "      <td>0.527</td>\n",
       "      <td>0.521</td>\n",
       "    </tr>\n",
       "    <tr>\n",
       "      <td>2</td>\n",
       "      <td>Lasso</td>\n",
       "      <td>Reducing Features/No Neighborhoods</td>\n",
       "      <td>94.644178</td>\n",
       "      <td>0.569</td>\n",
       "      <td>0.568</td>\n",
       "      <td>94.874000</td>\n",
       "      <td>0.527</td>\n",
       "      <td>0.521</td>\n",
       "    </tr>\n",
       "    <tr>\n",
       "      <td>3</td>\n",
       "      <td>Ridge</td>\n",
       "      <td>Reducing Features/No Neighborhoods</td>\n",
       "      <td>94.649316</td>\n",
       "      <td>0.569</td>\n",
       "      <td>0.568</td>\n",
       "      <td>94.891000</td>\n",
       "      <td>0.527</td>\n",
       "      <td>0.521</td>\n",
       "    </tr>\n",
       "    <tr>\n",
       "      <td>4</td>\n",
       "      <td>Elastic Net</td>\n",
       "      <td>Reducing Features/No Neighborhoods</td>\n",
       "      <td>94.644196</td>\n",
       "      <td>0.569</td>\n",
       "      <td>0.568</td>\n",
       "      <td>94.875000</td>\n",
       "      <td>0.527</td>\n",
       "      <td>0.521</td>\n",
       "    </tr>\n",
       "    <tr>\n",
       "      <td>5</td>\n",
       "      <td>Polynomial 2nd Order</td>\n",
       "      <td>Reducing Features/No Neighborhoods</td>\n",
       "      <td>85.630000</td>\n",
       "      <td>0.647</td>\n",
       "      <td>0.637</td>\n",
       "      <td>88.787000</td>\n",
       "      <td>0.586</td>\n",
       "      <td>0.663</td>\n",
       "    </tr>\n",
       "  </tbody>\n",
       "</table>\n",
       "</div>"
      ],
      "text/plain": [
       "                   Model                         Description  Train (RMSE)  \\\n",
       "0  Multiple Regression-1                        All Features     93.889000   \n",
       "1  Multiple Regression-2  Reducing Features/No Neighborhoods     94.644000   \n",
       "2                  Lasso  Reducing Features/No Neighborhoods     94.644178   \n",
       "3                  Ridge  Reducing Features/No Neighborhoods     94.649316   \n",
       "4            Elastic Net  Reducing Features/No Neighborhoods     94.644196   \n",
       "5   Polynomial 2nd Order  Reducing Features/No Neighborhoods     85.630000   \n",
       "\n",
       "   R-squared (training)  Adjusted R-squared (training)  Test (RMSE)  \\\n",
       "0                 0.576                          0.574    94.285961   \n",
       "1                 0.569                          0.568    94.874000   \n",
       "2                 0.569                          0.568    94.874000   \n",
       "3                 0.569                          0.568    94.891000   \n",
       "4                 0.569                          0.568    94.875000   \n",
       "5                 0.647                          0.637    88.787000   \n",
       "\n",
       "   R-squared (test)  Adjusted R-squared (test)  \n",
       "0             0.533                      0.526  \n",
       "1             0.527                      0.521  \n",
       "2             0.527                      0.521  \n",
       "3             0.527                      0.521  \n",
       "4             0.527                      0.521  \n",
       "5             0.586                      0.663  "
      ]
     },
     "execution_count": 50,
     "metadata": {},
     "output_type": "execute_result"
    }
   ],
   "source": [
    "summary_df = summary_df.append({'Model' : 'Polynomial 2nd Order', 'Description' : 'Reducing Features/No Neighborhoods' , 'Train (RMSE)' : train_rmse, 'R-squared (training)' : r2_train, 'Adjusted R-squared (training)': adjusted_r2_train, 'Test (RMSE)' : test_rmse, 'R-squared (test)' : r2_test, 'Adjusted R-squared (test)' : adjusted_r2_test} , ignore_index=True)\n",
    "summary_df"
   ]
  },
  {
   "cell_type": "code",
   "execution_count": 51,
   "metadata": {},
   "outputs": [
    {
     "data": {
      "image/png": "[encoded data removed]",
      "text/plain": [
       "<Figure size 1080x1080 with 16 Axes>"
      ]
     },
     "metadata": {
      "needs_background": "light"
     },
     "output_type": "display_data"
    }
   ],
   "source": [
    "df_feat.hist(figsize  = [15, 15]);"
   ]
  },
  {
   "cell_type": "markdown",
   "metadata": {},
   "source": [
    "## Reducing Feature Set More"
   ]
  },
  {
   "cell_type": "code",
   "execution_count": 52,
   "metadata": {},
   "outputs": [
    {
     "data": {
      "text/html": [
       "<div>\n",
       "<style scoped>\n",
       "    .dataframe tbody tr th:only-of-type {\n",
       "        vertical-align: middle;\n",
       "    }\n",
       "\n",
       "    .dataframe tbody tr th {\n",
       "        vertical-align: top;\n",
       "    }\n",
       "\n",
       "    .dataframe thead th {\n",
       "        text-align: right;\n",
       "    }\n",
       "</style>\n",
       "<table border=\"1\" class=\"dataframe\">\n",
       "  <thead>\n",
       "    <tr style=\"text-align: right;\">\n",
       "      <th></th>\n",
       "      <th>bedrooms</th>\n",
       "      <th>room_Private room</th>\n",
       "      <th>minimum_nights</th>\n",
       "      <th>latitude</th>\n",
       "      <th>number_of_reviews</th>\n",
       "      <th>bathrooms</th>\n",
       "      <th>accommodates</th>\n",
       "      <th>review_scores_rating</th>\n",
       "      <th>prop_Guest suite</th>\n",
       "      <th>longitude</th>\n",
       "      <th>beds</th>\n",
       "      <th>number_of_reviews</th>\n",
       "      <th>prop_House</th>\n",
       "      <th>prop_Condominium</th>\n",
       "    </tr>\n",
       "  </thead>\n",
       "  <tbody>\n",
       "    <tr>\n",
       "      <td>0</td>\n",
       "      <td>1.0</td>\n",
       "      <td>0</td>\n",
       "      <td>1</td>\n",
       "      <td>37.76931</td>\n",
       "      <td>217</td>\n",
       "      <td>1.0</td>\n",
       "      <td>3</td>\n",
       "      <td>97.0</td>\n",
       "      <td>0</td>\n",
       "      <td>-122.43386</td>\n",
       "      <td>2.0</td>\n",
       "      <td>217</td>\n",
       "      <td>0</td>\n",
       "      <td>0</td>\n",
       "    </tr>\n",
       "    <tr>\n",
       "      <td>1</td>\n",
       "      <td>1.0</td>\n",
       "      <td>1</td>\n",
       "      <td>1</td>\n",
       "      <td>37.75402</td>\n",
       "      <td>160</td>\n",
       "      <td>1.0</td>\n",
       "      <td>2</td>\n",
       "      <td>94.0</td>\n",
       "      <td>0</td>\n",
       "      <td>-122.45805</td>\n",
       "      <td>1.0</td>\n",
       "      <td>160</td>\n",
       "      <td>1</td>\n",
       "      <td>0</td>\n",
       "    </tr>\n",
       "    <tr>\n",
       "      <td>2</td>\n",
       "      <td>2.0</td>\n",
       "      <td>0</td>\n",
       "      <td>30</td>\n",
       "      <td>37.74511</td>\n",
       "      <td>111</td>\n",
       "      <td>1.0</td>\n",
       "      <td>5</td>\n",
       "      <td>98.0</td>\n",
       "      <td>0</td>\n",
       "      <td>-122.42102</td>\n",
       "      <td>3.0</td>\n",
       "      <td>111</td>\n",
       "      <td>0</td>\n",
       "      <td>0</td>\n",
       "    </tr>\n",
       "    <tr>\n",
       "      <td>3</td>\n",
       "      <td>1.0</td>\n",
       "      <td>1</td>\n",
       "      <td>32</td>\n",
       "      <td>37.76669</td>\n",
       "      <td>18</td>\n",
       "      <td>4.0</td>\n",
       "      <td>2</td>\n",
       "      <td>86.0</td>\n",
       "      <td>0</td>\n",
       "      <td>-122.45250</td>\n",
       "      <td>1.0</td>\n",
       "      <td>18</td>\n",
       "      <td>0</td>\n",
       "      <td>0</td>\n",
       "    </tr>\n",
       "    <tr>\n",
       "      <td>4</td>\n",
       "      <td>1.0</td>\n",
       "      <td>1</td>\n",
       "      <td>32</td>\n",
       "      <td>37.76487</td>\n",
       "      <td>8</td>\n",
       "      <td>4.0</td>\n",
       "      <td>2</td>\n",
       "      <td>93.0</td>\n",
       "      <td>0</td>\n",
       "      <td>-122.45183</td>\n",
       "      <td>1.0</td>\n",
       "      <td>8</td>\n",
       "      <td>0</td>\n",
       "      <td>0</td>\n",
       "    </tr>\n",
       "  </tbody>\n",
       "</table>\n",
       "</div>"
      ],
      "text/plain": [
       "   bedrooms  room_Private room  minimum_nights  latitude  number_of_reviews  \\\n",
       "0       1.0                  0               1  37.76931                217   \n",
       "1       1.0                  1               1  37.75402                160   \n",
       "2       2.0                  0              30  37.74511                111   \n",
       "3       1.0                  1              32  37.76669                 18   \n",
       "4       1.0                  1              32  37.76487                  8   \n",
       "\n",
       "   bathrooms  accommodates  review_scores_rating  prop_Guest suite  longitude  \\\n",
       "0        1.0             3                  97.0                 0 -122.43386   \n",
       "1        1.0             2                  94.0                 0 -122.45805   \n",
       "2        1.0             5                  98.0                 0 -122.42102   \n",
       "3        4.0             2                  86.0                 0 -122.45250   \n",
       "4        4.0             2                  93.0                 0 -122.45183   \n",
       "\n",
       "   beds  number_of_reviews  prop_House  prop_Condominium  \n",
       "0   2.0                217           0                 0  \n",
       "1   1.0                160           1                 0  \n",
       "2   3.0                111           0                 0  \n",
       "3   1.0                 18           0                 0  \n",
       "4   1.0                  8           0                 0  "
      ]
     },
     "execution_count": 52,
     "metadata": {},
     "output_type": "execute_result"
    }
   ],
   "source": [
    "df_feat4 = df[['bedrooms','room_Private room','minimum_nights','latitude','number_of_reviews','bathrooms',\n",
    " 'accommodates',\n",
    " 'review_scores_rating',\n",
    " 'prop_Guest suite',\n",
    " 'longitude',\n",
    " 'beds',\n",
    " 'number_of_reviews',\n",
    " 'prop_House',\n",
    " 'prop_Condominium']]\n",
    "df_feat4.head()"
   ]
  },
  {
   "cell_type": "code",
   "execution_count": 53,
   "metadata": {},
   "outputs": [
    {
     "name": "stdout",
     "output_type": "stream",
     "text": [
      "Training set - Features:  (4687, 14) Target:  (4687,)\n",
      "Training set - Features:  (1172, 14) Target:  (1172,)\n"
     ]
    }
   ],
   "source": [
    "X_train, X_test, y_train, y_test = train_test_split(df_feat4, df_tgt, random_state=13,test_size=0.2)\n",
    "\n",
    "#check the shape of the results\n",
    "print(\"Training set - Features: \", X_train.shape, \"Target: \", y_train.shape)\n",
    "print(\"Training set - Features: \", X_test.shape, \"Target: \",y_test.shape)\n",
    "poly = PolynomialFeatures(2)\n",
    "X_train_poly = poly.fit_transform(X_train)\n",
    "X_test_poly = poly.fit_transform(X_test)\n",
    "params = [1e-15, 1e-10, 1e-8, 1e-4, 1e-3,1e-2, 1, 5, 10, 20]"
   ]
  },
  {
   "cell_type": "code",
   "execution_count": 54,
   "metadata": {},
   "outputs": [
    {
     "name": "stdout",
     "output_type": "stream",
     "text": [
      "88.27929278815506\n"
     ]
    }
   ],
   "source": [
    "params2 = [.001,.01,.1,1,2,10]\n",
    "lr = LassoCV(alphas=params2, normalize = True,cv=10)\n",
    "lr.fit(X_train_poly, y_train)\n",
    "predict = lr.predict(X_test_poly)\n",
    "train_rmse = np.sqrt(mean_squared_error(y_train, lr.predict(X_train_poly)))\n",
    "print(train_rmse)"
   ]
  },
  {
   "cell_type": "code",
   "execution_count": 55,
   "metadata": {},
   "outputs": [
    {
     "data": {
      "text/plain": [
       "0.615"
      ]
     },
     "execution_count": 55,
     "metadata": {},
     "output_type": "execute_result"
    }
   ],
   "source": [
    "r2_train = lr.score(X_train_poly, y_train)\n",
    "n = X_train_poly.shape[0]\n",
    "p = X_train_poly.shape[1]\n",
    "adjusted_r2_train = 1-(1-r2_train)*(n-1)/(n-p-1)\n",
    "r2_train = round(r2_train, 3)\n",
    "adjusted_r2_train = round(adjusted_r2_train, 3)\n",
    "adjusted_r2_train"
   ]
  },
  {
   "cell_type": "code",
   "execution_count": 56,
   "metadata": {},
   "outputs": [
    {
     "data": {
      "text/plain": [
       "88.279"
      ]
     },
     "execution_count": 56,
     "metadata": {},
     "output_type": "execute_result"
    }
   ],
   "source": [
    "y_train_pred = lr.predict(X_train_poly)\n",
    "train_rmse = np.sqrt(metrics.mean_squared_error(y_train, y_train_pred))\n",
    "train_rmse = round(train_rmse, 3)\n",
    "train_rmse"
   ]
  },
  {
   "cell_type": "code",
   "execution_count": 57,
   "metadata": {},
   "outputs": [
    {
     "name": "stdout",
     "output_type": "stream",
     "text": [
      "0.562\n",
      "0.626\n"
     ]
    }
   ],
   "source": [
    "r2_test = lr.score(X_test_poly, y_test)\n",
    "n = X_test_poly.shape[0]\n",
    "p = X_test_poly.shape[1]\n",
    "\n",
    "adjusted_r2_test = (1-(1-r2_test))*(n-1)/(n-p-1)\n",
    "r2_test = round(r2_test, 3)\n",
    "adjusted_r2_test = round(adjusted_r2_test, 3)\n",
    "print(r2_test)\n",
    "print(adjusted_r2_test)"
   ]
  },
  {
   "cell_type": "code",
   "execution_count": 58,
   "metadata": {},
   "outputs": [
    {
     "data": {
      "text/plain": [
       "91.349"
      ]
     },
     "execution_count": 58,
     "metadata": {},
     "output_type": "execute_result"
    }
   ],
   "source": [
    "y_test_pred = lr.predict(X_test_poly)\n",
    "test_rmse = np.sqrt(metrics.mean_squared_error(y_test, y_test_pred))\n",
    "test_rmse = round(test_rmse, 3)\n",
    "test_rmse"
   ]
  },
  {
   "cell_type": "code",
   "execution_count": 59,
   "metadata": {},
   "outputs": [
    {
     "data": {
      "text/html": [
       "<div>\n",
       "<style scoped>\n",
       "    .dataframe tbody tr th:only-of-type {\n",
       "        vertical-align: middle;\n",
       "    }\n",
       "\n",
       "    .dataframe tbody tr th {\n",
       "        vertical-align: top;\n",
       "    }\n",
       "\n",
       "    .dataframe thead th {\n",
       "        text-align: right;\n",
       "    }\n",
       "</style>\n",
       "<table border=\"1\" class=\"dataframe\">\n",
       "  <thead>\n",
       "    <tr style=\"text-align: right;\">\n",
       "      <th></th>\n",
       "      <th>Model</th>\n",
       "      <th>Description</th>\n",
       "      <th>Train (RMSE)</th>\n",
       "      <th>R-squared (training)</th>\n",
       "      <th>Adjusted R-squared (training)</th>\n",
       "      <th>Test (RMSE)</th>\n",
       "      <th>R-squared (test)</th>\n",
       "      <th>Adjusted R-squared (test)</th>\n",
       "    </tr>\n",
       "  </thead>\n",
       "  <tbody>\n",
       "    <tr>\n",
       "      <td>0</td>\n",
       "      <td>Multiple Regression-1</td>\n",
       "      <td>All Features</td>\n",
       "      <td>93.889000</td>\n",
       "      <td>0.576</td>\n",
       "      <td>0.574</td>\n",
       "      <td>94.285961</td>\n",
       "      <td>0.533</td>\n",
       "      <td>0.526</td>\n",
       "    </tr>\n",
       "    <tr>\n",
       "      <td>1</td>\n",
       "      <td>Multiple Regression-2</td>\n",
       "      <td>Reducing Features/No Neighborhoods</td>\n",
       "      <td>94.644000</td>\n",
       "      <td>0.569</td>\n",
       "      <td>0.568</td>\n",
       "      <td>94.874000</td>\n",
       "      <td>0.527</td>\n",
       "      <td>0.521</td>\n",
       "    </tr>\n",
       "    <tr>\n",
       "      <td>2</td>\n",
       "      <td>Lasso</td>\n",
       "      <td>Reducing Features/No Neighborhoods</td>\n",
       "      <td>94.644178</td>\n",
       "      <td>0.569</td>\n",
       "      <td>0.568</td>\n",
       "      <td>94.874000</td>\n",
       "      <td>0.527</td>\n",
       "      <td>0.521</td>\n",
       "    </tr>\n",
       "    <tr>\n",
       "      <td>3</td>\n",
       "      <td>Ridge</td>\n",
       "      <td>Reducing Features/No Neighborhoods</td>\n",
       "      <td>94.649316</td>\n",
       "      <td>0.569</td>\n",
       "      <td>0.568</td>\n",
       "      <td>94.891000</td>\n",
       "      <td>0.527</td>\n",
       "      <td>0.521</td>\n",
       "    </tr>\n",
       "    <tr>\n",
       "      <td>4</td>\n",
       "      <td>Elastic Net</td>\n",
       "      <td>Reducing Features/No Neighborhoods</td>\n",
       "      <td>94.644196</td>\n",
       "      <td>0.569</td>\n",
       "      <td>0.568</td>\n",
       "      <td>94.875000</td>\n",
       "      <td>0.527</td>\n",
       "      <td>0.521</td>\n",
       "    </tr>\n",
       "    <tr>\n",
       "      <td>5</td>\n",
       "      <td>Polynomial 2nd Order</td>\n",
       "      <td>Reducing Features/No Neighborhoods</td>\n",
       "      <td>85.630000</td>\n",
       "      <td>0.647</td>\n",
       "      <td>0.637</td>\n",
       "      <td>88.787000</td>\n",
       "      <td>0.586</td>\n",
       "      <td>0.663</td>\n",
       "    </tr>\n",
       "    <tr>\n",
       "      <td>6</td>\n",
       "      <td>Polynomial 2nd Order</td>\n",
       "      <td>Reducing Features Even More</td>\n",
       "      <td>88.279000</td>\n",
       "      <td>0.625</td>\n",
       "      <td>0.615</td>\n",
       "      <td>91.349000</td>\n",
       "      <td>0.562</td>\n",
       "      <td>0.626</td>\n",
       "    </tr>\n",
       "  </tbody>\n",
       "</table>\n",
       "</div>"
      ],
      "text/plain": [
       "                   Model                         Description  Train (RMSE)  \\\n",
       "0  Multiple Regression-1                        All Features     93.889000   \n",
       "1  Multiple Regression-2  Reducing Features/No Neighborhoods     94.644000   \n",
       "2                  Lasso  Reducing Features/No Neighborhoods     94.644178   \n",
       "3                  Ridge  Reducing Features/No Neighborhoods     94.649316   \n",
       "4            Elastic Net  Reducing Features/No Neighborhoods     94.644196   \n",
       "5   Polynomial 2nd Order  Reducing Features/No Neighborhoods     85.630000   \n",
       "6   Polynomial 2nd Order         Reducing Features Even More     88.279000   \n",
       "\n",
       "   R-squared (training)  Adjusted R-squared (training)  Test (RMSE)  \\\n",
       "0                 0.576                          0.574    94.285961   \n",
       "1                 0.569                          0.568    94.874000   \n",
       "2                 0.569                          0.568    94.874000   \n",
       "3                 0.569                          0.568    94.891000   \n",
       "4                 0.569                          0.568    94.875000   \n",
       "5                 0.647                          0.637    88.787000   \n",
       "6                 0.625                          0.615    91.349000   \n",
       "\n",
       "   R-squared (test)  Adjusted R-squared (test)  \n",
       "0             0.533                      0.526  \n",
       "1             0.527                      0.521  \n",
       "2             0.527                      0.521  \n",
       "3             0.527                      0.521  \n",
       "4             0.527                      0.521  \n",
       "5             0.586                      0.663  \n",
       "6             0.562                      0.626  "
      ]
     },
     "execution_count": 59,
     "metadata": {},
     "output_type": "execute_result"
    }
   ],
   "source": [
    "summary_df = summary_df.append({'Model' : 'Polynomial 2nd Order', 'Description' : 'Reducing Features Even More' , 'Train (RMSE)' : train_rmse, 'R-squared (training)' : r2_train, 'Adjusted R-squared (training)': adjusted_r2_train, 'Test (RMSE)' : test_rmse, 'R-squared (test)' : r2_test, 'Adjusted R-squared (test)' : adjusted_r2_test} , ignore_index=True)\n",
    "summary_df"
   ]
  },
  {
   "cell_type": "markdown",
   "metadata": {},
   "source": [
    "## Dropping host response rate as our ttest show it was not significant\n"
   ]
  },
  {
   "cell_type": "code",
   "execution_count": 60,
   "metadata": {},
   "outputs": [],
   "source": [
    "df_feat4 = df[['host_total_listings_count',\n",
    "       'latitude', 'longitude', 'accommodates', 'bathrooms', 'bedrooms',\n",
    "       'beds', 'guests_included', 'minimum_nights',\n",
    "       'number_of_reviews', 'review_scores_rating',\n",
    "       'room_Private room','prop_Condominium', 'prop_Guest suite', 'prop_House']]"
   ]
  },
  {
   "cell_type": "code",
   "execution_count": 61,
   "metadata": {},
   "outputs": [
    {
     "name": "stdout",
     "output_type": "stream",
     "text": [
      "Training set - Features:  (4687, 15) Target:  (4687,)\n",
      "Training set - Features:  (1172, 15) Target:  (1172,)\n"
     ]
    }
   ],
   "source": [
    "X_train, X_test, y_train, y_test = train_test_split(df_feat4, df_tgt, random_state=13,test_size=0.2)\n",
    "\n",
    "print(\"Training set - Features: \", X_train.shape, \"Target: \", y_train.shape)\n",
    "print(\"Training set - Features: \", X_test.shape, \"Target: \",y_test.shape)\n",
    "poly = PolynomialFeatures(2)\n",
    "X_train_poly = poly.fit_transform(X_train)\n",
    "X_test_poly = poly.fit_transform(X_test)\n",
    "params = [1e-15, 1e-10, 1e-8, 1e-4, 1e-3,1e-2, 1, 5, 10, 20]"
   ]
  },
  {
   "cell_type": "code",
   "execution_count": 62,
   "metadata": {},
   "outputs": [
    {
     "name": "stdout",
     "output_type": "stream",
     "text": [
      "86.92403719468946\n"
     ]
    }
   ],
   "source": [
    "params2 = [.001,.01,.1,1,2,10]\n",
    "lr = LassoCV(alphas=params2, normalize = True,cv=10)\n",
    "lr.fit(X_train_poly, y_train)\n",
    "predict = lr.predict(X_test_poly)\n",
    "train_rmse = np.sqrt(mean_squared_error(y_train, lr.predict(X_train_poly)))\n",
    "print(train_rmse)"
   ]
  },
  {
   "cell_type": "code",
   "execution_count": 63,
   "metadata": {},
   "outputs": [
    {
     "data": {
      "text/plain": [
       "0.626"
      ]
     },
     "execution_count": 63,
     "metadata": {},
     "output_type": "execute_result"
    }
   ],
   "source": [
    "r2_train = lr.score(X_train_poly, y_train)\n",
    "n = X_train_poly.shape[0]\n",
    "p = X_train_poly.shape[1]\n",
    "adjusted_r2_train = 1-(1-r2_train)*(n-1)/(n-p-1)\n",
    "r2_train = round(r2_train, 3)\n",
    "adjusted_r2_train = round(adjusted_r2_train, 3)\n",
    "adjusted_r2_train"
   ]
  },
  {
   "cell_type": "code",
   "execution_count": 64,
   "metadata": {},
   "outputs": [
    {
     "data": {
      "text/plain": [
       "86.924"
      ]
     },
     "execution_count": 64,
     "metadata": {},
     "output_type": "execute_result"
    }
   ],
   "source": [
    "y_train_pred = lr.predict(X_train_poly)\n",
    "train_rmse = np.sqrt(metrics.mean_squared_error(y_train, y_train_pred))\n",
    "train_rmse = round(train_rmse, 3)\n",
    "train_rmse"
   ]
  },
  {
   "cell_type": "code",
   "execution_count": 65,
   "metadata": {},
   "outputs": [
    {
     "name": "stdout",
     "output_type": "stream",
     "text": [
      "0.577\n",
      "0.653\n"
     ]
    }
   ],
   "source": [
    "r2_test = lr.score(X_test_poly, y_test)\n",
    "n = X_test_poly.shape[0]\n",
    "p = X_test_poly.shape[1]\n",
    "\n",
    "adjusted_r2_test = (1-(1-r2_test))*(n-1)/(n-p-1)\n",
    "r2_test = round(r2_test, 3)\n",
    "adjusted_r2_test = round(adjusted_r2_test, 3)\n",
    "print(r2_test)\n",
    "print(adjusted_r2_test)"
   ]
  },
  {
   "cell_type": "code",
   "execution_count": 66,
   "metadata": {},
   "outputs": [
    {
     "data": {
      "text/plain": [
       "89.718"
      ]
     },
     "execution_count": 66,
     "metadata": {},
     "output_type": "execute_result"
    }
   ],
   "source": [
    "y_test_pred = lr.predict(X_test_poly)\n",
    "test_rmse = np.sqrt(metrics.mean_squared_error(y_test, y_test_pred))\n",
    "test_rmse = round(test_rmse, 3)\n",
    "test_rmse"
   ]
  },
  {
   "cell_type": "code",
   "execution_count": 67,
   "metadata": {},
   "outputs": [
    {
     "data": {
      "text/html": [
       "<div>\n",
       "<style scoped>\n",
       "    .dataframe tbody tr th:only-of-type {\n",
       "        vertical-align: middle;\n",
       "    }\n",
       "\n",
       "    .dataframe tbody tr th {\n",
       "        vertical-align: top;\n",
       "    }\n",
       "\n",
       "    .dataframe thead th {\n",
       "        text-align: right;\n",
       "    }\n",
       "</style>\n",
       "<table border=\"1\" class=\"dataframe\">\n",
       "  <thead>\n",
       "    <tr style=\"text-align: right;\">\n",
       "      <th></th>\n",
       "      <th>Model</th>\n",
       "      <th>Description</th>\n",
       "      <th>Train (RMSE)</th>\n",
       "      <th>R-squared (training)</th>\n",
       "      <th>Adjusted R-squared (training)</th>\n",
       "      <th>Test (RMSE)</th>\n",
       "      <th>R-squared (test)</th>\n",
       "      <th>Adjusted R-squared (test)</th>\n",
       "    </tr>\n",
       "  </thead>\n",
       "  <tbody>\n",
       "    <tr>\n",
       "      <td>0</td>\n",
       "      <td>Multiple Regression-1</td>\n",
       "      <td>All Features</td>\n",
       "      <td>93.889000</td>\n",
       "      <td>0.576</td>\n",
       "      <td>0.574</td>\n",
       "      <td>94.285961</td>\n",
       "      <td>0.533</td>\n",
       "      <td>0.526</td>\n",
       "    </tr>\n",
       "    <tr>\n",
       "      <td>1</td>\n",
       "      <td>Multiple Regression-2</td>\n",
       "      <td>Reducing Features/No Neighborhoods</td>\n",
       "      <td>94.644000</td>\n",
       "      <td>0.569</td>\n",
       "      <td>0.568</td>\n",
       "      <td>94.874000</td>\n",
       "      <td>0.527</td>\n",
       "      <td>0.521</td>\n",
       "    </tr>\n",
       "    <tr>\n",
       "      <td>2</td>\n",
       "      <td>Lasso</td>\n",
       "      <td>Reducing Features/No Neighborhoods</td>\n",
       "      <td>94.644178</td>\n",
       "      <td>0.569</td>\n",
       "      <td>0.568</td>\n",
       "      <td>94.874000</td>\n",
       "      <td>0.527</td>\n",
       "      <td>0.521</td>\n",
       "    </tr>\n",
       "    <tr>\n",
       "      <td>3</td>\n",
       "      <td>Ridge</td>\n",
       "      <td>Reducing Features/No Neighborhoods</td>\n",
       "      <td>94.649316</td>\n",
       "      <td>0.569</td>\n",
       "      <td>0.568</td>\n",
       "      <td>94.891000</td>\n",
       "      <td>0.527</td>\n",
       "      <td>0.521</td>\n",
       "    </tr>\n",
       "    <tr>\n",
       "      <td>4</td>\n",
       "      <td>Elastic Net</td>\n",
       "      <td>Reducing Features/No Neighborhoods</td>\n",
       "      <td>94.644196</td>\n",
       "      <td>0.569</td>\n",
       "      <td>0.568</td>\n",
       "      <td>94.875000</td>\n",
       "      <td>0.527</td>\n",
       "      <td>0.521</td>\n",
       "    </tr>\n",
       "    <tr>\n",
       "      <td>5</td>\n",
       "      <td>Polynomial 2nd Order</td>\n",
       "      <td>Reducing Features/No Neighborhoods</td>\n",
       "      <td>85.630000</td>\n",
       "      <td>0.647</td>\n",
       "      <td>0.637</td>\n",
       "      <td>88.787000</td>\n",
       "      <td>0.586</td>\n",
       "      <td>0.663</td>\n",
       "    </tr>\n",
       "    <tr>\n",
       "      <td>6</td>\n",
       "      <td>Polynomial 2nd Order</td>\n",
       "      <td>Reducing Features Even More</td>\n",
       "      <td>88.279000</td>\n",
       "      <td>0.625</td>\n",
       "      <td>0.615</td>\n",
       "      <td>91.349000</td>\n",
       "      <td>0.562</td>\n",
       "      <td>0.626</td>\n",
       "    </tr>\n",
       "    <tr>\n",
       "      <td>7</td>\n",
       "      <td>Polynomial 2nd Order</td>\n",
       "      <td>Final Features</td>\n",
       "      <td>86.924000</td>\n",
       "      <td>0.637</td>\n",
       "      <td>0.626</td>\n",
       "      <td>89.718000</td>\n",
       "      <td>0.577</td>\n",
       "      <td>0.653</td>\n",
       "    </tr>\n",
       "  </tbody>\n",
       "</table>\n",
       "</div>"
      ],
      "text/plain": [
       "                   Model                         Description  Train (RMSE)  \\\n",
       "0  Multiple Regression-1                        All Features     93.889000   \n",
       "1  Multiple Regression-2  Reducing Features/No Neighborhoods     94.644000   \n",
       "2                  Lasso  Reducing Features/No Neighborhoods     94.644178   \n",
       "3                  Ridge  Reducing Features/No Neighborhoods     94.649316   \n",
       "4            Elastic Net  Reducing Features/No Neighborhoods     94.644196   \n",
       "5   Polynomial 2nd Order  Reducing Features/No Neighborhoods     85.630000   \n",
       "6   Polynomial 2nd Order         Reducing Features Even More     88.279000   \n",
       "7   Polynomial 2nd Order                      Final Features     86.924000   \n",
       "\n",
       "   R-squared (training)  Adjusted R-squared (training)  Test (RMSE)  \\\n",
       "0                 0.576                          0.574    94.285961   \n",
       "1                 0.569                          0.568    94.874000   \n",
       "2                 0.569                          0.568    94.874000   \n",
       "3                 0.569                          0.568    94.891000   \n",
       "4                 0.569                          0.568    94.875000   \n",
       "5                 0.647                          0.637    88.787000   \n",
       "6                 0.625                          0.615    91.349000   \n",
       "7                 0.637                          0.626    89.718000   \n",
       "\n",
       "   R-squared (test)  Adjusted R-squared (test)  \n",
       "0             0.533                      0.526  \n",
       "1             0.527                      0.521  \n",
       "2             0.527                      0.521  \n",
       "3             0.527                      0.521  \n",
       "4             0.527                      0.521  \n",
       "5             0.586                      0.663  \n",
       "6             0.562                      0.626  \n",
       "7             0.577                      0.653  "
      ]
     },
     "execution_count": 67,
     "metadata": {},
     "output_type": "execute_result"
    }
   ],
   "source": [
    "summary_df = summary_df.append({'Model' : 'Polynomial 2nd Order', 'Description' : 'Final Features' , 'Train (RMSE)' : train_rmse, 'R-squared (training)' : r2_train, 'Adjusted R-squared (training)': adjusted_r2_train, 'Test (RMSE)' : test_rmse, 'R-squared (test)' : r2_test, 'Adjusted R-squared (test)' : adjusted_r2_test} , ignore_index=True)\n",
    "summary_df"
   ]
  },
  {
   "cell_type": "code",
   "execution_count": 68,
   "metadata": {},
   "outputs": [
    {
     "data": {
      "image/png": "[encoded data removed]",
      "text/plain": [
       "<Figure size 432x288 with 1 Axes>"
      ]
     },
     "metadata": {
      "needs_background": "light"
     },
     "output_type": "display_data"
    }
   ],
   "source": [
    "resid = y_test - y_test_pred\n",
    "fig = sm.graphics.qqplot(resid, dist=stats.norm, line='45', fit=True)\n",
    "fig.show()"
   ]
  },
  {
   "cell_type": "code",
   "execution_count": 69,
   "metadata": {},
   "outputs": [
    {
     "name": "stdout",
     "output_type": "stream",
     "text": [
      "600.0\n",
      "55.0\n"
     ]
    }
   ],
   "source": [
    "#dropping price outliers\n",
    "print(df.price.quantile(.975))\n",
    "print(df.price.quantile(.025))\n",
    "df_trimmed = df[df['price']<=600]\n",
    "df_trimmed = df_trimmed[df_trimmed['price']>=55]"
   ]
  },
  {
   "cell_type": "code",
   "execution_count": 70,
   "metadata": {},
   "outputs": [],
   "source": [
    "df_feat4 = df_trimmed[['host_total_listings_count','latitude', 'longitude', 'accommodates', 'bathrooms', 'bedrooms',\n",
    "       'beds', 'guests_included', 'minimum_nights',\n",
    "       'number_of_reviews', 'review_scores_rating',\n",
    "       'room_Private room','prop_Condominium', 'prop_Guest suite', 'prop_House']]\n",
    "df_tgt = df_trimmed.price"
   ]
  },
  {
   "cell_type": "code",
   "execution_count": 71,
   "metadata": {},
   "outputs": [
    {
     "name": "stdout",
     "output_type": "stream",
     "text": [
      "Training set - Features:  (4464, 15) Target:  (4464,)\n",
      "Training set - Features:  (1116, 15) Target:  (1116,)\n"
     ]
    }
   ],
   "source": [
    "X_train, X_test, y_train, y_test = train_test_split(df_feat4, df_tgt, random_state=13,test_size=0.2)\n",
    "#scaler = StandardScaler()\n",
    "#scaler.fit(X_train)\n",
    "#X_train=scaler.transform(X_train)\n",
    "#X_test=scaler.transform(X_test)\n",
    "#check the shape of the results\n",
    "print(\"Training set - Features: \", X_train.shape, \"Target: \", y_train.shape)\n",
    "print(\"Training set - Features: \", X_test.shape, \"Target: \",y_test.shape)\n",
    "poly = PolynomialFeatures(2)\n",
    "X_train_poly = poly.fit_transform(X_train)\n",
    "X_test_poly = poly.fit_transform(X_test)\n",
    "params = [1e-15, 1e-10, 1e-8, 1e-4, 1e-3,1e-2, 1, 5, 10, 20]"
   ]
  },
  {
   "cell_type": "code",
   "execution_count": 72,
   "metadata": {},
   "outputs": [
    {
     "name": "stdout",
     "output_type": "stream",
     "text": [
      "65.98494441303417\n"
     ]
    }
   ],
   "source": [
    "params2 = [.001,.01,.1,1,2,10]\n",
    "lr = LassoCV(alphas=params2, normalize = True,cv=10)\n",
    "lr.fit(X_train_poly, y_train)\n",
    "predict = lr.predict(X_test_poly)\n",
    "train_rmse = np.sqrt(mean_squared_error(y_train, lr.predict(X_train_poly)))\n",
    "print(train_rmse)"
   ]
  },
  {
   "cell_type": "code",
   "execution_count": 73,
   "metadata": {},
   "outputs": [
    {
     "data": {
      "text/plain": [
       "0.622"
      ]
     },
     "execution_count": 73,
     "metadata": {},
     "output_type": "execute_result"
    }
   ],
   "source": [
    "r2_train = lr.score(X_train_poly, y_train)\n",
    "n = X_train_poly.shape[0]\n",
    "p = X_train_poly.shape[1]\n",
    "adjusted_r2_train = 1-(1-r2_train)*(n-1)/(n-p-1)\n",
    "r2_train = round(r2_train, 3)\n",
    "adjusted_r2_train = round(adjusted_r2_train, 3)\n",
    "adjusted_r2_train"
   ]
  },
  {
   "cell_type": "code",
   "execution_count": 74,
   "metadata": {},
   "outputs": [
    {
     "data": {
      "text/plain": [
       "65.985"
      ]
     },
     "execution_count": 74,
     "metadata": {},
     "output_type": "execute_result"
    }
   ],
   "source": [
    "y_train_pred = lr.predict(X_train_poly)\n",
    "train_rmse = np.sqrt(metrics.mean_squared_error(y_train, y_train_pred))\n",
    "train_rmse = round(train_rmse, 3)\n",
    "train_rmse"
   ]
  },
  {
   "cell_type": "code",
   "execution_count": 75,
   "metadata": {},
   "outputs": [
    {
     "name": "stdout",
     "output_type": "stream",
     "text": [
      "0.617\n",
      "0.703\n"
     ]
    }
   ],
   "source": [
    "r2_test = lr.score(X_test_poly, y_test)\n",
    "n = X_test_poly.shape[0]\n",
    "p = X_test_poly.shape[1]\n",
    "\n",
    "adjusted_r2_test = (1-(1-r2_test))*(n-1)/(n-p-1)\n",
    "r2_test = round(r2_test, 3)\n",
    "adjusted_r2_test = round(adjusted_r2_test, 3)\n",
    "print(r2_test)\n",
    "print(adjusted_r2_test)"
   ]
  },
  {
   "cell_type": "code",
   "execution_count": 76,
   "metadata": {},
   "outputs": [
    {
     "data": {
      "text/plain": [
       "64.37"
      ]
     },
     "execution_count": 76,
     "metadata": {},
     "output_type": "execute_result"
    }
   ],
   "source": [
    "y_test_pred = lr.predict(X_test_poly)\n",
    "test_rmse = np.sqrt(metrics.mean_squared_error(y_test, y_test_pred))\n",
    "test_rmse = round(test_rmse, 3)\n",
    "test_rmse"
   ]
  },
  {
   "cell_type": "code",
   "execution_count": 77,
   "metadata": {},
   "outputs": [
    {
     "data": {
      "image/png": "[encoded data removed]",
      "text/plain": [
       "<Figure size 432x288 with 1 Axes>"
      ]
     },
     "metadata": {
      "needs_background": "light"
     },
     "output_type": "display_data"
    }
   ],
   "source": [
    "resid = y_test - y_test_pred\n",
    "fig = sm.graphics.qqplot(resid, dist=stats.norm, line='45', fit=True)\n",
    "fig.show()"
   ]
  },
  {
   "cell_type": "code",
   "execution_count": 78,
   "metadata": {},
   "outputs": [
    {
     "data": {
      "text/html": [
       "<div>\n",
       "<style scoped>\n",
       "    .dataframe tbody tr th:only-of-type {\n",
       "        vertical-align: middle;\n",
       "    }\n",
       "\n",
       "    .dataframe tbody tr th {\n",
       "        vertical-align: top;\n",
       "    }\n",
       "\n",
       "    .dataframe thead th {\n",
       "        text-align: right;\n",
       "    }\n",
       "</style>\n",
       "<table border=\"1\" class=\"dataframe\">\n",
       "  <thead>\n",
       "    <tr style=\"text-align: right;\">\n",
       "      <th></th>\n",
       "      <th>Model</th>\n",
       "      <th>Description</th>\n",
       "      <th>Train (RMSE)</th>\n",
       "      <th>R-squared (training)</th>\n",
       "      <th>Adjusted R-squared (training)</th>\n",
       "      <th>Test (RMSE)</th>\n",
       "      <th>R-squared (test)</th>\n",
       "      <th>Adjusted R-squared (test)</th>\n",
       "    </tr>\n",
       "  </thead>\n",
       "  <tbody>\n",
       "    <tr>\n",
       "      <td>0</td>\n",
       "      <td>Multiple Regression-1</td>\n",
       "      <td>All Features</td>\n",
       "      <td>93.889000</td>\n",
       "      <td>0.576</td>\n",
       "      <td>0.574</td>\n",
       "      <td>94.285961</td>\n",
       "      <td>0.533</td>\n",
       "      <td>0.526</td>\n",
       "    </tr>\n",
       "    <tr>\n",
       "      <td>1</td>\n",
       "      <td>Multiple Regression-2</td>\n",
       "      <td>Reducing Features/No Neighborhoods</td>\n",
       "      <td>94.644000</td>\n",
       "      <td>0.569</td>\n",
       "      <td>0.568</td>\n",
       "      <td>94.874000</td>\n",
       "      <td>0.527</td>\n",
       "      <td>0.521</td>\n",
       "    </tr>\n",
       "    <tr>\n",
       "      <td>2</td>\n",
       "      <td>Lasso</td>\n",
       "      <td>Reducing Features/No Neighborhoods</td>\n",
       "      <td>94.644178</td>\n",
       "      <td>0.569</td>\n",
       "      <td>0.568</td>\n",
       "      <td>94.874000</td>\n",
       "      <td>0.527</td>\n",
       "      <td>0.521</td>\n",
       "    </tr>\n",
       "    <tr>\n",
       "      <td>3</td>\n",
       "      <td>Ridge</td>\n",
       "      <td>Reducing Features/No Neighborhoods</td>\n",
       "      <td>94.649316</td>\n",
       "      <td>0.569</td>\n",
       "      <td>0.568</td>\n",
       "      <td>94.891000</td>\n",
       "      <td>0.527</td>\n",
       "      <td>0.521</td>\n",
       "    </tr>\n",
       "    <tr>\n",
       "      <td>4</td>\n",
       "      <td>Elastic Net</td>\n",
       "      <td>Reducing Features/No Neighborhoods</td>\n",
       "      <td>94.644196</td>\n",
       "      <td>0.569</td>\n",
       "      <td>0.568</td>\n",
       "      <td>94.875000</td>\n",
       "      <td>0.527</td>\n",
       "      <td>0.521</td>\n",
       "    </tr>\n",
       "    <tr>\n",
       "      <td>5</td>\n",
       "      <td>Polynomial 2nd Order</td>\n",
       "      <td>Reducing Features/No Neighborhoods</td>\n",
       "      <td>85.630000</td>\n",
       "      <td>0.647</td>\n",
       "      <td>0.637</td>\n",
       "      <td>88.787000</td>\n",
       "      <td>0.586</td>\n",
       "      <td>0.663</td>\n",
       "    </tr>\n",
       "    <tr>\n",
       "      <td>6</td>\n",
       "      <td>Polynomial 2nd Order</td>\n",
       "      <td>Reducing Features Even More</td>\n",
       "      <td>88.279000</td>\n",
       "      <td>0.625</td>\n",
       "      <td>0.615</td>\n",
       "      <td>91.349000</td>\n",
       "      <td>0.562</td>\n",
       "      <td>0.626</td>\n",
       "    </tr>\n",
       "    <tr>\n",
       "      <td>7</td>\n",
       "      <td>Polynomial 2nd Order</td>\n",
       "      <td>Final Features</td>\n",
       "      <td>86.924000</td>\n",
       "      <td>0.637</td>\n",
       "      <td>0.626</td>\n",
       "      <td>89.718000</td>\n",
       "      <td>0.577</td>\n",
       "      <td>0.653</td>\n",
       "    </tr>\n",
       "    <tr>\n",
       "      <td>8</td>\n",
       "      <td>Polynomial 2nd Order</td>\n",
       "      <td>Final Features Trimmed</td>\n",
       "      <td>65.985000</td>\n",
       "      <td>0.633</td>\n",
       "      <td>0.622</td>\n",
       "      <td>64.370000</td>\n",
       "      <td>0.617</td>\n",
       "      <td>0.703</td>\n",
       "    </tr>\n",
       "  </tbody>\n",
       "</table>\n",
       "</div>"
      ],
      "text/plain": [
       "                   Model                         Description  Train (RMSE)  \\\n",
       "0  Multiple Regression-1                        All Features     93.889000   \n",
       "1  Multiple Regression-2  Reducing Features/No Neighborhoods     94.644000   \n",
       "2                  Lasso  Reducing Features/No Neighborhoods     94.644178   \n",
       "3                  Ridge  Reducing Features/No Neighborhoods     94.649316   \n",
       "4            Elastic Net  Reducing Features/No Neighborhoods     94.644196   \n",
       "5   Polynomial 2nd Order  Reducing Features/No Neighborhoods     85.630000   \n",
       "6   Polynomial 2nd Order         Reducing Features Even More     88.279000   \n",
       "7   Polynomial 2nd Order                      Final Features     86.924000   \n",
       "8   Polynomial 2nd Order              Final Features Trimmed     65.985000   \n",
       "\n",
       "   R-squared (training)  Adjusted R-squared (training)  Test (RMSE)  \\\n",
       "0                 0.576                          0.574    94.285961   \n",
       "1                 0.569                          0.568    94.874000   \n",
       "2                 0.569                          0.568    94.874000   \n",
       "3                 0.569                          0.568    94.891000   \n",
       "4                 0.569                          0.568    94.875000   \n",
       "5                 0.647                          0.637    88.787000   \n",
       "6                 0.625                          0.615    91.349000   \n",
       "7                 0.637                          0.626    89.718000   \n",
       "8                 0.633                          0.622    64.370000   \n",
       "\n",
       "   R-squared (test)  Adjusted R-squared (test)  \n",
       "0             0.533                      0.526  \n",
       "1             0.527                      0.521  \n",
       "2             0.527                      0.521  \n",
       "3             0.527                      0.521  \n",
       "4             0.527                      0.521  \n",
       "5             0.586                      0.663  \n",
       "6             0.562                      0.626  \n",
       "7             0.577                      0.653  \n",
       "8             0.617                      0.703  "
      ]
     },
     "execution_count": 78,
     "metadata": {},
     "output_type": "execute_result"
    }
   ],
   "source": [
    "summary_df = summary_df.append({'Model' : 'Polynomial 2nd Order', 'Description' : 'Final Features Trimmed' , 'Train (RMSE)' : train_rmse, 'R-squared (training)' : r2_train, 'Adjusted R-squared (training)': adjusted_r2_train, 'Test (RMSE)' : test_rmse, 'R-squared (test)' : r2_test, 'Adjusted R-squared (test)' : adjusted_r2_test} , ignore_index=True)\n",
    "summary_df"
   ]
  },
  {
   "cell_type": "markdown",
   "metadata": {},
   "source": [
    "## Final Features W/ Neighborhood"
   ]
  },
  {
   "cell_type": "code",
   "execution_count": 79,
   "metadata": {},
   "outputs": [],
   "source": [
    "dummies_prop = pd.get_dummies(nbr['property_type'], drop_first=True)\n",
    "dummies_room= pd.get_dummies(nbr['room_type'], drop_first=True)\n",
    "nbr = pd.concat([nbr, dummies_room, dummies_prop],axis=1)\n",
    "nbr.drop(['property_type','room_type'],axis = 1,inplace = True)"
   ]
  },
  {
   "cell_type": "code",
   "execution_count": 80,
   "metadata": {},
   "outputs": [],
   "source": [
    "df_feat_nbr =nbr[['neighbourhood_cleansed', 'accommodates', 'bathrooms', 'bedrooms',\n",
    "       'guests_included', 'minimum_nights',\n",
    "       'number_of_reviews', 'review_scores_rating',\n",
    "       'Private room','Condominium', 'Guest suite', 'House','instant_bookable']]\n",
    "df_tgt_nbr = nbr.price"
   ]
  },
  {
   "cell_type": "code",
   "execution_count": 81,
   "metadata": {},
   "outputs": [
    {
     "name": "stdout",
     "output_type": "stream",
     "text": [
      "Training set - Features:  (4687, 13) Target:  (4687,)\n",
      "Training set - Features:  (1172, 13) Target:  (1172,)\n"
     ]
    }
   ],
   "source": [
    "X_train, X_test, y_train, y_test = train_test_split(df_feat_nbr, df_tgt_nbr, random_state=13,test_size=0.2)\n",
    "\n",
    "print(\"Training set - Features: \", X_train.shape, \"Target: \", y_train.shape)\n",
    "print(\"Training set - Features: \", X_test.shape, \"Target: \",y_test.shape)\n",
    "poly = PolynomialFeatures(2)\n",
    "X_train_poly = poly.fit_transform(X_train)\n",
    "X_test_poly = poly.fit_transform(X_test)\n",
    "params = [1e-15, 1e-10, 1e-8, 1e-4, 1e-3,1e-2, 1, 5, 10, 20]"
   ]
  },
  {
   "cell_type": "code",
   "execution_count": 82,
   "metadata": {},
   "outputs": [
    {
     "name": "stdout",
     "output_type": "stream",
     "text": [
      "87.98033358019771\n"
     ]
    }
   ],
   "source": [
    "params2 = [.001,.01,.1,1,2,10]\n",
    "lr = LassoCV(alphas=params2, normalize = True,cv=10)\n",
    "lr.fit(X_train_poly, y_train)\n",
    "predict = lr.predict(X_test_poly)\n",
    "train_rmse = np.sqrt(mean_squared_error(y_train, lr.predict(X_train_poly)))\n",
    "print(train_rmse)"
   ]
  },
  {
   "cell_type": "code",
   "execution_count": 83,
   "metadata": {},
   "outputs": [
    {
     "data": {
      "text/plain": [
       "0.619"
      ]
     },
     "execution_count": 83,
     "metadata": {},
     "output_type": "execute_result"
    }
   ],
   "source": [
    "r2_train = lr.score(X_train_poly, y_train)\n",
    "n = X_train_poly.shape[0]\n",
    "p = X_train_poly.shape[1]\n",
    "adjusted_r2_train = 1-(1-r2_train)*(n-1)/(n-p-1)\n",
    "r2_train = round(r2_train, 3)\n",
    "adjusted_r2_train = round(adjusted_r2_train, 3)\n",
    "adjusted_r2_train"
   ]
  },
  {
   "cell_type": "code",
   "execution_count": 84,
   "metadata": {},
   "outputs": [
    {
     "data": {
      "text/plain": [
       "87.98"
      ]
     },
     "execution_count": 84,
     "metadata": {},
     "output_type": "execute_result"
    }
   ],
   "source": [
    "y_train_pred = lr.predict(X_train_poly)\n",
    "train_rmse = np.sqrt(metrics.mean_squared_error(y_train, y_train_pred))\n",
    "train_rmse = round(train_rmse, 3)\n",
    "train_rmse"
   ]
  },
  {
   "cell_type": "code",
   "execution_count": 85,
   "metadata": {},
   "outputs": [
    {
     "name": "stdout",
     "output_type": "stream",
     "text": [
      "0.573\n",
      "0.63\n"
     ]
    }
   ],
   "source": [
    "r2_test = lr.score(X_test_poly, y_test)\n",
    "n = X_test_poly.shape[0]\n",
    "p = X_test_poly.shape[1]\n",
    "\n",
    "adjusted_r2_test = (1-(1-r2_test))*(n-1)/(n-p-1)\n",
    "r2_test = round(r2_test, 3)\n",
    "adjusted_r2_test = round(adjusted_r2_test, 3)\n",
    "print(r2_test)\n",
    "print(adjusted_r2_test)"
   ]
  },
  {
   "cell_type": "code",
   "execution_count": 86,
   "metadata": {},
   "outputs": [
    {
     "data": {
      "text/plain": [
       "90.162"
      ]
     },
     "execution_count": 86,
     "metadata": {},
     "output_type": "execute_result"
    }
   ],
   "source": [
    "y_test_pred = lr.predict(X_test_poly)\n",
    "test_rmse = np.sqrt(metrics.mean_squared_error(y_test, y_test_pred))\n",
    "test_rmse = round(test_rmse, 3)\n",
    "test_rmse"
   ]
  },
  {
   "cell_type": "code",
   "execution_count": 87,
   "metadata": {},
   "outputs": [
    {
     "data": {
      "text/html": [
       "<div>\n",
       "<style scoped>\n",
       "    .dataframe tbody tr th:only-of-type {\n",
       "        vertical-align: middle;\n",
       "    }\n",
       "\n",
       "    .dataframe tbody tr th {\n",
       "        vertical-align: top;\n",
       "    }\n",
       "\n",
       "    .dataframe thead th {\n",
       "        text-align: right;\n",
       "    }\n",
       "</style>\n",
       "<table border=\"1\" class=\"dataframe\">\n",
       "  <thead>\n",
       "    <tr style=\"text-align: right;\">\n",
       "      <th></th>\n",
       "      <th>Model</th>\n",
       "      <th>Description</th>\n",
       "      <th>Train (RMSE)</th>\n",
       "      <th>R-squared (training)</th>\n",
       "      <th>Adjusted R-squared (training)</th>\n",
       "      <th>Test (RMSE)</th>\n",
       "      <th>R-squared (test)</th>\n",
       "      <th>Adjusted R-squared (test)</th>\n",
       "    </tr>\n",
       "  </thead>\n",
       "  <tbody>\n",
       "    <tr>\n",
       "      <td>0</td>\n",
       "      <td>Multiple Regression-1</td>\n",
       "      <td>All Features</td>\n",
       "      <td>93.889000</td>\n",
       "      <td>0.576</td>\n",
       "      <td>0.574</td>\n",
       "      <td>94.285961</td>\n",
       "      <td>0.533</td>\n",
       "      <td>0.526</td>\n",
       "    </tr>\n",
       "    <tr>\n",
       "      <td>1</td>\n",
       "      <td>Multiple Regression-2</td>\n",
       "      <td>Reducing Features/No Neighborhoods</td>\n",
       "      <td>94.644000</td>\n",
       "      <td>0.569</td>\n",
       "      <td>0.568</td>\n",
       "      <td>94.874000</td>\n",
       "      <td>0.527</td>\n",
       "      <td>0.521</td>\n",
       "    </tr>\n",
       "    <tr>\n",
       "      <td>2</td>\n",
       "      <td>Lasso</td>\n",
       "      <td>Reducing Features/No Neighborhoods</td>\n",
       "      <td>94.644178</td>\n",
       "      <td>0.569</td>\n",
       "      <td>0.568</td>\n",
       "      <td>94.874000</td>\n",
       "      <td>0.527</td>\n",
       "      <td>0.521</td>\n",
       "    </tr>\n",
       "    <tr>\n",
       "      <td>3</td>\n",
       "      <td>Ridge</td>\n",
       "      <td>Reducing Features/No Neighborhoods</td>\n",
       "      <td>94.649316</td>\n",
       "      <td>0.569</td>\n",
       "      <td>0.568</td>\n",
       "      <td>94.891000</td>\n",
       "      <td>0.527</td>\n",
       "      <td>0.521</td>\n",
       "    </tr>\n",
       "    <tr>\n",
       "      <td>4</td>\n",
       "      <td>Elastic Net</td>\n",
       "      <td>Reducing Features/No Neighborhoods</td>\n",
       "      <td>94.644196</td>\n",
       "      <td>0.569</td>\n",
       "      <td>0.568</td>\n",
       "      <td>94.875000</td>\n",
       "      <td>0.527</td>\n",
       "      <td>0.521</td>\n",
       "    </tr>\n",
       "    <tr>\n",
       "      <td>5</td>\n",
       "      <td>Polynomial 2nd Order</td>\n",
       "      <td>Reducing Features/No Neighborhoods</td>\n",
       "      <td>85.630000</td>\n",
       "      <td>0.647</td>\n",
       "      <td>0.637</td>\n",
       "      <td>88.787000</td>\n",
       "      <td>0.586</td>\n",
       "      <td>0.663</td>\n",
       "    </tr>\n",
       "    <tr>\n",
       "      <td>6</td>\n",
       "      <td>Polynomial 2nd Order</td>\n",
       "      <td>Reducing Features Even More</td>\n",
       "      <td>88.279000</td>\n",
       "      <td>0.625</td>\n",
       "      <td>0.615</td>\n",
       "      <td>91.349000</td>\n",
       "      <td>0.562</td>\n",
       "      <td>0.626</td>\n",
       "    </tr>\n",
       "    <tr>\n",
       "      <td>7</td>\n",
       "      <td>Polynomial 2nd Order</td>\n",
       "      <td>Final Features</td>\n",
       "      <td>86.924000</td>\n",
       "      <td>0.637</td>\n",
       "      <td>0.626</td>\n",
       "      <td>89.718000</td>\n",
       "      <td>0.577</td>\n",
       "      <td>0.653</td>\n",
       "    </tr>\n",
       "    <tr>\n",
       "      <td>8</td>\n",
       "      <td>Polynomial 2nd Order</td>\n",
       "      <td>Final Features Trimmed</td>\n",
       "      <td>65.985000</td>\n",
       "      <td>0.633</td>\n",
       "      <td>0.622</td>\n",
       "      <td>64.370000</td>\n",
       "      <td>0.617</td>\n",
       "      <td>0.703</td>\n",
       "    </tr>\n",
       "    <tr>\n",
       "      <td>9</td>\n",
       "      <td>Polynomial 2nd Order</td>\n",
       "      <td>Final Features Nbrhd</td>\n",
       "      <td>87.980000</td>\n",
       "      <td>0.628</td>\n",
       "      <td>0.619</td>\n",
       "      <td>90.162000</td>\n",
       "      <td>0.573</td>\n",
       "      <td>0.630</td>\n",
       "    </tr>\n",
       "  </tbody>\n",
       "</table>\n",
       "</div>"
      ],
      "text/plain": [
       "                   Model                         Description  Train (RMSE)  \\\n",
       "0  Multiple Regression-1                        All Features     93.889000   \n",
       "1  Multiple Regression-2  Reducing Features/No Neighborhoods     94.644000   \n",
       "2                  Lasso  Reducing Features/No Neighborhoods     94.644178   \n",
       "3                  Ridge  Reducing Features/No Neighborhoods     94.649316   \n",
       "4            Elastic Net  Reducing Features/No Neighborhoods     94.644196   \n",
       "5   Polynomial 2nd Order  Reducing Features/No Neighborhoods     85.630000   \n",
       "6   Polynomial 2nd Order         Reducing Features Even More     88.279000   \n",
       "7   Polynomial 2nd Order                      Final Features     86.924000   \n",
       "8   Polynomial 2nd Order              Final Features Trimmed     65.985000   \n",
       "9   Polynomial 2nd Order                Final Features Nbrhd     87.980000   \n",
       "\n",
       "   R-squared (training)  Adjusted R-squared (training)  Test (RMSE)  \\\n",
       "0                 0.576                          0.574    94.285961   \n",
       "1                 0.569                          0.568    94.874000   \n",
       "2                 0.569                          0.568    94.874000   \n",
       "3                 0.569                          0.568    94.891000   \n",
       "4                 0.569                          0.568    94.875000   \n",
       "5                 0.647                          0.637    88.787000   \n",
       "6                 0.625                          0.615    91.349000   \n",
       "7                 0.637                          0.626    89.718000   \n",
       "8                 0.633                          0.622    64.370000   \n",
       "9                 0.628                          0.619    90.162000   \n",
       "\n",
       "   R-squared (test)  Adjusted R-squared (test)  \n",
       "0             0.533                      0.526  \n",
       "1             0.527                      0.521  \n",
       "2             0.527                      0.521  \n",
       "3             0.527                      0.521  \n",
       "4             0.527                      0.521  \n",
       "5             0.586                      0.663  \n",
       "6             0.562                      0.626  \n",
       "7             0.577                      0.653  \n",
       "8             0.617                      0.703  \n",
       "9             0.573                      0.630  "
      ]
     },
     "execution_count": 87,
     "metadata": {},
     "output_type": "execute_result"
    }
   ],
   "source": [
    "summary_df = summary_df.append({'Model' : 'Polynomial 2nd Order', 'Description' : 'Final Features Nbrhd' , 'Train (RMSE)' : train_rmse, 'R-squared (training)' : r2_train, 'Adjusted R-squared (training)': adjusted_r2_train, 'Test (RMSE)' : test_rmse, 'R-squared (test)' : r2_test, 'Adjusted R-squared (test)' : adjusted_r2_test} , ignore_index=True)\n",
    "summary_df"
   ]
  },
  {
   "cell_type": "code",
   "execution_count": 88,
   "metadata": {},
   "outputs": [],
   "source": [
    "df_nbr_trim = nbr[nbr['price']<=600]\n",
    "df_nbr_trim = df_nbr_trim[df_nbr_trim['price']>=55]\n",
    "df_tgt_trim = df_nbr_trim.price\n",
    "df_feat_nbr_trim =df_nbr_trim[['neighbourhood_cleansed', 'accommodates', 'bathrooms','bedrooms',\n",
    "       'guests_included', 'minimum_nights',\n",
    "       'number_of_reviews', 'review_scores_rating',\n",
    "       'Private room','Condominium', 'Guest suite', 'House']]"
   ]
  },
  {
   "cell_type": "code",
   "execution_count": 104,
   "metadata": {},
   "outputs": [
    {
     "name": "stdout",
     "output_type": "stream",
     "text": [
      "Training set - Features:  (4464, 12) Target:  (4464,)\n",
      "Training set - Features:  (1116, 12) Target:  (1116,)\n"
     ]
    }
   ],
   "source": [
    "X_train, X_test, y_train, y_test = train_test_split(df_feat_nbr_trim, df_tgt_trim, random_state=13,test_size=0.2)\n",
    "\n",
    "print(\"Training set - Features: \", X_train.shape, \"Target: \", y_train.shape)\n",
    "print(\"Training set - Features: \", X_test.shape, \"Target: \",y_test.shape)\n",
    "poly = PolynomialFeatures(2, interaction_only = True)\n",
    "X_train_poly = poly.fit_transform(X_train)\n",
    "X_test_poly = poly.fit_transform(X_test)\n",
    "params = [1e-15, 1e-10, 1e-8, 1e-4, 1e-3,1e-2, 1, 5, 10, 20]\n"
   ]
  },
  {
   "cell_type": "code",
   "execution_count": 112,
   "metadata": {},
   "outputs": [
    {
     "name": "stdout",
     "output_type": "stream",
     "text": [
      "68.59750667003124\n",
      "0.001\n"
     ]
    }
   ],
   "source": [
    "params2 = [.001,.01,.1,1,2,10]\n",
    "lr = LassoCV(alphas=params2, normalize = True,cv=20)\n",
    "lr.fit(X_train_poly, y_train)\n",
    "predict = lr.predict(X_test_poly)\n",
    "train_rmse = np.sqrt(mean_squared_error(y_train, lr.predict(X_train_poly)))\n",
    "print(train_rmse)\n",
    "print(lr.alpha_)\n"
   ]
  },
  {
   "cell_type": "code",
   "execution_count": 107,
   "metadata": {},
   "outputs": [
    {
     "data": {
      "text/plain": [
       "0.596"
      ]
     },
     "execution_count": 107,
     "metadata": {},
     "output_type": "execute_result"
    }
   ],
   "source": [
    "r2_train = lr.score(X_train_poly, y_train)\n",
    "n = X_train_poly.shape[0]\n",
    "p = X_train_poly.shape[1]\n",
    "adjusted_r2_train = 1-(1-r2_train)*(n-1)/(n-p-1)\n",
    "r2_train = round(r2_train, 3)\n",
    "adjusted_r2_train = round(adjusted_r2_train, 3)\n",
    "adjusted_r2_train"
   ]
  },
  {
   "cell_type": "code",
   "execution_count": 108,
   "metadata": {},
   "outputs": [
    {
     "data": {
      "text/plain": [
       "68.598"
      ]
     },
     "execution_count": 108,
     "metadata": {},
     "output_type": "execute_result"
    }
   ],
   "source": [
    "y_train_pred = lr.predict(X_train_poly)\n",
    "train_rmse = np.sqrt(metrics.mean_squared_error(y_train, y_train_pred))\n",
    "train_rmse = round(train_rmse, 3)\n",
    "train_rmse"
   ]
  },
  {
   "cell_type": "code",
   "execution_count": 109,
   "metadata": {},
   "outputs": [
    {
     "name": "stdout",
     "output_type": "stream",
     "text": [
      "0.595\n",
      "0.64\n"
     ]
    }
   ],
   "source": [
    "r2_test = lr.score(X_test_poly, y_test)\n",
    "n = X_test_poly.shape[0]\n",
    "p = X_test_poly.shape[1]\n",
    "\n",
    "adjusted_r2_test = (1-(1-r2_test))*(n-1)/(n-p-1)\n",
    "r2_test = round(r2_test, 3)\n",
    "adjusted_r2_test = round(adjusted_r2_test, 3)\n",
    "print(r2_test)\n",
    "print(adjusted_r2_test)"
   ]
  },
  {
   "cell_type": "code",
   "execution_count": 110,
   "metadata": {},
   "outputs": [
    {
     "data": {
      "text/plain": [
       "66.206"
      ]
     },
     "execution_count": 110,
     "metadata": {},
     "output_type": "execute_result"
    }
   ],
   "source": [
    "y_test_pred = lr.predict(X_test_poly)\n",
    "test_rmse = np.sqrt(metrics.mean_squared_error(y_test, y_test_pred))\n",
    "test_rmse = round(test_rmse, 3)\n",
    "test_rmse"
   ]
  },
  {
   "cell_type": "code",
   "execution_count": 111,
   "metadata": {},
   "outputs": [
    {
     "data": {
      "text/html": [
       "<div>\n",
       "<style scoped>\n",
       "    .dataframe tbody tr th:only-of-type {\n",
       "        vertical-align: middle;\n",
       "    }\n",
       "\n",
       "    .dataframe tbody tr th {\n",
       "        vertical-align: top;\n",
       "    }\n",
       "\n",
       "    .dataframe thead th {\n",
       "        text-align: right;\n",
       "    }\n",
       "</style>\n",
       "<table border=\"1\" class=\"dataframe\">\n",
       "  <thead>\n",
       "    <tr style=\"text-align: right;\">\n",
       "      <th></th>\n",
       "      <th>Model</th>\n",
       "      <th>Description</th>\n",
       "      <th>Train (RMSE)</th>\n",
       "      <th>R-squared (training)</th>\n",
       "      <th>Adjusted R-squared (training)</th>\n",
       "      <th>Test (RMSE)</th>\n",
       "      <th>R-squared (test)</th>\n",
       "      <th>Adjusted R-squared (test)</th>\n",
       "    </tr>\n",
       "  </thead>\n",
       "  <tbody>\n",
       "    <tr>\n",
       "      <td>0</td>\n",
       "      <td>Multiple Regression-1</td>\n",
       "      <td>All Features</td>\n",
       "      <td>93.889000</td>\n",
       "      <td>0.576</td>\n",
       "      <td>0.574</td>\n",
       "      <td>94.285961</td>\n",
       "      <td>0.533</td>\n",
       "      <td>0.526</td>\n",
       "    </tr>\n",
       "    <tr>\n",
       "      <td>1</td>\n",
       "      <td>Multiple Regression-2</td>\n",
       "      <td>Reducing Features/No Neighborhoods</td>\n",
       "      <td>94.644000</td>\n",
       "      <td>0.569</td>\n",
       "      <td>0.568</td>\n",
       "      <td>94.874000</td>\n",
       "      <td>0.527</td>\n",
       "      <td>0.521</td>\n",
       "    </tr>\n",
       "    <tr>\n",
       "      <td>2</td>\n",
       "      <td>Lasso</td>\n",
       "      <td>Reducing Features/No Neighborhoods</td>\n",
       "      <td>94.644178</td>\n",
       "      <td>0.569</td>\n",
       "      <td>0.568</td>\n",
       "      <td>94.874000</td>\n",
       "      <td>0.527</td>\n",
       "      <td>0.521</td>\n",
       "    </tr>\n",
       "    <tr>\n",
       "      <td>3</td>\n",
       "      <td>Ridge</td>\n",
       "      <td>Reducing Features/No Neighborhoods</td>\n",
       "      <td>94.649316</td>\n",
       "      <td>0.569</td>\n",
       "      <td>0.568</td>\n",
       "      <td>94.891000</td>\n",
       "      <td>0.527</td>\n",
       "      <td>0.521</td>\n",
       "    </tr>\n",
       "    <tr>\n",
       "      <td>4</td>\n",
       "      <td>Elastic Net</td>\n",
       "      <td>Reducing Features/No Neighborhoods</td>\n",
       "      <td>94.644196</td>\n",
       "      <td>0.569</td>\n",
       "      <td>0.568</td>\n",
       "      <td>94.875000</td>\n",
       "      <td>0.527</td>\n",
       "      <td>0.521</td>\n",
       "    </tr>\n",
       "    <tr>\n",
       "      <td>5</td>\n",
       "      <td>Polynomial 2nd Order</td>\n",
       "      <td>Reducing Features/No Neighborhoods</td>\n",
       "      <td>85.630000</td>\n",
       "      <td>0.647</td>\n",
       "      <td>0.637</td>\n",
       "      <td>88.787000</td>\n",
       "      <td>0.586</td>\n",
       "      <td>0.663</td>\n",
       "    </tr>\n",
       "    <tr>\n",
       "      <td>6</td>\n",
       "      <td>Polynomial 2nd Order</td>\n",
       "      <td>Reducing Features Even More</td>\n",
       "      <td>88.279000</td>\n",
       "      <td>0.625</td>\n",
       "      <td>0.615</td>\n",
       "      <td>91.349000</td>\n",
       "      <td>0.562</td>\n",
       "      <td>0.626</td>\n",
       "    </tr>\n",
       "    <tr>\n",
       "      <td>7</td>\n",
       "      <td>Polynomial 2nd Order</td>\n",
       "      <td>Final Features</td>\n",
       "      <td>86.924000</td>\n",
       "      <td>0.637</td>\n",
       "      <td>0.626</td>\n",
       "      <td>89.718000</td>\n",
       "      <td>0.577</td>\n",
       "      <td>0.653</td>\n",
       "    </tr>\n",
       "    <tr>\n",
       "      <td>8</td>\n",
       "      <td>Polynomial 2nd Order</td>\n",
       "      <td>Final Features Trimmed</td>\n",
       "      <td>65.985000</td>\n",
       "      <td>0.633</td>\n",
       "      <td>0.622</td>\n",
       "      <td>64.370000</td>\n",
       "      <td>0.617</td>\n",
       "      <td>0.703</td>\n",
       "    </tr>\n",
       "    <tr>\n",
       "      <td>9</td>\n",
       "      <td>Polynomial 2nd Order</td>\n",
       "      <td>Final Features Nbrhd</td>\n",
       "      <td>87.980000</td>\n",
       "      <td>0.628</td>\n",
       "      <td>0.619</td>\n",
       "      <td>90.162000</td>\n",
       "      <td>0.573</td>\n",
       "      <td>0.630</td>\n",
       "    </tr>\n",
       "    <tr>\n",
       "      <td>10</td>\n",
       "      <td>Polynomial 2nd Order</td>\n",
       "      <td>Final Features Nbrhd Trim</td>\n",
       "      <td>68.295000</td>\n",
       "      <td>0.607</td>\n",
       "      <td>0.599</td>\n",
       "      <td>65.835000</td>\n",
       "      <td>0.600</td>\n",
       "      <td>0.653</td>\n",
       "    </tr>\n",
       "    <tr>\n",
       "      <td>11</td>\n",
       "      <td>Polynomial 2nd Order</td>\n",
       "      <td>Final Features Nbrhd Trim</td>\n",
       "      <td>68.598000</td>\n",
       "      <td>0.603</td>\n",
       "      <td>0.596</td>\n",
       "      <td>66.206000</td>\n",
       "      <td>0.595</td>\n",
       "      <td>0.640</td>\n",
       "    </tr>\n",
       "  </tbody>\n",
       "</table>\n",
       "</div>"
      ],
      "text/plain": [
       "                    Model                         Description  Train (RMSE)  \\\n",
       "0   Multiple Regression-1                        All Features     93.889000   \n",
       "1   Multiple Regression-2  Reducing Features/No Neighborhoods     94.644000   \n",
       "2                   Lasso  Reducing Features/No Neighborhoods     94.644178   \n",
       "3                   Ridge  Reducing Features/No Neighborhoods     94.649316   \n",
       "4             Elastic Net  Reducing Features/No Neighborhoods     94.644196   \n",
       "5    Polynomial 2nd Order  Reducing Features/No Neighborhoods     85.630000   \n",
       "6    Polynomial 2nd Order         Reducing Features Even More     88.279000   \n",
       "7    Polynomial 2nd Order                      Final Features     86.924000   \n",
       "8    Polynomial 2nd Order              Final Features Trimmed     65.985000   \n",
       "9    Polynomial 2nd Order                Final Features Nbrhd     87.980000   \n",
       "10   Polynomial 2nd Order           Final Features Nbrhd Trim     68.295000   \n",
       "11   Polynomial 2nd Order           Final Features Nbrhd Trim     68.598000   \n",
       "\n",
       "    R-squared (training)  Adjusted R-squared (training)  Test (RMSE)  \\\n",
       "0                  0.576                          0.574    94.285961   \n",
       "1                  0.569                          0.568    94.874000   \n",
       "2                  0.569                          0.568    94.874000   \n",
       "3                  0.569                          0.568    94.891000   \n",
       "4                  0.569                          0.568    94.875000   \n",
       "5                  0.647                          0.637    88.787000   \n",
       "6                  0.625                          0.615    91.349000   \n",
       "7                  0.637                          0.626    89.718000   \n",
       "8                  0.633                          0.622    64.370000   \n",
       "9                  0.628                          0.619    90.162000   \n",
       "10                 0.607                          0.599    65.835000   \n",
       "11                 0.603                          0.596    66.206000   \n",
       "\n",
       "    R-squared (test)  Adjusted R-squared (test)  \n",
       "0              0.533                      0.526  \n",
       "1              0.527                      0.521  \n",
       "2              0.527                      0.521  \n",
       "3              0.527                      0.521  \n",
       "4              0.527                      0.521  \n",
       "5              0.586                      0.663  \n",
       "6              0.562                      0.626  \n",
       "7              0.577                      0.653  \n",
       "8              0.617                      0.703  \n",
       "9              0.573                      0.630  \n",
       "10             0.600                      0.653  \n",
       "11             0.595                      0.640  "
      ]
     },
     "execution_count": 111,
     "metadata": {},
     "output_type": "execute_result"
    }
   ],
   "source": [
    "summary_df = summary_df.append({'Model' : 'Polynomial 2nd Order', 'Description' : 'Final Features Nbrhd Trim' , 'Train (RMSE)' : train_rmse, 'R-squared (training)' : r2_train, 'Adjusted R-squared (training)': adjusted_r2_train, 'Test (RMSE)' : test_rmse, 'R-squared (test)' : r2_test, 'Adjusted R-squared (test)' : adjusted_r2_test} , ignore_index=True)\n",
    "summary_df"
   ]
  },
  {
   "cell_type": "code",
   "execution_count": 96,
   "metadata": {},
   "outputs": [
    {
     "data": {
      "image/png": "[encoded data removed]",
      "text/plain": [
       "<Figure size 432x288 with 1 Axes>"
      ]
     },
     "metadata": {
      "needs_background": "light"
     },
     "output_type": "display_data"
    }
   ],
   "source": [
    "resid = y_test - y_test_pred\n",
    "fig = sm.graphics.qqplot(resid, dist=stats.norm, line='45', fit=True)\n",
    "fig.show()"
   ]
  },
  {
   "cell_type": "code",
   "execution_count": null,
   "metadata": {},
   "outputs": [],
   "source": []
  }
 ],
 "metadata": {
  "kernelspec": {
   "display_name": "Python 3",
   "language": "python",
   "name": "python3"
  },
  "language_info": {
   "codemirror_mode": {
    "name": "ipython",
    "version": 3
   },
   "file_extension": ".py",
   "mimetype": "text/x-python",
   "name": "python",
   "nbconvert_exporter": "python",
   "pygments_lexer": "ipython3",
   "version": "3.7.4"
  }
 },
 "nbformat": 4,
 "nbformat_minor": 2
}
