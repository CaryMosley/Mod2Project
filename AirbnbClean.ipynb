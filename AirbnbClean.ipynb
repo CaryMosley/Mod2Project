{
 "cells": [
  {
   "cell_type": "code",
   "execution_count": 2,
   "metadata": {},
   "outputs": [],
   "source": [
    "#Import libraries\n",
    "from datetime import datetime\n",
    "import pandas as pd\n",
    "import numpy as np\n",
    "import statsmodels.api as sm\n",
    "from statsmodels.formula.api import ols\n",
    "import matplotlib.pyplot as plt\n",
    "import seaborn as sns\n",
    "from scipy.stats import pearsonr\n",
    "from scipy.stats import norm\n",
    "from scipy import stats\n",
    "import scipy as sp\n",
    "import warnings\n",
    "from sklearn.model_selection import train_test_split\n",
    "from sklearn.linear_model import LinearRegression\n",
    "from sklearn import metrics\n",
    "from sklearn.model_selection import cross_val_score\n",
    "from sklearn.feature_selection import f_regression\n",
    "sns.set()\n",
    "from sklearn.preprocessing import StandardScaler\n",
    "from sklearn.preprocessing import PolynomialFeatures\n",
    "from sklearn.linear_model import Lasso\n",
    "from sklearn.linear_model import Ridge\n",
    "from sklearn.metrics import mean_squared_error, r2_score\n",
    "from sklearn.linear_model import ElasticNet\n",
    "from sklearn.linear_model import ElasticNetCV\n",
    "from sklearn.model_selection import GridSearchCV\n",
    "warnings.filterwarnings(\"ignore\")\n",
    "plt.style.use('seaborn')\n",
    "%matplotlib inline\n",
    "pd.set_option('display.max_columns', 300)"
   ]
  },
  {
   "cell_type": "code",
   "execution_count": 3,
   "metadata": {},
   "outputs": [],
   "source": [
    "#read in data\n",
    "df = pd.read_csv('listingsclean.csv', index_col=0)"
   ]
  },
  {
   "cell_type": "markdown",
   "metadata": {},
   "source": [
    "## Data Cleaning\n",
    "This note book will continue cleaning outliers and removing features that are not usable\n",
    "for our project"
   ]
  },
  {
   "cell_type": "code",
   "execution_count": 4,
   "metadata": {},
   "outputs": [
    {
     "data": {
      "text/html": [
       "<div>\n",
       "<style scoped>\n",
       "    .dataframe tbody tr th:only-of-type {\n",
       "        vertical-align: middle;\n",
       "    }\n",
       "\n",
       "    .dataframe tbody tr th {\n",
       "        vertical-align: top;\n",
       "    }\n",
       "\n",
       "    .dataframe thead th {\n",
       "        text-align: right;\n",
       "    }\n",
       "</style>\n",
       "<table border=\"1\" class=\"dataframe\">\n",
       "  <thead>\n",
       "    <tr style=\"text-align: right;\">\n",
       "      <th></th>\n",
       "      <th>experiences_offered</th>\n",
       "      <th>host_response_rate</th>\n",
       "      <th>host_is_superhost</th>\n",
       "      <th>host_total_listings_count</th>\n",
       "      <th>neighbourhood_cleansed</th>\n",
       "      <th>city</th>\n",
       "      <th>zipcode</th>\n",
       "      <th>latitude</th>\n",
       "      <th>longitude</th>\n",
       "      <th>property_type</th>\n",
       "      <th>room_type</th>\n",
       "      <th>accommodates</th>\n",
       "      <th>bathrooms</th>\n",
       "      <th>bedrooms</th>\n",
       "      <th>beds</th>\n",
       "      <th>square_feet</th>\n",
       "      <th>price</th>\n",
       "      <th>weekly_price</th>\n",
       "      <th>monthly_price</th>\n",
       "      <th>security_deposit</th>\n",
       "      <th>cleaning_fee</th>\n",
       "      <th>guests_included</th>\n",
       "      <th>extra_people</th>\n",
       "      <th>minimum_nights</th>\n",
       "      <th>maximum_nights</th>\n",
       "      <th>number_of_reviews</th>\n",
       "      <th>review_scores_rating</th>\n",
       "      <th>instant_bookable</th>\n",
       "      <th>reviews_per_month</th>\n",
       "    </tr>\n",
       "    <tr>\n",
       "      <th>id</th>\n",
       "      <th></th>\n",
       "      <th></th>\n",
       "      <th></th>\n",
       "      <th></th>\n",
       "      <th></th>\n",
       "      <th></th>\n",
       "      <th></th>\n",
       "      <th></th>\n",
       "      <th></th>\n",
       "      <th></th>\n",
       "      <th></th>\n",
       "      <th></th>\n",
       "      <th></th>\n",
       "      <th></th>\n",
       "      <th></th>\n",
       "      <th></th>\n",
       "      <th></th>\n",
       "      <th></th>\n",
       "      <th></th>\n",
       "      <th></th>\n",
       "      <th></th>\n",
       "      <th></th>\n",
       "      <th></th>\n",
       "      <th></th>\n",
       "      <th></th>\n",
       "      <th></th>\n",
       "      <th></th>\n",
       "      <th></th>\n",
       "      <th></th>\n",
       "    </tr>\n",
       "  </thead>\n",
       "  <tbody>\n",
       "    <tr>\n",
       "      <td>958</td>\n",
       "      <td>none</td>\n",
       "      <td>100%</td>\n",
       "      <td>t</td>\n",
       "      <td>1.0</td>\n",
       "      <td>Western Addition</td>\n",
       "      <td>San Francisco</td>\n",
       "      <td>94117</td>\n",
       "      <td>37.76931</td>\n",
       "      <td>-122.43386</td>\n",
       "      <td>Apartment</td>\n",
       "      <td>Entire home/apt</td>\n",
       "      <td>3</td>\n",
       "      <td>1.0</td>\n",
       "      <td>1.0</td>\n",
       "      <td>2.0</td>\n",
       "      <td>NaN</td>\n",
       "      <td>$170.00</td>\n",
       "      <td>$1,120.00</td>\n",
       "      <td>$4,200.00</td>\n",
       "      <td>$100.00</td>\n",
       "      <td>$100.00</td>\n",
       "      <td>2</td>\n",
       "      <td>$25.00</td>\n",
       "      <td>1</td>\n",
       "      <td>30</td>\n",
       "      <td>217</td>\n",
       "      <td>97.0</td>\n",
       "      <td>f</td>\n",
       "      <td>1.74</td>\n",
       "    </tr>\n",
       "    <tr>\n",
       "      <td>3850</td>\n",
       "      <td>none</td>\n",
       "      <td>100%</td>\n",
       "      <td>t</td>\n",
       "      <td>2.0</td>\n",
       "      <td>Inner Sunset</td>\n",
       "      <td>San Francisco</td>\n",
       "      <td>94131</td>\n",
       "      <td>37.75402</td>\n",
       "      <td>-122.45805</td>\n",
       "      <td>House</td>\n",
       "      <td>Private room</td>\n",
       "      <td>2</td>\n",
       "      <td>1.0</td>\n",
       "      <td>1.0</td>\n",
       "      <td>1.0</td>\n",
       "      <td>NaN</td>\n",
       "      <td>$99.00</td>\n",
       "      <td>NaN</td>\n",
       "      <td>NaN</td>\n",
       "      <td>$0.00</td>\n",
       "      <td>$10.00</td>\n",
       "      <td>2</td>\n",
       "      <td>$20.00</td>\n",
       "      <td>1</td>\n",
       "      <td>5</td>\n",
       "      <td>160</td>\n",
       "      <td>94.0</td>\n",
       "      <td>f</td>\n",
       "      <td>1.28</td>\n",
       "    </tr>\n",
       "    <tr>\n",
       "      <td>5858</td>\n",
       "      <td>none</td>\n",
       "      <td>80%</td>\n",
       "      <td>f</td>\n",
       "      <td>2.0</td>\n",
       "      <td>Bernal Heights</td>\n",
       "      <td>San Francisco</td>\n",
       "      <td>94110</td>\n",
       "      <td>37.74511</td>\n",
       "      <td>-122.42102</td>\n",
       "      <td>Apartment</td>\n",
       "      <td>Entire home/apt</td>\n",
       "      <td>5</td>\n",
       "      <td>1.0</td>\n",
       "      <td>2.0</td>\n",
       "      <td>3.0</td>\n",
       "      <td>NaN</td>\n",
       "      <td>$235.00</td>\n",
       "      <td>$1,600.00</td>\n",
       "      <td>$5,500.00</td>\n",
       "      <td>NaN</td>\n",
       "      <td>$100.00</td>\n",
       "      <td>2</td>\n",
       "      <td>$0.00</td>\n",
       "      <td>30</td>\n",
       "      <td>60</td>\n",
       "      <td>111</td>\n",
       "      <td>98.0</td>\n",
       "      <td>f</td>\n",
       "      <td>0.87</td>\n",
       "    </tr>\n",
       "    <tr>\n",
       "      <td>7918</td>\n",
       "      <td>none</td>\n",
       "      <td>86%</td>\n",
       "      <td>t</td>\n",
       "      <td>10.0</td>\n",
       "      <td>Haight Ashbury</td>\n",
       "      <td>San Francisco</td>\n",
       "      <td>94117</td>\n",
       "      <td>37.76669</td>\n",
       "      <td>-122.45250</td>\n",
       "      <td>Apartment</td>\n",
       "      <td>Private room</td>\n",
       "      <td>2</td>\n",
       "      <td>4.0</td>\n",
       "      <td>1.0</td>\n",
       "      <td>1.0</td>\n",
       "      <td>NaN</td>\n",
       "      <td>$65.00</td>\n",
       "      <td>$485.00</td>\n",
       "      <td>$1,685.00</td>\n",
       "      <td>$200.00</td>\n",
       "      <td>$50.00</td>\n",
       "      <td>1</td>\n",
       "      <td>$12.00</td>\n",
       "      <td>32</td>\n",
       "      <td>60</td>\n",
       "      <td>18</td>\n",
       "      <td>86.0</td>\n",
       "      <td>f</td>\n",
       "      <td>0.15</td>\n",
       "    </tr>\n",
       "    <tr>\n",
       "      <td>8142</td>\n",
       "      <td>none</td>\n",
       "      <td>86%</td>\n",
       "      <td>t</td>\n",
       "      <td>10.0</td>\n",
       "      <td>Haight Ashbury</td>\n",
       "      <td>San Francisco</td>\n",
       "      <td>94117</td>\n",
       "      <td>37.76487</td>\n",
       "      <td>-122.45183</td>\n",
       "      <td>Apartment</td>\n",
       "      <td>Private room</td>\n",
       "      <td>2</td>\n",
       "      <td>4.0</td>\n",
       "      <td>1.0</td>\n",
       "      <td>1.0</td>\n",
       "      <td>NaN</td>\n",
       "      <td>$65.00</td>\n",
       "      <td>$490.00</td>\n",
       "      <td>$1,685.00</td>\n",
       "      <td>$200.00</td>\n",
       "      <td>$50.00</td>\n",
       "      <td>1</td>\n",
       "      <td>$12.00</td>\n",
       "      <td>32</td>\n",
       "      <td>90</td>\n",
       "      <td>8</td>\n",
       "      <td>93.0</td>\n",
       "      <td>f</td>\n",
       "      <td>0.13</td>\n",
       "    </tr>\n",
       "  </tbody>\n",
       "</table>\n",
       "</div>"
      ],
      "text/plain": [
       "     experiences_offered host_response_rate host_is_superhost  \\\n",
       "id                                                              \n",
       "958                 none               100%                 t   \n",
       "3850                none               100%                 t   \n",
       "5858                none                80%                 f   \n",
       "7918                none                86%                 t   \n",
       "8142                none                86%                 t   \n",
       "\n",
       "      host_total_listings_count neighbourhood_cleansed           city zipcode  \\\n",
       "id                                                                              \n",
       "958                         1.0       Western Addition  San Francisco   94117   \n",
       "3850                        2.0           Inner Sunset  San Francisco   94131   \n",
       "5858                        2.0         Bernal Heights  San Francisco   94110   \n",
       "7918                       10.0         Haight Ashbury  San Francisco   94117   \n",
       "8142                       10.0         Haight Ashbury  San Francisco   94117   \n",
       "\n",
       "      latitude  longitude property_type        room_type  accommodates  \\\n",
       "id                                                                       \n",
       "958   37.76931 -122.43386     Apartment  Entire home/apt             3   \n",
       "3850  37.75402 -122.45805         House     Private room             2   \n",
       "5858  37.74511 -122.42102     Apartment  Entire home/apt             5   \n",
       "7918  37.76669 -122.45250     Apartment     Private room             2   \n",
       "8142  37.76487 -122.45183     Apartment     Private room             2   \n",
       "\n",
       "      bathrooms  bedrooms  beds  square_feet     price weekly_price  \\\n",
       "id                                                                    \n",
       "958         1.0       1.0   2.0          NaN  $170.00    $1,120.00    \n",
       "3850        1.0       1.0   1.0          NaN   $99.00           NaN   \n",
       "5858        1.0       2.0   3.0          NaN  $235.00    $1,600.00    \n",
       "7918        4.0       1.0   1.0          NaN   $65.00      $485.00    \n",
       "8142        4.0       1.0   1.0          NaN   $65.00      $490.00    \n",
       "\n",
       "     monthly_price security_deposit cleaning_fee  guests_included  \\\n",
       "id                                                                  \n",
       "958     $4,200.00          $100.00      $100.00                 2   \n",
       "3850           NaN           $0.00       $10.00                 2   \n",
       "5858    $5,500.00               NaN     $100.00                 2   \n",
       "7918    $1,685.00          $200.00       $50.00                 1   \n",
       "8142    $1,685.00          $200.00       $50.00                 1   \n",
       "\n",
       "     extra_people  minimum_nights  maximum_nights  number_of_reviews  \\\n",
       "id                                                                     \n",
       "958       $25.00                1              30                217   \n",
       "3850      $20.00                1               5                160   \n",
       "5858       $0.00               30              60                111   \n",
       "7918      $12.00               32              60                 18   \n",
       "8142      $12.00               32              90                  8   \n",
       "\n",
       "      review_scores_rating instant_bookable  reviews_per_month  \n",
       "id                                                              \n",
       "958                   97.0                f               1.74  \n",
       "3850                  94.0                f               1.28  \n",
       "5858                  98.0                f               0.87  \n",
       "7918                  86.0                f               0.15  \n",
       "8142                  93.0                f               0.13  "
      ]
     },
     "execution_count": 4,
     "metadata": {},
     "output_type": "execute_result"
    }
   ],
   "source": [
    "df.head()"
   ]
  },
  {
   "cell_type": "code",
   "execution_count": 5,
   "metadata": {},
   "outputs": [
    {
     "data": {
      "text/plain": [
       "experiences_offered           object\n",
       "host_response_rate            object\n",
       "host_is_superhost             object\n",
       "host_total_listings_count    float64\n",
       "neighbourhood_cleansed        object\n",
       "city                          object\n",
       "zipcode                       object\n",
       "latitude                     float64\n",
       "longitude                    float64\n",
       "property_type                 object\n",
       "room_type                     object\n",
       "accommodates                   int64\n",
       "bathrooms                    float64\n",
       "bedrooms                     float64\n",
       "beds                         float64\n",
       "square_feet                  float64\n",
       "price                         object\n",
       "weekly_price                  object\n",
       "monthly_price                 object\n",
       "security_deposit              object\n",
       "cleaning_fee                  object\n",
       "guests_included                int64\n",
       "extra_people                  object\n",
       "minimum_nights                 int64\n",
       "maximum_nights                 int64\n",
       "number_of_reviews              int64\n",
       "review_scores_rating         float64\n",
       "instant_bookable              object\n",
       "reviews_per_month            float64\n",
       "dtype: object"
      ]
     },
     "execution_count": 5,
     "metadata": {},
     "output_type": "execute_result"
    }
   ],
   "source": [
    "#checking column types\n",
    "df.dtypes"
   ]
  },
  {
   "cell_type": "code",
   "execution_count": 6,
   "metadata": {},
   "outputs": [
    {
     "data": {
      "text/plain": [
       "(8111, 29)"
      ]
     },
     "execution_count": 6,
     "metadata": {},
     "output_type": "execute_result"
    }
   ],
   "source": [
    "#checking dataframe shape\n",
    "df.shape"
   ]
  },
  {
   "cell_type": "code",
   "execution_count": 7,
   "metadata": {},
   "outputs": [
    {
     "data": {
      "text/plain": [
       "experiences_offered             0\n",
       "host_response_rate            927\n",
       "host_is_superhost               8\n",
       "host_total_listings_count       8\n",
       "neighbourhood_cleansed          0\n",
       "city                           10\n",
       "zipcode                       245\n",
       "latitude                        0\n",
       "longitude                       0\n",
       "property_type                   0\n",
       "room_type                       0\n",
       "accommodates                    0\n",
       "bathrooms                      12\n",
       "bedrooms                        4\n",
       "beds                            9\n",
       "square_feet                  7987\n",
       "price                           0\n",
       "weekly_price                 7042\n",
       "monthly_price                7067\n",
       "security_deposit             1692\n",
       "cleaning_fee                  924\n",
       "guests_included                 0\n",
       "extra_people                    0\n",
       "minimum_nights                  0\n",
       "maximum_nights                  0\n",
       "number_of_reviews               0\n",
       "review_scores_rating         1651\n",
       "instant_bookable                0\n",
       "reviews_per_month            1605\n",
       "dtype: int64"
      ]
     },
     "execution_count": 7,
     "metadata": {},
     "output_type": "execute_result"
    }
   ],
   "source": [
    "df.isnull().sum()"
   ]
  },
  {
   "cell_type": "code",
   "execution_count": 6,
   "metadata": {},
   "outputs": [
    {
     "data": {
      "text/plain": [
       "San Francisco                  8059\n",
       "Daly City                        34\n",
       "San Francisco                     3\n",
       "Brisbane                          1\n",
       "San Francisco, Hayes Valley       1\n",
       "San Jose                          1\n",
       "旧金山                               1\n",
       "Noe Valley - San Francisco        1\n",
       "Name: city, dtype: int64"
      ]
     },
     "execution_count": 6,
     "metadata": {},
     "output_type": "execute_result"
    }
   ],
   "source": [
    "#looking at the City type column\n",
    "df['city'].value_counts()"
   ]
  },
  {
   "cell_type": "code",
   "execution_count": 7,
   "metadata": {},
   "outputs": [],
   "source": [
    "#We are focusing just on SF so dropping where city is not SF\n",
    "df= df[df['city']=='San Francisco']\n",
    "df.drop(['city'],axis=1,inplace = True)"
   ]
  },
  {
   "cell_type": "code",
   "execution_count": 8,
   "metadata": {},
   "outputs": [
    {
     "data": {
      "text/plain": [
       "7935"
      ]
     },
     "execution_count": 8,
     "metadata": {},
     "output_type": "execute_result"
    }
   ],
   "source": [
    "#looking at the square feet column\n",
    "df['square_feet'].isna().sum()"
   ]
  },
  {
   "cell_type": "code",
   "execution_count": 9,
   "metadata": {},
   "outputs": [],
   "source": [
    "#We are missing 95% of the square feet data so dropping this column\n",
    "df.drop(['square_feet'],axis=1,inplace = True)"
   ]
  },
  {
   "cell_type": "code",
   "execution_count": 10,
   "metadata": {},
   "outputs": [
    {
     "data": {
      "text/plain": [
       "0"
      ]
     },
     "execution_count": 10,
     "metadata": {},
     "output_type": "execute_result"
    }
   ],
   "source": [
    "#Checking daily price\n",
    "df['price'].isna().sum()"
   ]
  },
  {
   "cell_type": "code",
   "execution_count": 11,
   "metadata": {},
   "outputs": [
    {
     "data": {
      "text/plain": [
       "6992"
      ]
     },
     "execution_count": 11,
     "metadata": {},
     "output_type": "execute_result"
    }
   ],
   "source": [
    "#Checking Weekly Price\n",
    "df['weekly_price'].isna().sum()"
   ]
  },
  {
   "cell_type": "code",
   "execution_count": 12,
   "metadata": {},
   "outputs": [
    {
     "data": {
      "text/plain": [
       "7017"
      ]
     },
     "execution_count": 12,
     "metadata": {},
     "output_type": "execute_result"
    }
   ],
   "source": [
    "#Checking Weekly Price\n",
    "\n",
    "df['monthly_price'].isna().sum()"
   ]
  },
  {
   "cell_type": "code",
   "execution_count": null,
   "metadata": {},
   "outputs": [],
   "source": [
    "#dropping weekly and monthly price\n",
    "df.drop(['monthly_price','weekly_price'],axis=1,inplace = True)\n"
   ]
  },
  {
   "cell_type": "markdown",
   "metadata": {},
   "source": [
    "We are dropping some columns with large amounts of null values and we don't think they\n",
    "make intuitive sense"
   ]
  },
  {
   "cell_type": "code",
   "execution_count": 14,
   "metadata": {},
   "outputs": [],
   "source": [
    "df.drop(['zipcode','security_deposit','cleaning_fee','reviews_per_month'],axis=1,inplace = True)"
   ]
  },
  {
   "cell_type": "markdown",
   "metadata": {},
   "source": [
    "Most listings do not have a weekly or a monthly price so we'll be using Daily Price as our outcome varialbe"
   ]
  },
  {
   "cell_type": "code",
   "execution_count": 15,
   "metadata": {},
   "outputs": [],
   "source": []
  },
  {
   "cell_type": "code",
   "execution_count": 16,
   "metadata": {},
   "outputs": [],
   "source": [
    "df.dropna(subset=['bathrooms','bedrooms','host_total_listings_count','beds'],inplace=True) "
   ]
  },
  {
   "cell_type": "code",
   "execution_count": 17,
   "metadata": {},
   "outputs": [
    {
     "data": {
      "text/plain": [
       "experiences_offered             0\n",
       "host_response_rate            913\n",
       "host_is_superhost               0\n",
       "host_total_listings_count       0\n",
       "neighbourhood_cleansed          0\n",
       "latitude                        0\n",
       "longitude                       0\n",
       "property_type                   0\n",
       "room_type                       0\n",
       "accommodates                    0\n",
       "bathrooms                       0\n",
       "bedrooms                        0\n",
       "beds                            0\n",
       "price                           0\n",
       "guests_included                 0\n",
       "extra_people                    0\n",
       "minimum_nights                  0\n",
       "maximum_nights                  0\n",
       "number_of_reviews               0\n",
       "review_scores_rating         1631\n",
       "instant_bookable                0\n",
       "dtype: int64"
      ]
     },
     "execution_count": 17,
     "metadata": {},
     "output_type": "execute_result"
    }
   ],
   "source": [
    "df.isnull().sum()"
   ]
  },
  {
   "cell_type": "code",
   "execution_count": 18,
   "metadata": {},
   "outputs": [
    {
     "data": {
      "text/plain": [
       "none    8027\n",
       "Name: experiences_offered, dtype: int64"
      ]
     },
     "execution_count": 18,
     "metadata": {},
     "output_type": "execute_result"
    }
   ],
   "source": [
    "df['experiences_offered'].value_counts()"
   ]
  },
  {
   "cell_type": "code",
   "execution_count": 19,
   "metadata": {},
   "outputs": [],
   "source": [
    "df.drop(['experiences_offered'],axis=1,inplace = True)\n"
   ]
  },
  {
   "cell_type": "code",
   "execution_count": 20,
   "metadata": {},
   "outputs": [
    {
     "data": {
      "text/plain": [
       "Entire home/apt    4730\n",
       "Private room       2858\n",
       "Shared room         232\n",
       "Hotel room          207\n",
       "Name: room_type, dtype: int64"
      ]
     },
     "execution_count": 20,
     "metadata": {},
     "output_type": "execute_result"
    }
   ],
   "source": [
    "df['room_type'].value_counts()"
   ]
  },
  {
   "cell_type": "markdown",
   "metadata": {},
   "source": [
    "## Cleaning t/f into 1/0"
   ]
  },
  {
   "cell_type": "code",
   "execution_count": 21,
   "metadata": {},
   "outputs": [],
   "source": [
    "df['host_is_superhost'] = np.where(df['host_is_superhost']=='t', 1, 0)"
   ]
  },
  {
   "cell_type": "code",
   "execution_count": 22,
   "metadata": {},
   "outputs": [
    {
     "data": {
      "text/plain": [
       "0    4507\n",
       "1    3520\n",
       "Name: host_is_superhost, dtype: int64"
      ]
     },
     "execution_count": 22,
     "metadata": {},
     "output_type": "execute_result"
    }
   ],
   "source": [
    "df['host_is_superhost'].value_counts()"
   ]
  },
  {
   "cell_type": "code",
   "execution_count": 23,
   "metadata": {},
   "outputs": [],
   "source": [
    "df['instant_bookable'] = np.where(df['instant_bookable']=='t', 1, 0)"
   ]
  },
  {
   "cell_type": "code",
   "execution_count": 24,
   "metadata": {},
   "outputs": [
    {
     "data": {
      "text/plain": [
       "0    4717\n",
       "1    3310\n",
       "Name: instant_bookable, dtype: int64"
      ]
     },
     "execution_count": 24,
     "metadata": {},
     "output_type": "execute_result"
    }
   ],
   "source": [
    "df['instant_bookable'].value_counts()"
   ]
  },
  {
   "cell_type": "code",
   "execution_count": 25,
   "metadata": {},
   "outputs": [
    {
     "data": {
      "text/html": [
       "<div>\n",
       "<style scoped>\n",
       "    .dataframe tbody tr th:only-of-type {\n",
       "        vertical-align: middle;\n",
       "    }\n",
       "\n",
       "    .dataframe tbody tr th {\n",
       "        vertical-align: top;\n",
       "    }\n",
       "\n",
       "    .dataframe thead th {\n",
       "        text-align: right;\n",
       "    }\n",
       "</style>\n",
       "<table border=\"1\" class=\"dataframe\">\n",
       "  <thead>\n",
       "    <tr style=\"text-align: right;\">\n",
       "      <th></th>\n",
       "      <th>host_response_rate</th>\n",
       "      <th>host_is_superhost</th>\n",
       "      <th>host_total_listings_count</th>\n",
       "      <th>neighbourhood_cleansed</th>\n",
       "      <th>latitude</th>\n",
       "      <th>longitude</th>\n",
       "      <th>property_type</th>\n",
       "      <th>room_type</th>\n",
       "      <th>accommodates</th>\n",
       "      <th>bathrooms</th>\n",
       "      <th>bedrooms</th>\n",
       "      <th>beds</th>\n",
       "      <th>price</th>\n",
       "      <th>guests_included</th>\n",
       "      <th>extra_people</th>\n",
       "      <th>minimum_nights</th>\n",
       "      <th>maximum_nights</th>\n",
       "      <th>number_of_reviews</th>\n",
       "      <th>review_scores_rating</th>\n",
       "      <th>instant_bookable</th>\n",
       "    </tr>\n",
       "    <tr>\n",
       "      <th>id</th>\n",
       "      <th></th>\n",
       "      <th></th>\n",
       "      <th></th>\n",
       "      <th></th>\n",
       "      <th></th>\n",
       "      <th></th>\n",
       "      <th></th>\n",
       "      <th></th>\n",
       "      <th></th>\n",
       "      <th></th>\n",
       "      <th></th>\n",
       "      <th></th>\n",
       "      <th></th>\n",
       "      <th></th>\n",
       "      <th></th>\n",
       "      <th></th>\n",
       "      <th></th>\n",
       "      <th></th>\n",
       "      <th></th>\n",
       "      <th></th>\n",
       "    </tr>\n",
       "  </thead>\n",
       "  <tbody>\n",
       "    <tr>\n",
       "      <td>958</td>\n",
       "      <td>100%</td>\n",
       "      <td>1</td>\n",
       "      <td>1.0</td>\n",
       "      <td>Western Addition</td>\n",
       "      <td>37.76931</td>\n",
       "      <td>-122.43386</td>\n",
       "      <td>Apartment</td>\n",
       "      <td>Entire home/apt</td>\n",
       "      <td>3</td>\n",
       "      <td>1.0</td>\n",
       "      <td>1.0</td>\n",
       "      <td>2.0</td>\n",
       "      <td>$170.00</td>\n",
       "      <td>2</td>\n",
       "      <td>$25.00</td>\n",
       "      <td>1</td>\n",
       "      <td>30</td>\n",
       "      <td>217</td>\n",
       "      <td>97.0</td>\n",
       "      <td>0</td>\n",
       "    </tr>\n",
       "    <tr>\n",
       "      <td>3850</td>\n",
       "      <td>100%</td>\n",
       "      <td>1</td>\n",
       "      <td>2.0</td>\n",
       "      <td>Inner Sunset</td>\n",
       "      <td>37.75402</td>\n",
       "      <td>-122.45805</td>\n",
       "      <td>House</td>\n",
       "      <td>Private room</td>\n",
       "      <td>2</td>\n",
       "      <td>1.0</td>\n",
       "      <td>1.0</td>\n",
       "      <td>1.0</td>\n",
       "      <td>$99.00</td>\n",
       "      <td>2</td>\n",
       "      <td>$20.00</td>\n",
       "      <td>1</td>\n",
       "      <td>5</td>\n",
       "      <td>160</td>\n",
       "      <td>94.0</td>\n",
       "      <td>0</td>\n",
       "    </tr>\n",
       "    <tr>\n",
       "      <td>5858</td>\n",
       "      <td>80%</td>\n",
       "      <td>0</td>\n",
       "      <td>2.0</td>\n",
       "      <td>Bernal Heights</td>\n",
       "      <td>37.74511</td>\n",
       "      <td>-122.42102</td>\n",
       "      <td>Apartment</td>\n",
       "      <td>Entire home/apt</td>\n",
       "      <td>5</td>\n",
       "      <td>1.0</td>\n",
       "      <td>2.0</td>\n",
       "      <td>3.0</td>\n",
       "      <td>$235.00</td>\n",
       "      <td>2</td>\n",
       "      <td>$0.00</td>\n",
       "      <td>30</td>\n",
       "      <td>60</td>\n",
       "      <td>111</td>\n",
       "      <td>98.0</td>\n",
       "      <td>0</td>\n",
       "    </tr>\n",
       "    <tr>\n",
       "      <td>7918</td>\n",
       "      <td>86%</td>\n",
       "      <td>1</td>\n",
       "      <td>10.0</td>\n",
       "      <td>Haight Ashbury</td>\n",
       "      <td>37.76669</td>\n",
       "      <td>-122.45250</td>\n",
       "      <td>Apartment</td>\n",
       "      <td>Private room</td>\n",
       "      <td>2</td>\n",
       "      <td>4.0</td>\n",
       "      <td>1.0</td>\n",
       "      <td>1.0</td>\n",
       "      <td>$65.00</td>\n",
       "      <td>1</td>\n",
       "      <td>$12.00</td>\n",
       "      <td>32</td>\n",
       "      <td>60</td>\n",
       "      <td>18</td>\n",
       "      <td>86.0</td>\n",
       "      <td>0</td>\n",
       "    </tr>\n",
       "    <tr>\n",
       "      <td>8142</td>\n",
       "      <td>86%</td>\n",
       "      <td>1</td>\n",
       "      <td>10.0</td>\n",
       "      <td>Haight Ashbury</td>\n",
       "      <td>37.76487</td>\n",
       "      <td>-122.45183</td>\n",
       "      <td>Apartment</td>\n",
       "      <td>Private room</td>\n",
       "      <td>2</td>\n",
       "      <td>4.0</td>\n",
       "      <td>1.0</td>\n",
       "      <td>1.0</td>\n",
       "      <td>$65.00</td>\n",
       "      <td>1</td>\n",
       "      <td>$12.00</td>\n",
       "      <td>32</td>\n",
       "      <td>90</td>\n",
       "      <td>8</td>\n",
       "      <td>93.0</td>\n",
       "      <td>0</td>\n",
       "    </tr>\n",
       "  </tbody>\n",
       "</table>\n",
       "</div>"
      ],
      "text/plain": [
       "     host_response_rate  host_is_superhost  host_total_listings_count  \\\n",
       "id                                                                      \n",
       "958                100%                  1                        1.0   \n",
       "3850               100%                  1                        2.0   \n",
       "5858                80%                  0                        2.0   \n",
       "7918                86%                  1                       10.0   \n",
       "8142                86%                  1                       10.0   \n",
       "\n",
       "     neighbourhood_cleansed  latitude  longitude property_type  \\\n",
       "id                                                               \n",
       "958        Western Addition  37.76931 -122.43386     Apartment   \n",
       "3850           Inner Sunset  37.75402 -122.45805         House   \n",
       "5858         Bernal Heights  37.74511 -122.42102     Apartment   \n",
       "7918         Haight Ashbury  37.76669 -122.45250     Apartment   \n",
       "8142         Haight Ashbury  37.76487 -122.45183     Apartment   \n",
       "\n",
       "            room_type  accommodates  bathrooms  bedrooms  beds     price  \\\n",
       "id                                                                         \n",
       "958   Entire home/apt             3        1.0       1.0   2.0  $170.00    \n",
       "3850     Private room             2        1.0       1.0   1.0   $99.00    \n",
       "5858  Entire home/apt             5        1.0       2.0   3.0  $235.00    \n",
       "7918     Private room             2        4.0       1.0   1.0   $65.00    \n",
       "8142     Private room             2        4.0       1.0   1.0   $65.00    \n",
       "\n",
       "      guests_included extra_people  minimum_nights  maximum_nights  \\\n",
       "id                                                                   \n",
       "958                 2      $25.00                1              30   \n",
       "3850                2      $20.00                1               5   \n",
       "5858                2       $0.00               30              60   \n",
       "7918                1      $12.00               32              60   \n",
       "8142                1      $12.00               32              90   \n",
       "\n",
       "      number_of_reviews  review_scores_rating  instant_bookable  \n",
       "id                                                               \n",
       "958                 217                  97.0                 0  \n",
       "3850                160                  94.0                 0  \n",
       "5858                111                  98.0                 0  \n",
       "7918                 18                  86.0                 0  \n",
       "8142                  8                  93.0                 0  "
      ]
     },
     "execution_count": 25,
     "metadata": {},
     "output_type": "execute_result"
    }
   ],
   "source": [
    "df.head()"
   ]
  },
  {
   "cell_type": "markdown",
   "metadata": {},
   "source": [
    "Replacing ratings NA values by average rating in the same neighborhood"
   ]
  },
  {
   "cell_type": "code",
   "execution_count": 26,
   "metadata": {},
   "outputs": [
    {
     "data": {
      "text/plain": [
       "neighbourhood_cleansed\n",
       "Bayview                  94.083832\n",
       "Bernal Heights           96.817416\n",
       "Castro/Upper Market      97.818919\n",
       "Chinatown                94.654762\n",
       "Crocker Amazon           92.513514\n",
       "Diamond Heights          98.187500\n",
       "Downtown/Civic Center    90.798403\n",
       "Excelsior                95.169697\n",
       "Financial District       94.774194\n",
       "Glen Park                97.440678\n",
       "Golden Gate Park         95.750000\n",
       "Haight Ashbury           95.563636\n",
       "Inner Richmond           94.815642\n",
       "Inner Sunset             96.540541\n",
       "Lakeshore                93.777778\n",
       "Marina                   95.696552\n",
       "Mission                  96.132800\n",
       "Nob Hill                 93.288557\n",
       "Noe Valley               97.017007\n",
       "North Beach              95.094488\n",
       "Ocean View               95.521739\n",
       "Outer Mission            96.128205\n",
       "Outer Richmond           95.660377\n",
       "Outer Sunset             95.289377\n",
       "Pacific Heights          96.515625\n",
       "Parkside                 96.440678\n",
       "Potrero Hill             97.248780\n",
       "Presidio                 97.000000\n",
       "Presidio Heights         96.625000\n",
       "Russian Hill             95.400000\n",
       "Seacliff                 97.526316\n",
       "South of Market          94.621554\n",
       "Treasure Island/YBI            NaN\n",
       "Twin Peaks               96.295082\n",
       "Visitacion Valley        94.960000\n",
       "West of Twin Peaks       96.311475\n",
       "Western Addition         95.771605\n",
       "Name: review_scores_rating, dtype: float64"
      ]
     },
     "execution_count": 26,
     "metadata": {},
     "output_type": "execute_result"
    }
   ],
   "source": [
    "df.groupby('neighbourhood_cleansed')['review_scores_rating'].mean()"
   ]
  },
  {
   "cell_type": "code",
   "execution_count": 27,
   "metadata": {},
   "outputs": [],
   "source": [
    "df[\"review_scores_rating\"] = df.groupby('neighbourhood_cleansed')['review_scores_rating'].transform(lambda x: x.fillna(x.mean()))\n"
   ]
  },
  {
   "cell_type": "code",
   "execution_count": 28,
   "metadata": {},
   "outputs": [
    {
     "data": {
      "text/plain": [
       "host_response_rate           913\n",
       "host_is_superhost              0\n",
       "host_total_listings_count      0\n",
       "neighbourhood_cleansed         0\n",
       "latitude                       0\n",
       "longitude                      0\n",
       "property_type                  0\n",
       "room_type                      0\n",
       "accommodates                   0\n",
       "bathrooms                      0\n",
       "bedrooms                       0\n",
       "beds                           0\n",
       "price                          0\n",
       "guests_included                0\n",
       "extra_people                   0\n",
       "minimum_nights                 0\n",
       "maximum_nights                 0\n",
       "number_of_reviews              0\n",
       "review_scores_rating           1\n",
       "instant_bookable               0\n",
       "dtype: int64"
      ]
     },
     "execution_count": 28,
     "metadata": {},
     "output_type": "execute_result"
    }
   ],
   "source": [
    "df.isnull().sum()"
   ]
  },
  {
   "cell_type": "code",
   "execution_count": 29,
   "metadata": {},
   "outputs": [
    {
     "data": {
      "text/plain": [
       "neighbourhood_cleansed\n",
       "Bayview                  94.083832\n",
       "Bernal Heights           96.817416\n",
       "Castro/Upper Market      97.818919\n",
       "Chinatown                94.654762\n",
       "Crocker Amazon           92.513514\n",
       "Diamond Heights          98.187500\n",
       "Downtown/Civic Center    90.798403\n",
       "Excelsior                95.169697\n",
       "Financial District       94.774194\n",
       "Glen Park                97.440678\n",
       "Golden Gate Park         95.750000\n",
       "Haight Ashbury           95.563636\n",
       "Inner Richmond           94.815642\n",
       "Inner Sunset             96.540541\n",
       "Lakeshore                93.777778\n",
       "Marina                   95.696552\n",
       "Mission                  96.132800\n",
       "Nob Hill                 93.288557\n",
       "Noe Valley               97.017007\n",
       "North Beach              95.094488\n",
       "Ocean View               95.521739\n",
       "Outer Mission            96.128205\n",
       "Outer Richmond           95.660377\n",
       "Outer Sunset             95.289377\n",
       "Pacific Heights          96.515625\n",
       "Parkside                 96.440678\n",
       "Potrero Hill             97.248780\n",
       "Presidio                 97.000000\n",
       "Presidio Heights         96.625000\n",
       "Russian Hill             95.400000\n",
       "Seacliff                 97.526316\n",
       "South of Market          94.621554\n",
       "Treasure Island/YBI            NaN\n",
       "Twin Peaks               96.295082\n",
       "Visitacion Valley        94.960000\n",
       "West of Twin Peaks       96.311475\n",
       "Western Addition         95.771605\n",
       "Name: review_scores_rating, dtype: float64"
      ]
     },
     "execution_count": 29,
     "metadata": {},
     "output_type": "execute_result"
    }
   ],
   "source": [
    "df.groupby('neighbourhood_cleansed')['review_scores_rating'].mean()"
   ]
  },
  {
   "cell_type": "code",
   "execution_count": 30,
   "metadata": {},
   "outputs": [
    {
     "data": {
      "text/plain": [
       "host_response_rate           912\n",
       "host_is_superhost              0\n",
       "host_total_listings_count      0\n",
       "neighbourhood_cleansed         0\n",
       "latitude                       0\n",
       "longitude                      0\n",
       "property_type                  0\n",
       "room_type                      0\n",
       "accommodates                   0\n",
       "bathrooms                      0\n",
       "bedrooms                       0\n",
       "beds                           0\n",
       "price                          0\n",
       "guests_included                0\n",
       "extra_people                   0\n",
       "minimum_nights                 0\n",
       "maximum_nights                 0\n",
       "number_of_reviews              0\n",
       "review_scores_rating           0\n",
       "instant_bookable               0\n",
       "dtype: int64"
      ]
     },
     "execution_count": 30,
     "metadata": {},
     "output_type": "execute_result"
    }
   ],
   "source": [
    "df.dropna(subset=['review_scores_rating'],inplace=True) \n",
    "df.isnull().sum()"
   ]
  },
  {
   "cell_type": "code",
   "execution_count": 8,
   "metadata": {},
   "outputs": [
    {
     "data": {
      "text/html": [
       "<div>\n",
       "<style scoped>\n",
       "    .dataframe tbody tr th:only-of-type {\n",
       "        vertical-align: middle;\n",
       "    }\n",
       "\n",
       "    .dataframe tbody tr th {\n",
       "        vertical-align: top;\n",
       "    }\n",
       "\n",
       "    .dataframe thead th {\n",
       "        text-align: right;\n",
       "    }\n",
       "</style>\n",
       "<table border=\"1\" class=\"dataframe\">\n",
       "  <thead>\n",
       "    <tr style=\"text-align: right;\">\n",
       "      <th></th>\n",
       "      <th>experiences_offered</th>\n",
       "      <th>host_response_rate</th>\n",
       "      <th>host_is_superhost</th>\n",
       "      <th>host_total_listings_count</th>\n",
       "      <th>neighbourhood_cleansed</th>\n",
       "      <th>city</th>\n",
       "      <th>zipcode</th>\n",
       "      <th>latitude</th>\n",
       "      <th>longitude</th>\n",
       "      <th>property_type</th>\n",
       "      <th>room_type</th>\n",
       "      <th>accommodates</th>\n",
       "      <th>bathrooms</th>\n",
       "      <th>bedrooms</th>\n",
       "      <th>beds</th>\n",
       "      <th>square_feet</th>\n",
       "      <th>price</th>\n",
       "      <th>weekly_price</th>\n",
       "      <th>monthly_price</th>\n",
       "      <th>security_deposit</th>\n",
       "      <th>cleaning_fee</th>\n",
       "      <th>guests_included</th>\n",
       "      <th>extra_people</th>\n",
       "      <th>minimum_nights</th>\n",
       "      <th>maximum_nights</th>\n",
       "      <th>number_of_reviews</th>\n",
       "      <th>review_scores_rating</th>\n",
       "      <th>instant_bookable</th>\n",
       "      <th>reviews_per_month</th>\n",
       "    </tr>\n",
       "    <tr>\n",
       "      <th>id</th>\n",
       "      <th></th>\n",
       "      <th></th>\n",
       "      <th></th>\n",
       "      <th></th>\n",
       "      <th></th>\n",
       "      <th></th>\n",
       "      <th></th>\n",
       "      <th></th>\n",
       "      <th></th>\n",
       "      <th></th>\n",
       "      <th></th>\n",
       "      <th></th>\n",
       "      <th></th>\n",
       "      <th></th>\n",
       "      <th></th>\n",
       "      <th></th>\n",
       "      <th></th>\n",
       "      <th></th>\n",
       "      <th></th>\n",
       "      <th></th>\n",
       "      <th></th>\n",
       "      <th></th>\n",
       "      <th></th>\n",
       "      <th></th>\n",
       "      <th></th>\n",
       "      <th></th>\n",
       "      <th></th>\n",
       "      <th></th>\n",
       "      <th></th>\n",
       "    </tr>\n",
       "  </thead>\n",
       "  <tbody>\n",
       "    <tr>\n",
       "      <td>958</td>\n",
       "      <td>none</td>\n",
       "      <td>100%</td>\n",
       "      <td>t</td>\n",
       "      <td>1.0</td>\n",
       "      <td>Western Addition</td>\n",
       "      <td>San Francisco</td>\n",
       "      <td>94117</td>\n",
       "      <td>37.76931</td>\n",
       "      <td>-122.43386</td>\n",
       "      <td>Apartment</td>\n",
       "      <td>Entire home/apt</td>\n",
       "      <td>3</td>\n",
       "      <td>1.0</td>\n",
       "      <td>1.0</td>\n",
       "      <td>2.0</td>\n",
       "      <td>NaN</td>\n",
       "      <td>$170.00</td>\n",
       "      <td>$1,120.00</td>\n",
       "      <td>$4,200.00</td>\n",
       "      <td>$100.00</td>\n",
       "      <td>$100.00</td>\n",
       "      <td>2</td>\n",
       "      <td>$25.00</td>\n",
       "      <td>1</td>\n",
       "      <td>30</td>\n",
       "      <td>217</td>\n",
       "      <td>97.0</td>\n",
       "      <td>f</td>\n",
       "      <td>1.74</td>\n",
       "    </tr>\n",
       "    <tr>\n",
       "      <td>3850</td>\n",
       "      <td>none</td>\n",
       "      <td>100%</td>\n",
       "      <td>t</td>\n",
       "      <td>2.0</td>\n",
       "      <td>Inner Sunset</td>\n",
       "      <td>San Francisco</td>\n",
       "      <td>94131</td>\n",
       "      <td>37.75402</td>\n",
       "      <td>-122.45805</td>\n",
       "      <td>House</td>\n",
       "      <td>Private room</td>\n",
       "      <td>2</td>\n",
       "      <td>1.0</td>\n",
       "      <td>1.0</td>\n",
       "      <td>1.0</td>\n",
       "      <td>NaN</td>\n",
       "      <td>$99.00</td>\n",
       "      <td>NaN</td>\n",
       "      <td>NaN</td>\n",
       "      <td>$0.00</td>\n",
       "      <td>$10.00</td>\n",
       "      <td>2</td>\n",
       "      <td>$20.00</td>\n",
       "      <td>1</td>\n",
       "      <td>5</td>\n",
       "      <td>160</td>\n",
       "      <td>94.0</td>\n",
       "      <td>f</td>\n",
       "      <td>1.28</td>\n",
       "    </tr>\n",
       "    <tr>\n",
       "      <td>5858</td>\n",
       "      <td>none</td>\n",
       "      <td>80%</td>\n",
       "      <td>f</td>\n",
       "      <td>2.0</td>\n",
       "      <td>Bernal Heights</td>\n",
       "      <td>San Francisco</td>\n",
       "      <td>94110</td>\n",
       "      <td>37.74511</td>\n",
       "      <td>-122.42102</td>\n",
       "      <td>Apartment</td>\n",
       "      <td>Entire home/apt</td>\n",
       "      <td>5</td>\n",
       "      <td>1.0</td>\n",
       "      <td>2.0</td>\n",
       "      <td>3.0</td>\n",
       "      <td>NaN</td>\n",
       "      <td>$235.00</td>\n",
       "      <td>$1,600.00</td>\n",
       "      <td>$5,500.00</td>\n",
       "      <td>NaN</td>\n",
       "      <td>$100.00</td>\n",
       "      <td>2</td>\n",
       "      <td>$0.00</td>\n",
       "      <td>30</td>\n",
       "      <td>60</td>\n",
       "      <td>111</td>\n",
       "      <td>98.0</td>\n",
       "      <td>f</td>\n",
       "      <td>0.87</td>\n",
       "    </tr>\n",
       "    <tr>\n",
       "      <td>7918</td>\n",
       "      <td>none</td>\n",
       "      <td>86%</td>\n",
       "      <td>t</td>\n",
       "      <td>10.0</td>\n",
       "      <td>Haight Ashbury</td>\n",
       "      <td>San Francisco</td>\n",
       "      <td>94117</td>\n",
       "      <td>37.76669</td>\n",
       "      <td>-122.45250</td>\n",
       "      <td>Apartment</td>\n",
       "      <td>Private room</td>\n",
       "      <td>2</td>\n",
       "      <td>4.0</td>\n",
       "      <td>1.0</td>\n",
       "      <td>1.0</td>\n",
       "      <td>NaN</td>\n",
       "      <td>$65.00</td>\n",
       "      <td>$485.00</td>\n",
       "      <td>$1,685.00</td>\n",
       "      <td>$200.00</td>\n",
       "      <td>$50.00</td>\n",
       "      <td>1</td>\n",
       "      <td>$12.00</td>\n",
       "      <td>32</td>\n",
       "      <td>60</td>\n",
       "      <td>18</td>\n",
       "      <td>86.0</td>\n",
       "      <td>f</td>\n",
       "      <td>0.15</td>\n",
       "    </tr>\n",
       "    <tr>\n",
       "      <td>8142</td>\n",
       "      <td>none</td>\n",
       "      <td>86%</td>\n",
       "      <td>t</td>\n",
       "      <td>10.0</td>\n",
       "      <td>Haight Ashbury</td>\n",
       "      <td>San Francisco</td>\n",
       "      <td>94117</td>\n",
       "      <td>37.76487</td>\n",
       "      <td>-122.45183</td>\n",
       "      <td>Apartment</td>\n",
       "      <td>Private room</td>\n",
       "      <td>2</td>\n",
       "      <td>4.0</td>\n",
       "      <td>1.0</td>\n",
       "      <td>1.0</td>\n",
       "      <td>NaN</td>\n",
       "      <td>$65.00</td>\n",
       "      <td>$490.00</td>\n",
       "      <td>$1,685.00</td>\n",
       "      <td>$200.00</td>\n",
       "      <td>$50.00</td>\n",
       "      <td>1</td>\n",
       "      <td>$12.00</td>\n",
       "      <td>32</td>\n",
       "      <td>90</td>\n",
       "      <td>8</td>\n",
       "      <td>93.0</td>\n",
       "      <td>f</td>\n",
       "      <td>0.13</td>\n",
       "    </tr>\n",
       "  </tbody>\n",
       "</table>\n",
       "</div>"
      ],
      "text/plain": [
       "     experiences_offered host_response_rate host_is_superhost  \\\n",
       "id                                                              \n",
       "958                 none               100%                 t   \n",
       "3850                none               100%                 t   \n",
       "5858                none                80%                 f   \n",
       "7918                none                86%                 t   \n",
       "8142                none                86%                 t   \n",
       "\n",
       "      host_total_listings_count neighbourhood_cleansed           city zipcode  \\\n",
       "id                                                                              \n",
       "958                         1.0       Western Addition  San Francisco   94117   \n",
       "3850                        2.0           Inner Sunset  San Francisco   94131   \n",
       "5858                        2.0         Bernal Heights  San Francisco   94110   \n",
       "7918                       10.0         Haight Ashbury  San Francisco   94117   \n",
       "8142                       10.0         Haight Ashbury  San Francisco   94117   \n",
       "\n",
       "      latitude  longitude property_type        room_type  accommodates  \\\n",
       "id                                                                       \n",
       "958   37.76931 -122.43386     Apartment  Entire home/apt             3   \n",
       "3850  37.75402 -122.45805         House     Private room             2   \n",
       "5858  37.74511 -122.42102     Apartment  Entire home/apt             5   \n",
       "7918  37.76669 -122.45250     Apartment     Private room             2   \n",
       "8142  37.76487 -122.45183     Apartment     Private room             2   \n",
       "\n",
       "      bathrooms  bedrooms  beds  square_feet     price weekly_price  \\\n",
       "id                                                                    \n",
       "958         1.0       1.0   2.0          NaN  $170.00    $1,120.00    \n",
       "3850        1.0       1.0   1.0          NaN   $99.00           NaN   \n",
       "5858        1.0       2.0   3.0          NaN  $235.00    $1,600.00    \n",
       "7918        4.0       1.0   1.0          NaN   $65.00      $485.00    \n",
       "8142        4.0       1.0   1.0          NaN   $65.00      $490.00    \n",
       "\n",
       "     monthly_price security_deposit cleaning_fee  guests_included  \\\n",
       "id                                                                  \n",
       "958     $4,200.00          $100.00      $100.00                 2   \n",
       "3850           NaN           $0.00       $10.00                 2   \n",
       "5858    $5,500.00               NaN     $100.00                 2   \n",
       "7918    $1,685.00          $200.00       $50.00                 1   \n",
       "8142    $1,685.00          $200.00       $50.00                 1   \n",
       "\n",
       "     extra_people  minimum_nights  maximum_nights  number_of_reviews  \\\n",
       "id                                                                     \n",
       "958       $25.00                1              30                217   \n",
       "3850      $20.00                1               5                160   \n",
       "5858       $0.00               30              60                111   \n",
       "7918      $12.00               32              60                 18   \n",
       "8142      $12.00               32              90                  8   \n",
       "\n",
       "      review_scores_rating instant_bookable  reviews_per_month  \n",
       "id                                                              \n",
       "958                   97.0                f               1.74  \n",
       "3850                  94.0                f               1.28  \n",
       "5858                  98.0                f               0.87  \n",
       "7918                  86.0                f               0.15  \n",
       "8142                  93.0                f               0.13  "
      ]
     },
     "execution_count": 8,
     "metadata": {},
     "output_type": "execute_result"
    }
   ],
   "source": [
    "df.head()"
   ]
  },
  {
   "cell_type": "markdown",
   "metadata": {},
   "source": [
    "## Exporting Dropped Columns"
   ]
  },
  {
   "cell_type": "code",
   "execution_count": 11,
   "metadata": {},
   "outputs": [],
   "source": [
    "df.to_csv('listingscleanFINAL.csv')"
   ]
  },
  {
   "cell_type": "code",
   "execution_count": null,
   "metadata": {},
   "outputs": [],
   "source": []
  }
 ],
 "metadata": {
  "kernelspec": {
   "display_name": "Python 3",
   "language": "python",
   "name": "python3"
  },
  "language_info": {
   "codemirror_mode": {
    "name": "ipython",
    "version": 3
   },
   "file_extension": ".py",
   "mimetype": "text/x-python",
   "name": "python",
   "nbconvert_exporter": "python",
   "pygments_lexer": "ipython3",
   "version": "3.7.4"
  }
 },
 "nbformat": 4,
 "nbformat_minor": 2
}
